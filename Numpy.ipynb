{
  "nbformat": 4,
  "nbformat_minor": 0,
  "metadata": {
    "colab": {
      "provenance": [],
      "authorship_tag": "ABX9TyNlpCtIzvqjEgyLBcVj/LHD",
      "include_colab_link": true
    },
    "kernelspec": {
      "name": "python3",
      "display_name": "Python 3"
    },
    "language_info": {
      "name": "python"
    }
  },
  "cells": [
    {
      "cell_type": "markdown",
      "metadata": {
        "id": "view-in-github",
        "colab_type": "text"
      },
      "source": [
        "<a href=\"https://colab.research.google.com/github/SamanMansoor/Data-Science/blob/main/Numpy.ipynb\" target=\"_parent\"><img src=\"https://colab.research.google.com/assets/colab-badge.svg\" alt=\"Open In Colab\"/></a>"
      ]
    },
    {
      "cell_type": "code",
      "source": [
        "!pip install flask"
      ],
      "metadata": {
        "colab": {
          "base_uri": "https://localhost:8080/"
        },
        "id": "qrELqsLqP5iV",
        "outputId": "b2895ea7-e936-4672-d5f1-23c50bfe0e72"
      },
      "execution_count": null,
      "outputs": [
        {
          "output_type": "stream",
          "name": "stdout",
          "text": [
            "Looking in indexes: https://pypi.org/simple, https://us-python.pkg.dev/colab-wheels/public/simple/\n",
            "Requirement already satisfied: flask in /usr/local/lib/python3.8/dist-packages (2.2.3)\n",
            "Requirement already satisfied: itsdangerous>=2.0 in /usr/local/lib/python3.8/dist-packages (from flask) (2.1.2)\n",
            "Requirement already satisfied: click>=8.0 in /usr/local/lib/python3.8/dist-packages (from flask) (8.1.3)\n",
            "Requirement already satisfied: importlib-metadata>=3.6.0 in /usr/local/lib/python3.8/dist-packages (from flask) (6.0.0)\n",
            "Requirement already satisfied: Werkzeug>=2.2.2 in /usr/local/lib/python3.8/dist-packages (from flask) (2.2.3)\n",
            "Requirement already satisfied: Jinja2>=3.0 in /usr/local/lib/python3.8/dist-packages (from flask) (3.1.2)\n",
            "Requirement already satisfied: zipp>=0.5 in /usr/local/lib/python3.8/dist-packages (from importlib-metadata>=3.6.0->flask) (3.15.0)\n",
            "Requirement already satisfied: MarkupSafe>=2.0 in /usr/local/lib/python3.8/dist-packages (from Jinja2>=3.0->flask) (2.1.2)\n"
          ]
        }
      ]
    },
    {
      "cell_type": "code",
      "source": [
        "import numpy as np\n",
        "from fractions import Fraction\n",
        "\n",
        "\n",
        "\n",
        "def solution(m):\n",
        "    # matrix attributes\n",
        "    matsize = len(m)\n",
        "    rowsum = [sum(r) for r in m]\n",
        "\n",
        "    if rowsum[0] == 0:\n",
        "        return [1, 1]\n",
        "\n",
        "    # dict indicating which row has all 0\n",
        "    dictrz = dict(zip(list(i for i in range(len(m))), \n",
        "                    list(0 if i == 0 else 1 for i in rowsum)))\n",
        "        # Sorted\n",
        "    dictrzs = {k: v for k, v in sorted(dictrz.items(), key=lambda item: item[1])}\n",
        "\n",
        "    # Number of rows with all zero vs. not\n",
        "    numallz = list(dictrz.values()).count(0)\n",
        "    numnonz = len(m) - numallz\n",
        "\n",
        "    # transform matrix to Absorbing Markov Chain standard form\n",
        "    arr = np.array(m)\n",
        "    # Move rows with all 0 to top\n",
        "    arrR = arr[list(dictrzs.keys()), :]\n",
        "    # shifting column order correspondingly\n",
        "    arrRC = arrR[:, list(dictrzs.keys())]\n",
        "\n",
        "    # Replace number with fraction\n",
        "    newrowsum = [sum(r) for r in arrRC]\n",
        "    newmat = []\n",
        "    for i in range(len(arrRC)):\n",
        "        newmat.append(list(map(lambda x: 0 if newrowsum[i] == 0 \n",
        "                            else x / newrowsum[i], arrRC[i])))\n",
        "\n",
        "    newarr = np.array(newmat)\n",
        "\n",
        "    # Obtain FR\n",
        "    Q = newarr[numallz:, numallz:]\n",
        "    R = newarr[numallz:, :numallz]\n",
        "    ImQ = np.subtract(np.identity(numnonz), Q)\n",
        "    F = np.linalg.inv(ImQ)\n",
        "    FR = np.matmul(F, R)\n",
        "    # Fractionize FR\n",
        "    FRf = []\n",
        "    for i in range(numnonz):\n",
        "        FRf.append([Fraction.from_float(x).limit_denominator(max_denominator = 2**32) for x in FR[i]])\n",
        "\n",
        "    print(FRf)\n",
        "    # Transform final result\n",
        "    maxd = max(list(map(lambda x: x.denominator, FRf[0])))\n",
        "    indv = list(map(lambda x: (x*maxd).numerator, FRf[0]))\n",
        "    return list(indv + [maxd])"
      ],
      "metadata": {
        "id": "9z5QklgFY2Jn"
      },
      "execution_count": null,
      "outputs": []
    },
    {
      "cell_type": "code",
      "source": [
        "m = [\n",
        "        [0, 1, 0, 0, 0, 1],\n",
        "        [4, 0, 0, 3, 2, 0],\n",
        "        [0, 0, 0, 0, 0, 0],\n",
        "        [0, 0, 0, 0, 0, 0],\n",
        "        [0, 0, 0, 0, 0, 0],\n",
        "        [0, 0, 0, 0, 0, 0]\n",
        "    ]\n",
        "print(solution(m))"
      ],
      "metadata": {
        "colab": {
          "base_uri": "https://localhost:8080/"
        },
        "id": "Inpp-npTUTMk",
        "outputId": "942c3cca-59d2-4284-949c-848513a0da1c"
      },
      "execution_count": null,
      "outputs": [
        {
          "output_type": "stream",
          "name": "stdout",
          "text": [
            "[[Fraction(0, 1), Fraction(3, 14), Fraction(1, 7), Fraction(9, 14)], [Fraction(0, 1), Fraction(3, 7), Fraction(2, 7), Fraction(2, 7)]]\n",
            "[0, 3, 2, 9, 14]\n"
          ]
        }
      ]
    },
    {
      "cell_type": "code",
      "source": [
        "m = [\n",
        "    [0, 2, 1, 0, 0], \n",
        "    [0, 0, 0, 3, 4], \n",
        "    [0, 0, 0, 0, 0], \n",
        "    [0, 0, 0, 0, 0], \n",
        "    [0, 0, 0, 0, 0]\n",
        "]\n",
        "print(solution(m))"
      ],
      "metadata": {
        "colab": {
          "base_uri": "https://localhost:8080/"
        },
        "id": "qTgMxH3de11w",
        "outputId": "102ef7aa-76c3-4980-a96b-659b43eda49e"
      },
      "execution_count": null,
      "outputs": [
        {
          "output_type": "stream",
          "name": "stdout",
          "text": [
            "[[Fraction(1, 3), Fraction(2, 7), Fraction(8, 21)], [Fraction(0, 1), Fraction(3, 7), Fraction(4, 7)]]\n",
            "[7, 6, 8, 21]\n"
          ]
        }
      ]
    }
  ]
}