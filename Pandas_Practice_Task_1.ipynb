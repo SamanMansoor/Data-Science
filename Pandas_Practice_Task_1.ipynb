{
  "nbformat": 4,
  "nbformat_minor": 0,
  "metadata": {
    "colab": {
      "provenance": [],
      "authorship_tag": "ABX9TyPYx9nhukNRlPeEW4IsXCWj",
      "include_colab_link": true
    },
    "kernelspec": {
      "name": "python3",
      "display_name": "Python 3"
    },
    "language_info": {
      "name": "python"
    }
  },
  "cells": [
    {
      "cell_type": "markdown",
      "metadata": {
        "id": "view-in-github",
        "colab_type": "text"
      },
      "source": [
        "<a href=\"https://colab.research.google.com/github/SamanMansoor/Data-Science/blob/main/Pandas_Practice_Task_1.ipynb\" target=\"_parent\"><img src=\"https://colab.research.google.com/assets/colab-badge.svg\" alt=\"Open In Colab\"/></a>"
      ]
    },
    {
      "cell_type": "markdown",
      "source": [
        "# **Task 1 Pandas Practice**"
      ],
      "metadata": {
        "id": "5xwtvXJaYUPd"
      }
    },
    {
      "cell_type": "code",
      "execution_count": null,
      "metadata": {
        "colab": {
          "base_uri": "https://localhost:8080/"
        },
        "id": "tY2wMvwBX9to",
        "outputId": "897edcc1-b5fb-4add-bcea-d32e8b8f7a0d"
      },
      "outputs": [
        {
          "output_type": "stream",
          "name": "stdout",
          "text": [
            "Downloading data from https://storage.googleapis.com/tensorflow/tf-keras-datasets/mnist.npz\n",
            "11490434/11490434 [==============================] - 0s 0us/step\n"
          ]
        }
      ],
      "source": [
        "import pandas as pd\n",
        "import tensorflow.keras as tk\n",
        "mnist = tk.datasets.mnist\n",
        "dataset = keras.datasets.mnist.load_data()\n",
        "\n",
        "\n",
        "train_df = pd.DataFrame(list(zip(dataset[0][0], dataset[0][1])), columns =['image', 'label'])\n",
        "\n",
        "test_df = pd.DataFrame(list(zip(dataset[0][0], dataset[0][1])), columns =['image', 'label'])"
      ]
    },
    {
      "cell_type": "markdown",
      "source": [
        "# **Part 1 convert into CSV format**"
      ],
      "metadata": {
        "id": "CHUbanncfsRu"
      }
    },
    {
      "cell_type": "code",
      "source": [
        "tf_train=train_df.to_csv('mnsit_data_train.csv',index=False)\n",
        "read=pd.read_csv('mnsit_data_train.csv')"
      ],
      "metadata": {
        "id": "J8QybizycTJ5"
      },
      "execution_count": null,
      "outputs": []
    },
    {
      "cell_type": "code",
      "source": [
        "read.head(10)"
      ],
      "metadata": {
        "colab": {
          "base_uri": "https://localhost:8080/",
          "height": 363
        },
        "id": "Wa0uz0Jsc8kl",
        "outputId": "50053275-32c8-4a3e-b610-5c87d71006ba"
      },
      "execution_count": null,
      "outputs": [
        {
          "output_type": "execute_result",
          "data": {
            "text/plain": [
              "                                               image  label\n",
              "0  [[  0   0   0   0   0   0   0   0   0   0   0 ...      5\n",
              "1  [[  0   0   0   0   0   0   0   0   0   0   0 ...      0\n",
              "2  [[  0   0   0   0   0   0   0   0   0   0   0 ...      4\n",
              "3  [[  0   0   0   0   0   0   0   0   0   0   0 ...      1\n",
              "4  [[  0   0   0   0   0   0   0   0   0   0   0 ...      9\n",
              "5  [[  0   0   0   0   0   0   0   0   0   0   0 ...      2\n",
              "6  [[  0   0   0   0   0   0   0   0   0   0   0 ...      1\n",
              "7  [[  0   0   0   0   0   0   0   0   0   0   0 ...      3\n",
              "8  [[  0   0   0   0   0   0   0   0   0   0   0 ...      1\n",
              "9  [[  0   0   0   0   0   0   0   0   0   0   0 ...      4"
            ],
            "text/html": [
              "\n",
              "  <div id=\"df-3903043b-7c35-43c0-baf1-319ead1830a9\">\n",
              "    <div class=\"colab-df-container\">\n",
              "      <div>\n",
              "<style scoped>\n",
              "    .dataframe tbody tr th:only-of-type {\n",
              "        vertical-align: middle;\n",
              "    }\n",
              "\n",
              "    .dataframe tbody tr th {\n",
              "        vertical-align: top;\n",
              "    }\n",
              "\n",
              "    .dataframe thead th {\n",
              "        text-align: right;\n",
              "    }\n",
              "</style>\n",
              "<table border=\"1\" class=\"dataframe\">\n",
              "  <thead>\n",
              "    <tr style=\"text-align: right;\">\n",
              "      <th></th>\n",
              "      <th>image</th>\n",
              "      <th>label</th>\n",
              "    </tr>\n",
              "  </thead>\n",
              "  <tbody>\n",
              "    <tr>\n",
              "      <th>0</th>\n",
              "      <td>[[  0   0   0   0   0   0   0   0   0   0   0 ...</td>\n",
              "      <td>5</td>\n",
              "    </tr>\n",
              "    <tr>\n",
              "      <th>1</th>\n",
              "      <td>[[  0   0   0   0   0   0   0   0   0   0   0 ...</td>\n",
              "      <td>0</td>\n",
              "    </tr>\n",
              "    <tr>\n",
              "      <th>2</th>\n",
              "      <td>[[  0   0   0   0   0   0   0   0   0   0   0 ...</td>\n",
              "      <td>4</td>\n",
              "    </tr>\n",
              "    <tr>\n",
              "      <th>3</th>\n",
              "      <td>[[  0   0   0   0   0   0   0   0   0   0   0 ...</td>\n",
              "      <td>1</td>\n",
              "    </tr>\n",
              "    <tr>\n",
              "      <th>4</th>\n",
              "      <td>[[  0   0   0   0   0   0   0   0   0   0   0 ...</td>\n",
              "      <td>9</td>\n",
              "    </tr>\n",
              "    <tr>\n",
              "      <th>5</th>\n",
              "      <td>[[  0   0   0   0   0   0   0   0   0   0   0 ...</td>\n",
              "      <td>2</td>\n",
              "    </tr>\n",
              "    <tr>\n",
              "      <th>6</th>\n",
              "      <td>[[  0   0   0   0   0   0   0   0   0   0   0 ...</td>\n",
              "      <td>1</td>\n",
              "    </tr>\n",
              "    <tr>\n",
              "      <th>7</th>\n",
              "      <td>[[  0   0   0   0   0   0   0   0   0   0   0 ...</td>\n",
              "      <td>3</td>\n",
              "    </tr>\n",
              "    <tr>\n",
              "      <th>8</th>\n",
              "      <td>[[  0   0   0   0   0   0   0   0   0   0   0 ...</td>\n",
              "      <td>1</td>\n",
              "    </tr>\n",
              "    <tr>\n",
              "      <th>9</th>\n",
              "      <td>[[  0   0   0   0   0   0   0   0   0   0   0 ...</td>\n",
              "      <td>4</td>\n",
              "    </tr>\n",
              "  </tbody>\n",
              "</table>\n",
              "</div>\n",
              "      <button class=\"colab-df-convert\" onclick=\"convertToInteractive('df-3903043b-7c35-43c0-baf1-319ead1830a9')\"\n",
              "              title=\"Convert this dataframe to an interactive table.\"\n",
              "              style=\"display:none;\">\n",
              "        \n",
              "  <svg xmlns=\"http://www.w3.org/2000/svg\" height=\"24px\"viewBox=\"0 0 24 24\"\n",
              "       width=\"24px\">\n",
              "    <path d=\"M0 0h24v24H0V0z\" fill=\"none\"/>\n",
              "    <path d=\"M18.56 5.44l.94 2.06.94-2.06 2.06-.94-2.06-.94-.94-2.06-.94 2.06-2.06.94zm-11 1L8.5 8.5l.94-2.06 2.06-.94-2.06-.94L8.5 2.5l-.94 2.06-2.06.94zm10 10l.94 2.06.94-2.06 2.06-.94-2.06-.94-.94-2.06-.94 2.06-2.06.94z\"/><path d=\"M17.41 7.96l-1.37-1.37c-.4-.4-.92-.59-1.43-.59-.52 0-1.04.2-1.43.59L10.3 9.45l-7.72 7.72c-.78.78-.78 2.05 0 2.83L4 21.41c.39.39.9.59 1.41.59.51 0 1.02-.2 1.41-.59l7.78-7.78 2.81-2.81c.8-.78.8-2.07 0-2.86zM5.41 20L4 18.59l7.72-7.72 1.47 1.35L5.41 20z\"/>\n",
              "  </svg>\n",
              "      </button>\n",
              "      \n",
              "  <style>\n",
              "    .colab-df-container {\n",
              "      display:flex;\n",
              "      flex-wrap:wrap;\n",
              "      gap: 12px;\n",
              "    }\n",
              "\n",
              "    .colab-df-convert {\n",
              "      background-color: #E8F0FE;\n",
              "      border: none;\n",
              "      border-radius: 50%;\n",
              "      cursor: pointer;\n",
              "      display: none;\n",
              "      fill: #1967D2;\n",
              "      height: 32px;\n",
              "      padding: 0 0 0 0;\n",
              "      width: 32px;\n",
              "    }\n",
              "\n",
              "    .colab-df-convert:hover {\n",
              "      background-color: #E2EBFA;\n",
              "      box-shadow: 0px 1px 2px rgba(60, 64, 67, 0.3), 0px 1px 3px 1px rgba(60, 64, 67, 0.15);\n",
              "      fill: #174EA6;\n",
              "    }\n",
              "\n",
              "    [theme=dark] .colab-df-convert {\n",
              "      background-color: #3B4455;\n",
              "      fill: #D2E3FC;\n",
              "    }\n",
              "\n",
              "    [theme=dark] .colab-df-convert:hover {\n",
              "      background-color: #434B5C;\n",
              "      box-shadow: 0px 1px 3px 1px rgba(0, 0, 0, 0.15);\n",
              "      filter: drop-shadow(0px 1px 2px rgba(0, 0, 0, 0.3));\n",
              "      fill: #FFFFFF;\n",
              "    }\n",
              "  </style>\n",
              "\n",
              "      <script>\n",
              "        const buttonEl =\n",
              "          document.querySelector('#df-3903043b-7c35-43c0-baf1-319ead1830a9 button.colab-df-convert');\n",
              "        buttonEl.style.display =\n",
              "          google.colab.kernel.accessAllowed ? 'block' : 'none';\n",
              "\n",
              "        async function convertToInteractive(key) {\n",
              "          const element = document.querySelector('#df-3903043b-7c35-43c0-baf1-319ead1830a9');\n",
              "          const dataTable =\n",
              "            await google.colab.kernel.invokeFunction('convertToInteractive',\n",
              "                                                     [key], {});\n",
              "          if (!dataTable) return;\n",
              "\n",
              "          const docLinkHtml = 'Like what you see? Visit the ' +\n",
              "            '<a target=\"_blank\" href=https://colab.research.google.com/notebooks/data_table.ipynb>data table notebook</a>'\n",
              "            + ' to learn more about interactive tables.';\n",
              "          element.innerHTML = '';\n",
              "          dataTable['output_type'] = 'display_data';\n",
              "          await google.colab.output.renderOutput(dataTable, element);\n",
              "          const docLink = document.createElement('div');\n",
              "          docLink.innerHTML = docLinkHtml;\n",
              "          element.appendChild(docLink);\n",
              "        }\n",
              "      </script>\n",
              "    </div>\n",
              "  </div>\n",
              "  "
            ]
          },
          "metadata": {},
          "execution_count": 7
        }
      ]
    },
    {
      "cell_type": "code",
      "source": [
        "tf_test=test_df.to_csv('mnsit_data_test.csv',index=False)\n",
        "read=pd.read_csv('mnsit_data_test.csv')"
      ],
      "metadata": {
        "id": "Qg4aifXTc8hq"
      },
      "execution_count": null,
      "outputs": []
    },
    {
      "cell_type": "code",
      "source": [
        "read.head(10)"
      ],
      "metadata": {
        "colab": {
          "base_uri": "https://localhost:8080/",
          "height": 363
        },
        "id": "BKBDAL78dNJm",
        "outputId": "53a239ac-5f15-4672-f3b7-e729a7a095c4"
      },
      "execution_count": null,
      "outputs": [
        {
          "output_type": "execute_result",
          "data": {
            "text/plain": [
              "                                               image  label\n",
              "0  [[  0   0   0   0   0   0   0   0   0   0   0 ...      5\n",
              "1  [[  0   0   0   0   0   0   0   0   0   0   0 ...      0\n",
              "2  [[  0   0   0   0   0   0   0   0   0   0   0 ...      4\n",
              "3  [[  0   0   0   0   0   0   0   0   0   0   0 ...      1\n",
              "4  [[  0   0   0   0   0   0   0   0   0   0   0 ...      9\n",
              "5  [[  0   0   0   0   0   0   0   0   0   0   0 ...      2\n",
              "6  [[  0   0   0   0   0   0   0   0   0   0   0 ...      1\n",
              "7  [[  0   0   0   0   0   0   0   0   0   0   0 ...      3\n",
              "8  [[  0   0   0   0   0   0   0   0   0   0   0 ...      1\n",
              "9  [[  0   0   0   0   0   0   0   0   0   0   0 ...      4"
            ],
            "text/html": [
              "\n",
              "  <div id=\"df-0b4fdced-486f-433a-92ec-e060b73c4e9a\">\n",
              "    <div class=\"colab-df-container\">\n",
              "      <div>\n",
              "<style scoped>\n",
              "    .dataframe tbody tr th:only-of-type {\n",
              "        vertical-align: middle;\n",
              "    }\n",
              "\n",
              "    .dataframe tbody tr th {\n",
              "        vertical-align: top;\n",
              "    }\n",
              "\n",
              "    .dataframe thead th {\n",
              "        text-align: right;\n",
              "    }\n",
              "</style>\n",
              "<table border=\"1\" class=\"dataframe\">\n",
              "  <thead>\n",
              "    <tr style=\"text-align: right;\">\n",
              "      <th></th>\n",
              "      <th>image</th>\n",
              "      <th>label</th>\n",
              "    </tr>\n",
              "  </thead>\n",
              "  <tbody>\n",
              "    <tr>\n",
              "      <th>0</th>\n",
              "      <td>[[  0   0   0   0   0   0   0   0   0   0   0 ...</td>\n",
              "      <td>5</td>\n",
              "    </tr>\n",
              "    <tr>\n",
              "      <th>1</th>\n",
              "      <td>[[  0   0   0   0   0   0   0   0   0   0   0 ...</td>\n",
              "      <td>0</td>\n",
              "    </tr>\n",
              "    <tr>\n",
              "      <th>2</th>\n",
              "      <td>[[  0   0   0   0   0   0   0   0   0   0   0 ...</td>\n",
              "      <td>4</td>\n",
              "    </tr>\n",
              "    <tr>\n",
              "      <th>3</th>\n",
              "      <td>[[  0   0   0   0   0   0   0   0   0   0   0 ...</td>\n",
              "      <td>1</td>\n",
              "    </tr>\n",
              "    <tr>\n",
              "      <th>4</th>\n",
              "      <td>[[  0   0   0   0   0   0   0   0   0   0   0 ...</td>\n",
              "      <td>9</td>\n",
              "    </tr>\n",
              "    <tr>\n",
              "      <th>5</th>\n",
              "      <td>[[  0   0   0   0   0   0   0   0   0   0   0 ...</td>\n",
              "      <td>2</td>\n",
              "    </tr>\n",
              "    <tr>\n",
              "      <th>6</th>\n",
              "      <td>[[  0   0   0   0   0   0   0   0   0   0   0 ...</td>\n",
              "      <td>1</td>\n",
              "    </tr>\n",
              "    <tr>\n",
              "      <th>7</th>\n",
              "      <td>[[  0   0   0   0   0   0   0   0   0   0   0 ...</td>\n",
              "      <td>3</td>\n",
              "    </tr>\n",
              "    <tr>\n",
              "      <th>8</th>\n",
              "      <td>[[  0   0   0   0   0   0   0   0   0   0   0 ...</td>\n",
              "      <td>1</td>\n",
              "    </tr>\n",
              "    <tr>\n",
              "      <th>9</th>\n",
              "      <td>[[  0   0   0   0   0   0   0   0   0   0   0 ...</td>\n",
              "      <td>4</td>\n",
              "    </tr>\n",
              "  </tbody>\n",
              "</table>\n",
              "</div>\n",
              "      <button class=\"colab-df-convert\" onclick=\"convertToInteractive('df-0b4fdced-486f-433a-92ec-e060b73c4e9a')\"\n",
              "              title=\"Convert this dataframe to an interactive table.\"\n",
              "              style=\"display:none;\">\n",
              "        \n",
              "  <svg xmlns=\"http://www.w3.org/2000/svg\" height=\"24px\"viewBox=\"0 0 24 24\"\n",
              "       width=\"24px\">\n",
              "    <path d=\"M0 0h24v24H0V0z\" fill=\"none\"/>\n",
              "    <path d=\"M18.56 5.44l.94 2.06.94-2.06 2.06-.94-2.06-.94-.94-2.06-.94 2.06-2.06.94zm-11 1L8.5 8.5l.94-2.06 2.06-.94-2.06-.94L8.5 2.5l-.94 2.06-2.06.94zm10 10l.94 2.06.94-2.06 2.06-.94-2.06-.94-.94-2.06-.94 2.06-2.06.94z\"/><path d=\"M17.41 7.96l-1.37-1.37c-.4-.4-.92-.59-1.43-.59-.52 0-1.04.2-1.43.59L10.3 9.45l-7.72 7.72c-.78.78-.78 2.05 0 2.83L4 21.41c.39.39.9.59 1.41.59.51 0 1.02-.2 1.41-.59l7.78-7.78 2.81-2.81c.8-.78.8-2.07 0-2.86zM5.41 20L4 18.59l7.72-7.72 1.47 1.35L5.41 20z\"/>\n",
              "  </svg>\n",
              "      </button>\n",
              "      \n",
              "  <style>\n",
              "    .colab-df-container {\n",
              "      display:flex;\n",
              "      flex-wrap:wrap;\n",
              "      gap: 12px;\n",
              "    }\n",
              "\n",
              "    .colab-df-convert {\n",
              "      background-color: #E8F0FE;\n",
              "      border: none;\n",
              "      border-radius: 50%;\n",
              "      cursor: pointer;\n",
              "      display: none;\n",
              "      fill: #1967D2;\n",
              "      height: 32px;\n",
              "      padding: 0 0 0 0;\n",
              "      width: 32px;\n",
              "    }\n",
              "\n",
              "    .colab-df-convert:hover {\n",
              "      background-color: #E2EBFA;\n",
              "      box-shadow: 0px 1px 2px rgba(60, 64, 67, 0.3), 0px 1px 3px 1px rgba(60, 64, 67, 0.15);\n",
              "      fill: #174EA6;\n",
              "    }\n",
              "\n",
              "    [theme=dark] .colab-df-convert {\n",
              "      background-color: #3B4455;\n",
              "      fill: #D2E3FC;\n",
              "    }\n",
              "\n",
              "    [theme=dark] .colab-df-convert:hover {\n",
              "      background-color: #434B5C;\n",
              "      box-shadow: 0px 1px 3px 1px rgba(0, 0, 0, 0.15);\n",
              "      filter: drop-shadow(0px 1px 2px rgba(0, 0, 0, 0.3));\n",
              "      fill: #FFFFFF;\n",
              "    }\n",
              "  </style>\n",
              "\n",
              "      <script>\n",
              "        const buttonEl =\n",
              "          document.querySelector('#df-0b4fdced-486f-433a-92ec-e060b73c4e9a button.colab-df-convert');\n",
              "        buttonEl.style.display =\n",
              "          google.colab.kernel.accessAllowed ? 'block' : 'none';\n",
              "\n",
              "        async function convertToInteractive(key) {\n",
              "          const element = document.querySelector('#df-0b4fdced-486f-433a-92ec-e060b73c4e9a');\n",
              "          const dataTable =\n",
              "            await google.colab.kernel.invokeFunction('convertToInteractive',\n",
              "                                                     [key], {});\n",
              "          if (!dataTable) return;\n",
              "\n",
              "          const docLinkHtml = 'Like what you see? Visit the ' +\n",
              "            '<a target=\"_blank\" href=https://colab.research.google.com/notebooks/data_table.ipynb>data table notebook</a>'\n",
              "            + ' to learn more about interactive tables.';\n",
              "          element.innerHTML = '';\n",
              "          dataTable['output_type'] = 'display_data';\n",
              "          await google.colab.output.renderOutput(dataTable, element);\n",
              "          const docLink = document.createElement('div');\n",
              "          docLink.innerHTML = docLinkHtml;\n",
              "          element.appendChild(docLink);\n",
              "        }\n",
              "      </script>\n",
              "    </div>\n",
              "  </div>\n",
              "  "
            ]
          },
          "metadata": {},
          "execution_count": 9
        }
      ]
    },
    {
      "cell_type": "markdown",
      "source": [
        "# **Part 2 Convert into Original Format**"
      ],
      "metadata": {
        "id": "pMQT_dmSfhAs"
      }
    },
    {
      "cell_type": "code",
      "source": [
        "#Test Mnsit Dataset \n",
        "import numpy as np\n",
        "import csv\n",
        "csv_numpy=('mnsit_data_test.csv')\n",
        "with open (csv_numpy) as f:\n",
        " read=csv.reader(f)\n",
        " lists=list(read)\n",
        " test_numpy=np.array(lists)\n",
        " print(test_numpy)\n",
        "\n",
        " #Train Mnsit Dataset\n",
        "\n",
        "import numpy as np\n",
        "import csv\n",
        "csv_numpy=('mnsit_data_train.csv')\n",
        "with open (csv_numpy) as f:\n",
        "  read=csv.reader(f)\n",
        "  lists=list(read)\n",
        "  train_numpy=np.array(lists)\n",
        "  print(train_numpy)\n"
      ],
      "metadata": {
        "colab": {
          "base_uri": "https://localhost:8080/"
        },
        "id": "w5gX2zAddRDn",
        "outputId": "38413079-c5b9-409d-8bbd-4b22b1f543d8"
      },
      "execution_count": null,
      "outputs": [
        {
          "output_type": "stream",
          "name": "stdout",
          "text": [
            "[['image' 'label']\n",
            " ['[[  0   0   0   0   0   0   0   0   0   0   0   0   0   0   0   0   0   0\\n    0   0   0   0   0   0   0   0   0   0]\\n [  0   0   0   0   0   0   0   0   0   0   0   0   0   0   0   0   0   0\\n    0   0   0   0   0   0   0   0   0   0]\\n [  0   0   0   0   0   0   0   0   0   0   0   0   0   0   0   0   0   0\\n    0   0   0   0   0   0   0   0   0   0]\\n [  0   0   0   0   0   0   0   0   0   0   0   0   0   0   0   0   0   0\\n    0   0   0   0   0   0   0   0   0   0]\\n [  0   0   0   0   0   0   0   0   0   0   0   0   0   0   0   0   0   0\\n    0   0   0   0   0   0   0   0   0   0]\\n [  0   0   0   0   0   0   0   0   0   0   0   0   3  18  18  18 126 136\\n  175  26 166 255 247 127   0   0   0   0]\\n [  0   0   0   0   0   0   0   0  30  36  94 154 170 253 253 253 253 253\\n  225 172 253 242 195  64   0   0   0   0]\\n [  0   0   0   0   0   0   0  49 238 253 253 253 253 253 253 253 253 251\\n   93  82  82  56  39   0   0   0   0   0]\\n [  0   0   0   0   0   0   0  18 219 253 253 253 253 253 198 182 247 241\\n    0   0   0   0   0   0   0   0   0   0]\\n [  0   0   0   0   0   0   0   0  80 156 107 253 253 205  11   0  43 154\\n    0   0   0   0   0   0   0   0   0   0]\\n [  0   0   0   0   0   0   0   0   0  14   1 154 253  90   0   0   0   0\\n    0   0   0   0   0   0   0   0   0   0]\\n [  0   0   0   0   0   0   0   0   0   0   0 139 253 190   2   0   0   0\\n    0   0   0   0   0   0   0   0   0   0]\\n [  0   0   0   0   0   0   0   0   0   0   0  11 190 253  70   0   0   0\\n    0   0   0   0   0   0   0   0   0   0]\\n [  0   0   0   0   0   0   0   0   0   0   0   0  35 241 225 160 108   1\\n    0   0   0   0   0   0   0   0   0   0]\\n [  0   0   0   0   0   0   0   0   0   0   0   0   0  81 240 253 253 119\\n   25   0   0   0   0   0   0   0   0   0]\\n [  0   0   0   0   0   0   0   0   0   0   0   0   0   0  45 186 253 253\\n  150  27   0   0   0   0   0   0   0   0]\\n [  0   0   0   0   0   0   0   0   0   0   0   0   0   0   0  16  93 252\\n  253 187   0   0   0   0   0   0   0   0]\\n [  0   0   0   0   0   0   0   0   0   0   0   0   0   0   0   0   0 249\\n  253 249  64   0   0   0   0   0   0   0]\\n [  0   0   0   0   0   0   0   0   0   0   0   0   0   0  46 130 183 253\\n  253 207   2   0   0   0   0   0   0   0]\\n [  0   0   0   0   0   0   0   0   0   0   0   0  39 148 229 253 253 253\\n  250 182   0   0   0   0   0   0   0   0]\\n [  0   0   0   0   0   0   0   0   0   0  24 114 221 253 253 253 253 201\\n   78   0   0   0   0   0   0   0   0   0]\\n [  0   0   0   0   0   0   0   0  23  66 213 253 253 253 253 198  81   2\\n    0   0   0   0   0   0   0   0   0   0]\\n [  0   0   0   0   0   0  18 171 219 253 253 253 253 195  80   9   0   0\\n    0   0   0   0   0   0   0   0   0   0]\\n [  0   0   0   0  55 172 226 253 253 253 253 244 133  11   0   0   0   0\\n    0   0   0   0   0   0   0   0   0   0]\\n [  0   0   0   0 136 253 253 253 212 135 132  16   0   0   0   0   0   0\\n    0   0   0   0   0   0   0   0   0   0]\\n [  0   0   0   0   0   0   0   0   0   0   0   0   0   0   0   0   0   0\\n    0   0   0   0   0   0   0   0   0   0]\\n [  0   0   0   0   0   0   0   0   0   0   0   0   0   0   0   0   0   0\\n    0   0   0   0   0   0   0   0   0   0]\\n [  0   0   0   0   0   0   0   0   0   0   0   0   0   0   0   0   0   0\\n    0   0   0   0   0   0   0   0   0   0]]'\n",
            "  '5']\n",
            " ['[[  0   0   0   0   0   0   0   0   0   0   0   0   0   0   0   0   0   0\\n    0   0   0   0   0   0   0   0   0   0]\\n [  0   0   0   0   0   0   0   0   0   0   0   0   0   0   0   0   0   0\\n    0   0   0   0   0   0   0   0   0   0]\\n [  0   0   0   0   0   0   0   0   0   0   0   0   0   0   0   0   0   0\\n    0   0   0   0   0   0   0   0   0   0]\\n [  0   0   0   0   0   0   0   0   0   0   0   0   0   0   0   0   0   0\\n    0   0   0   0   0   0   0   0   0   0]\\n [  0   0   0   0   0   0   0   0   0   0   0   0   0   0   0  51 159 253\\n  159  50   0   0   0   0   0   0   0   0]\\n [  0   0   0   0   0   0   0   0   0   0   0   0   0   0  48 238 252 252\\n  252 237   0   0   0   0   0   0   0   0]\\n [  0   0   0   0   0   0   0   0   0   0   0   0   0  54 227 253 252 239\\n  233 252  57   6   0   0   0   0   0   0]\\n [  0   0   0   0   0   0   0   0   0   0   0  10  60 224 252 253 252 202\\n   84 252 253 122   0   0   0   0   0   0]\\n [  0   0   0   0   0   0   0   0   0   0   0 163 252 252 252 253 252 252\\n   96 189 253 167   0   0   0   0   0   0]\\n [  0   0   0   0   0   0   0   0   0   0  51 238 253 253 190 114 253 228\\n   47  79 255 168   0   0   0   0   0   0]\\n [  0   0   0   0   0   0   0   0   0  48 238 252 252 179  12  75 121  21\\n    0   0 253 243  50   0   0   0   0   0]\\n [  0   0   0   0   0   0   0   0  38 165 253 233 208  84   0   0   0   0\\n    0   0 253 252 165   0   0   0   0   0]\\n [  0   0   0   0   0   0   0   7 178 252 240  71  19  28   0   0   0   0\\n    0   0 253 252 195   0   0   0   0   0]\\n [  0   0   0   0   0   0   0  57 252 252  63   0   0   0   0   0   0   0\\n    0   0 253 252 195   0   0   0   0   0]\\n [  0   0   0   0   0   0   0 198 253 190   0   0   0   0   0   0   0   0\\n    0   0 255 253 196   0   0   0   0   0]\\n [  0   0   0   0   0   0  76 246 252 112   0   0   0   0   0   0   0   0\\n    0   0 253 252 148   0   0   0   0   0]\\n [  0   0   0   0   0   0  85 252 230  25   0   0   0   0   0   0   0   0\\n    7 135 253 186  12   0   0   0   0   0]\\n [  0   0   0   0   0   0  85 252 223   0   0   0   0   0   0   0   0   7\\n  131 252 225  71   0   0   0   0   0   0]\\n [  0   0   0   0   0   0  85 252 145   0   0   0   0   0   0   0  48 165\\n  252 173   0   0   0   0   0   0   0   0]\\n [  0   0   0   0   0   0  86 253 225   0   0   0   0   0   0 114 238 253\\n  162   0   0   0   0   0   0   0   0   0]\\n [  0   0   0   0   0   0  85 252 249 146  48  29  85 178 225 253 223 167\\n   56   0   0   0   0   0   0   0   0   0]\\n [  0   0   0   0   0   0  85 252 252 252 229 215 252 252 252 196 130   0\\n    0   0   0   0   0   0   0   0   0   0]\\n [  0   0   0   0   0   0  28 199 252 252 253 252 252 233 145   0   0   0\\n    0   0   0   0   0   0   0   0   0   0]\\n [  0   0   0   0   0   0   0  25 128 252 253 252 141  37   0   0   0   0\\n    0   0   0   0   0   0   0   0   0   0]\\n [  0   0   0   0   0   0   0   0   0   0   0   0   0   0   0   0   0   0\\n    0   0   0   0   0   0   0   0   0   0]\\n [  0   0   0   0   0   0   0   0   0   0   0   0   0   0   0   0   0   0\\n    0   0   0   0   0   0   0   0   0   0]\\n [  0   0   0   0   0   0   0   0   0   0   0   0   0   0   0   0   0   0\\n    0   0   0   0   0   0   0   0   0   0]\\n [  0   0   0   0   0   0   0   0   0   0   0   0   0   0   0   0   0   0\\n    0   0   0   0   0   0   0   0   0   0]]'\n",
            "  '0']\n",
            " ...\n",
            " ['[[  0   0   0   0   0   0   0   0   0   0   0   0   0   0   0   0   0   0\\n    0   0   0   0   0   0   0   0   0   0]\\n [  0   0   0   0   0   0   0   0   0   0   0   0   0   0   0   0   0   0\\n    0   0   0   0   0   0   0   0   0   0]\\n [  0   0   0   0   0   0   0   0   0   0   0   0   0   0   0   0   0   0\\n    0   0   0   0   0   0   0   0   0   0]\\n [  0   0   0   0   0   0   0   0   0   0   0   0   0   0   0   0   0   0\\n    0   0   0   0   0   0   0   0   0   0]\\n [  0   0   0   0   0   0   0   0   0   0   0   0   0   0   0   0   0   0\\n    0   0   0   0   0   0   0   0   0   0]\\n [  0   0   0   0   0   0   0   0   0   0   0   0   0   0   0   0   0   0\\n    0  96 121 213 255 255 121   0   0   0]\\n [  0   0   0   0   0   0   0   0   0   0   0   0   0   0   0  52 108 157\\n  241 251 253 253 242 146  69   0   0   0]\\n [  0   0   0   0   0   0   0   0   0   0   0   0  10  94 164 241 253 253\\n  223 159 131  26  23   0   0   0   0   0]\\n [  0   0   0   0   0   0   0   0   0   0  60 102 218 253 253 216 117  39\\n   27   0   0   0   0   0   0   0   0   0]\\n [  0   0   0   0   0   0   0   0   0  54 205 253 253 253 147  28   0   0\\n    0   0   0   0   0   0   0   0   0   0]\\n [  0   0   0   0   0   0   0   0  60 240 253 253 253 243  31   0   0   0\\n    0   0   0   0   0   0   0   0   0   0]\\n [  0   0   0   0   0   0   0   0  26  80 208 253 253 147   0   0   0   0\\n    0   0   0   0   0   0   0   0   0   0]\\n [  0   0   0   0   0   0   0   0   0  36 222 253 253 121   0   0   0   0\\n    0   0   0   0   0   0   0   0   0   0]\\n [  0   0   0   0   0   0   0   0   0   0 177 242 253 248 147 148  91   2\\n    0   0   0   0   0   0   0   0   0   0]\\n [  0   0   0   0   0   0   0   0   0   0   0  19 120 197 253 254 253  97\\n    0   0   0   0   0   0   0   0   0   0]\\n [  0   0   0   0   0   0   0   0   0   0   0   0   0   0  72 192 254 254\\n   40   0   0   0   0   0   0   0   0   0]\\n [  0   0   0   0   0   0   0   0   0   0   0   0   0   0   0   6 242 253\\n   39   0   0   0   0   0   0   0   0   0]\\n [  0   0   0   0   0   0   0   0   0   0   0   0   0   0   0   0 121 253\\n  159   0   0   0   0   0   0   0   0   0]\\n [  0   0   0   0   0   0   0   0   0   0   0   0   0   0   0   0 108 253\\n  173   0   0   0   0   0   0   0   0   0]\\n [  0   0   0   0   0   0   0   0   0   0   0   0   0   0   0   0 108 253\\n  173   0   0   0   0   0   0   0   0   0]\\n [  0   0   0   0   0   0   0   0   0   0   0   0   0   0   0   0 108 253\\n   74   0   0   0   0   0   0   0   0   0]\\n [  0   0   0   0   0  22   0   0   0   0   0   0   0   0   0  20 201 253\\n   39   0   0   0   0   0   0   0   0   0]\\n [  0   0   0   0   0 196 161  41   5   0   0   0   3  27  98 206 253 194\\n   15   0   0   0   0   0   0   0   0   0]\\n [  0   0   0   0   0 115 240 252 163 147 147 147 158 253 253 255 184  67\\n    0   0   0   0   0   0   0   0   0   0]\\n [  0   0   0   0   0   0   0 157 253 253 253 253 253 253 253 121   6   0\\n    0   0   0   0   0   0   0   0   0   0]\\n [  0   0   0   0   0   0   0   0   0   0   0   0   0   0   0   0   0   0\\n    0   0   0   0   0   0   0   0   0   0]\\n [  0   0   0   0   0   0   0   0   0   0   0   0   0   0   0   0   0   0\\n    0   0   0   0   0   0   0   0   0   0]\\n [  0   0   0   0   0   0   0   0   0   0   0   0   0   0   0   0   0   0\\n    0   0   0   0   0   0   0   0   0   0]]'\n",
            "  '5']\n",
            " ['[[  0   0   0   0   0   0   0   0   0   0   0   0   0   0   0   0   0   0\\n    0   0   0   0   0   0   0   0   0   0]\\n [  0   0   0   0   0   0   0   0   0   0   0   0   0   0   0   0   0   0\\n    0   0   0   0   0   0   0   0   0   0]\\n [  0   0   0   0   0   0   0   0   0   0   0   0   0   0   0   0   0   0\\n   55 192 230  27   0   0   0   0   0   0]\\n [  0   0   0   0   0   0   0   0   0   0   0   0   0   0   0   0   0   8\\n  152 252 193  27   0   0   0   0   0   0]\\n [  0   0   0   0   0   0   0   0   0   0   0   0   0   0   0   0   8 129\\n  252 190   9   0   0   0   0   0   0   0]\\n [  0   0   0   0   0   0   0   0   0   0   0   0   0   0   0   0 155 252\\n  210  14   0   0   0   0   0   0   0   0]\\n [  0   0   0   0   0   0   0   0   0   0   0   0   0   0   0  62 216 199\\n   66   0   0   0   0   0   0   0   0   0]\\n [  0   0   0   0   0   0   0   0   0   0   0   0   0  11  43 254 222  62\\n    0   0   0   0   0   0   0   0   0   0]\\n [  0   0   0   0   0   0   0   0   0   0   0   0   0 143 252 222  16   0\\n    0   0   0   0   0   0   0   0   0   0]\\n [  0   0   0   0   0   0   0   0   0   0   0   0 169 246 208  17   0   0\\n    0   0   0   0   0   0   0   0   0   0]\\n [  0   0   0   0   0   0   0   0   0   0  11 143 246 236 101   0   0   0\\n    0   0   0   0   0   0   0   0   0   0]\\n [  0   0   0   0   0   0   0   0   0   0  69 226 199 111   0   0   0   0\\n    0   0   0   0   0   0   0   0   0   0]\\n [  0   0   0   0   0   0   0   0   0   0 254 253  21   0   0   0   0   0\\n    0   0   0   0   0   0   0   0   0   0]\\n [  0   0   0   0   0   0   0   0   0 124 253 110   5   0   0   0   0   0\\n   22 128 191 190 137  28   0   0   0   0]\\n [  0   0   0   0   0   0   0   0 112 241 170  32   0   0   0  31 127 180\\n  237 252 253 252 242  42   0   0   0   0]\\n [  0   0   0   0   0   0   0   6 190 226   0   0   0   0  27 218 252 194\\n  162  84  84 131 232  35   0   0   0   0]\\n [  0   0   0   0   0   0   0 110 252 147   0   0   0   0 194 253 217  56\\n    0   0  18 216 187   0   0   0   0   0]\\n [  0   0   0   0   0   0   0 233 216  18   0   0   0  27 194 150 106   9\\n    0 124 255 186   9   0   0   0   0   0]\\n [  0   0   0   0   0   0  64 247 110   0   0   0   0   0   0   0   0  87\\n  146 163  63  16   0   0   0   0   0   0]\\n [  0   0   0   0   0   0  14 236 128   0   0   0  11  22  66 128 206 231\\n  178  12   0   0   0   0   0   0   0   0]\\n [  0   0   0   0   0   0  28 239 196 169  82 169 211 252 252 128  84   7\\n    0   0   0   0   0   0   0   0   0   0]\\n [  0   0   0   0   0   0  36 241 252 252 253 217 138  42  42   0   0   0\\n    0   0   0   0   0   0   0   0   0   0]\\n [  0   0   0   0   0   0   0   0   0   0   0   0   0   0   0   0   0   0\\n    0   0   0   0   0   0   0   0   0   0]\\n [  0   0   0   0   0   0   0   0   0   0   0   0   0   0   0   0   0   0\\n    0   0   0   0   0   0   0   0   0   0]\\n [  0   0   0   0   0   0   0   0   0   0   0   0   0   0   0   0   0   0\\n    0   0   0   0   0   0   0   0   0   0]\\n [  0   0   0   0   0   0   0   0   0   0   0   0   0   0   0   0   0   0\\n    0   0   0   0   0   0   0   0   0   0]\\n [  0   0   0   0   0   0   0   0   0   0   0   0   0   0   0   0   0   0\\n    0   0   0   0   0   0   0   0   0   0]\\n [  0   0   0   0   0   0   0   0   0   0   0   0   0   0   0   0   0   0\\n    0   0   0   0   0   0   0   0   0   0]]'\n",
            "  '6']\n",
            " ['[[  0   0   0   0   0   0   0   0   0   0   0   0   0   0   0   0   0   0\\n    0   0   0   0   0   0   0   0   0   0]\\n [  0   0   0   0   0   0   0   0   0   0   0   0   0   0   0   0   0   0\\n    0   0   0   0   0   0   0   0   0   0]\\n [  0   0   0   0   0   0   0   0   0   0   0   0   0   0   0   0   0   0\\n    0   0   0   0   0   0   0   0   0   0]\\n [  0   0   0   0   0   0   0   0   0   0   0   0   0   0   0   0   0   0\\n    0   0   0   0   0   0   0   0   0   0]\\n [  0   0   0   0   0   0   0   0   0   0   0   0   0   0   0   0   0   0\\n    0   0   0   0   0   0   0   0   0   0]\\n [  0   0   0   0   0   0   0   0   0   0   0   0   0   0   0   0   0   0\\n    0   0   0   0   0   0   0   0   0   0]\\n [  0   0   0   0   0   0   0   0   0   0   0   0   0   0   0   0  38  48\\n   48  22   0   0   0   0   0   0   0   0]\\n [  0   0   0   0   0   0   0   0   0   0   0   0   0  62  97 198 243 254\\n  254 212  27   0   0   0   0   0   0   0]\\n [  0   0   0   0   0   0   0   0   0   0   0   0  67 172 254 254 225 218\\n  218 237 248  40   0  21 164 187   0   0]\\n [  0   0   0   0   0   0   0   0   0   0   0  89 219 254  97  67  14   0\\n    0  92 231 122  23 203 236  59   0   0]\\n [  0   0   0   0   0   0   0   0   0   0  25 217 242  92   4   0   0   0\\n    0   4 147 253 240 232  92   0   0   0]\\n [  0   0   0   0   0   0   0   0   0   0 101 255  92   0   0   0   0   0\\n    0 105 254 254 177  11   0   0   0   0]\\n [  0   0   0   0   0   0   0   0   0   0 167 244  41   0   0   0   7  76\\n  199 238 239  94  10   0   0   0   0   0]\\n [  0   0   0   0   0   0   0   0   0   0 192 121   0   0   2  63 180 254\\n  233 126   0   0   0   0   0   0   0   0]\\n [  0   0   0   0   0   0   0   0   0   0 190 196  14   2  97 254 252 146\\n   52   0   0   0   0   0   0   0   0   0]\\n [  0   0   0   0   0   0   0   0   0   0 130 225  71 180 232 181  60   0\\n    0   0   0   0   0   0   0   0   0   0]\\n [  0   0   0   0   0   0   0   0   0   0 130 254 254 230  46   0   0   0\\n    0   0   0   0   0   0   0   0   0   0]\\n [  0   0   0   0   0   0   0   0   6  77 244 254 162   4   0   0   0   0\\n    0   0   0   0   0   0   0   0   0   0]\\n [  0   0   0   0   0   0   0   0 110 254 218 254 116   0   0   0   0   0\\n    0   0   0   0   0   0   0   0   0   0]\\n [  0   0   0   0   0   0   0 131 254 154  28 213  86   0   0   0   0   0\\n    0   0   0   0   0   0   0   0   0   0]\\n [  0   0   0   0   0   0  66 209 153  19  19 233  60   0   0   0   0   0\\n    0   0   0   0   0   0   0   0   0   0]\\n [  0   0   0   0   0   0 142 254 165   0  14 216 167   0   0   0   0   0\\n    0   0   0   0   0   0   0   0   0   0]\\n [  0   0   0   0   0   0  90 254 175   0  18 229  92   0   0   0   0   0\\n    0   0   0   0   0   0   0   0   0   0]\\n [  0   0   0   0   0   0  26 229 249 176 222 244  44   0   0   0   0   0\\n    0   0   0   0   0   0   0   0   0   0]\\n [  0   0   0   0   0   0   0  73 193 197 134   0   0   0   0   0   0   0\\n    0   0   0   0   0   0   0   0   0   0]\\n [  0   0   0   0   0   0   0   0   0   0   0   0   0   0   0   0   0   0\\n    0   0   0   0   0   0   0   0   0   0]\\n [  0   0   0   0   0   0   0   0   0   0   0   0   0   0   0   0   0   0\\n    0   0   0   0   0   0   0   0   0   0]\\n [  0   0   0   0   0   0   0   0   0   0   0   0   0   0   0   0   0   0\\n    0   0   0   0   0   0   0   0   0   0]]'\n",
            "  '8']]\n",
            "[['image' 'label']\n",
            " ['[[  0   0   0   0   0   0   0   0   0   0   0   0   0   0   0   0   0   0\\n    0   0   0   0   0   0   0   0   0   0]\\n [  0   0   0   0   0   0   0   0   0   0   0   0   0   0   0   0   0   0\\n    0   0   0   0   0   0   0   0   0   0]\\n [  0   0   0   0   0   0   0   0   0   0   0   0   0   0   0   0   0   0\\n    0   0   0   0   0   0   0   0   0   0]\\n [  0   0   0   0   0   0   0   0   0   0   0   0   0   0   0   0   0   0\\n    0   0   0   0   0   0   0   0   0   0]\\n [  0   0   0   0   0   0   0   0   0   0   0   0   0   0   0   0   0   0\\n    0   0   0   0   0   0   0   0   0   0]\\n [  0   0   0   0   0   0   0   0   0   0   0   0   3  18  18  18 126 136\\n  175  26 166 255 247 127   0   0   0   0]\\n [  0   0   0   0   0   0   0   0  30  36  94 154 170 253 253 253 253 253\\n  225 172 253 242 195  64   0   0   0   0]\\n [  0   0   0   0   0   0   0  49 238 253 253 253 253 253 253 253 253 251\\n   93  82  82  56  39   0   0   0   0   0]\\n [  0   0   0   0   0   0   0  18 219 253 253 253 253 253 198 182 247 241\\n    0   0   0   0   0   0   0   0   0   0]\\n [  0   0   0   0   0   0   0   0  80 156 107 253 253 205  11   0  43 154\\n    0   0   0   0   0   0   0   0   0   0]\\n [  0   0   0   0   0   0   0   0   0  14   1 154 253  90   0   0   0   0\\n    0   0   0   0   0   0   0   0   0   0]\\n [  0   0   0   0   0   0   0   0   0   0   0 139 253 190   2   0   0   0\\n    0   0   0   0   0   0   0   0   0   0]\\n [  0   0   0   0   0   0   0   0   0   0   0  11 190 253  70   0   0   0\\n    0   0   0   0   0   0   0   0   0   0]\\n [  0   0   0   0   0   0   0   0   0   0   0   0  35 241 225 160 108   1\\n    0   0   0   0   0   0   0   0   0   0]\\n [  0   0   0   0   0   0   0   0   0   0   0   0   0  81 240 253 253 119\\n   25   0   0   0   0   0   0   0   0   0]\\n [  0   0   0   0   0   0   0   0   0   0   0   0   0   0  45 186 253 253\\n  150  27   0   0   0   0   0   0   0   0]\\n [  0   0   0   0   0   0   0   0   0   0   0   0   0   0   0  16  93 252\\n  253 187   0   0   0   0   0   0   0   0]\\n [  0   0   0   0   0   0   0   0   0   0   0   0   0   0   0   0   0 249\\n  253 249  64   0   0   0   0   0   0   0]\\n [  0   0   0   0   0   0   0   0   0   0   0   0   0   0  46 130 183 253\\n  253 207   2   0   0   0   0   0   0   0]\\n [  0   0   0   0   0   0   0   0   0   0   0   0  39 148 229 253 253 253\\n  250 182   0   0   0   0   0   0   0   0]\\n [  0   0   0   0   0   0   0   0   0   0  24 114 221 253 253 253 253 201\\n   78   0   0   0   0   0   0   0   0   0]\\n [  0   0   0   0   0   0   0   0  23  66 213 253 253 253 253 198  81   2\\n    0   0   0   0   0   0   0   0   0   0]\\n [  0   0   0   0   0   0  18 171 219 253 253 253 253 195  80   9   0   0\\n    0   0   0   0   0   0   0   0   0   0]\\n [  0   0   0   0  55 172 226 253 253 253 253 244 133  11   0   0   0   0\\n    0   0   0   0   0   0   0   0   0   0]\\n [  0   0   0   0 136 253 253 253 212 135 132  16   0   0   0   0   0   0\\n    0   0   0   0   0   0   0   0   0   0]\\n [  0   0   0   0   0   0   0   0   0   0   0   0   0   0   0   0   0   0\\n    0   0   0   0   0   0   0   0   0   0]\\n [  0   0   0   0   0   0   0   0   0   0   0   0   0   0   0   0   0   0\\n    0   0   0   0   0   0   0   0   0   0]\\n [  0   0   0   0   0   0   0   0   0   0   0   0   0   0   0   0   0   0\\n    0   0   0   0   0   0   0   0   0   0]]'\n",
            "  '5']\n",
            " ['[[  0   0   0   0   0   0   0   0   0   0   0   0   0   0   0   0   0   0\\n    0   0   0   0   0   0   0   0   0   0]\\n [  0   0   0   0   0   0   0   0   0   0   0   0   0   0   0   0   0   0\\n    0   0   0   0   0   0   0   0   0   0]\\n [  0   0   0   0   0   0   0   0   0   0   0   0   0   0   0   0   0   0\\n    0   0   0   0   0   0   0   0   0   0]\\n [  0   0   0   0   0   0   0   0   0   0   0   0   0   0   0   0   0   0\\n    0   0   0   0   0   0   0   0   0   0]\\n [  0   0   0   0   0   0   0   0   0   0   0   0   0   0   0  51 159 253\\n  159  50   0   0   0   0   0   0   0   0]\\n [  0   0   0   0   0   0   0   0   0   0   0   0   0   0  48 238 252 252\\n  252 237   0   0   0   0   0   0   0   0]\\n [  0   0   0   0   0   0   0   0   0   0   0   0   0  54 227 253 252 239\\n  233 252  57   6   0   0   0   0   0   0]\\n [  0   0   0   0   0   0   0   0   0   0   0  10  60 224 252 253 252 202\\n   84 252 253 122   0   0   0   0   0   0]\\n [  0   0   0   0   0   0   0   0   0   0   0 163 252 252 252 253 252 252\\n   96 189 253 167   0   0   0   0   0   0]\\n [  0   0   0   0   0   0   0   0   0   0  51 238 253 253 190 114 253 228\\n   47  79 255 168   0   0   0   0   0   0]\\n [  0   0   0   0   0   0   0   0   0  48 238 252 252 179  12  75 121  21\\n    0   0 253 243  50   0   0   0   0   0]\\n [  0   0   0   0   0   0   0   0  38 165 253 233 208  84   0   0   0   0\\n    0   0 253 252 165   0   0   0   0   0]\\n [  0   0   0   0   0   0   0   7 178 252 240  71  19  28   0   0   0   0\\n    0   0 253 252 195   0   0   0   0   0]\\n [  0   0   0   0   0   0   0  57 252 252  63   0   0   0   0   0   0   0\\n    0   0 253 252 195   0   0   0   0   0]\\n [  0   0   0   0   0   0   0 198 253 190   0   0   0   0   0   0   0   0\\n    0   0 255 253 196   0   0   0   0   0]\\n [  0   0   0   0   0   0  76 246 252 112   0   0   0   0   0   0   0   0\\n    0   0 253 252 148   0   0   0   0   0]\\n [  0   0   0   0   0   0  85 252 230  25   0   0   0   0   0   0   0   0\\n    7 135 253 186  12   0   0   0   0   0]\\n [  0   0   0   0   0   0  85 252 223   0   0   0   0   0   0   0   0   7\\n  131 252 225  71   0   0   0   0   0   0]\\n [  0   0   0   0   0   0  85 252 145   0   0   0   0   0   0   0  48 165\\n  252 173   0   0   0   0   0   0   0   0]\\n [  0   0   0   0   0   0  86 253 225   0   0   0   0   0   0 114 238 253\\n  162   0   0   0   0   0   0   0   0   0]\\n [  0   0   0   0   0   0  85 252 249 146  48  29  85 178 225 253 223 167\\n   56   0   0   0   0   0   0   0   0   0]\\n [  0   0   0   0   0   0  85 252 252 252 229 215 252 252 252 196 130   0\\n    0   0   0   0   0   0   0   0   0   0]\\n [  0   0   0   0   0   0  28 199 252 252 253 252 252 233 145   0   0   0\\n    0   0   0   0   0   0   0   0   0   0]\\n [  0   0   0   0   0   0   0  25 128 252 253 252 141  37   0   0   0   0\\n    0   0   0   0   0   0   0   0   0   0]\\n [  0   0   0   0   0   0   0   0   0   0   0   0   0   0   0   0   0   0\\n    0   0   0   0   0   0   0   0   0   0]\\n [  0   0   0   0   0   0   0   0   0   0   0   0   0   0   0   0   0   0\\n    0   0   0   0   0   0   0   0   0   0]\\n [  0   0   0   0   0   0   0   0   0   0   0   0   0   0   0   0   0   0\\n    0   0   0   0   0   0   0   0   0   0]\\n [  0   0   0   0   0   0   0   0   0   0   0   0   0   0   0   0   0   0\\n    0   0   0   0   0   0   0   0   0   0]]'\n",
            "  '0']\n",
            " ...\n",
            " ['[[  0   0   0   0   0   0   0   0   0   0   0   0   0   0   0   0   0   0\\n    0   0   0   0   0   0   0   0   0   0]\\n [  0   0   0   0   0   0   0   0   0   0   0   0   0   0   0   0   0   0\\n    0   0   0   0   0   0   0   0   0   0]\\n [  0   0   0   0   0   0   0   0   0   0   0   0   0   0   0   0   0   0\\n    0   0   0   0   0   0   0   0   0   0]\\n [  0   0   0   0   0   0   0   0   0   0   0   0   0   0   0   0   0   0\\n    0   0   0   0   0   0   0   0   0   0]\\n [  0   0   0   0   0   0   0   0   0   0   0   0   0   0   0   0   0   0\\n    0   0   0   0   0   0   0   0   0   0]\\n [  0   0   0   0   0   0   0   0   0   0   0   0   0   0   0   0   0   0\\n    0  96 121 213 255 255 121   0   0   0]\\n [  0   0   0   0   0   0   0   0   0   0   0   0   0   0   0  52 108 157\\n  241 251 253 253 242 146  69   0   0   0]\\n [  0   0   0   0   0   0   0   0   0   0   0   0  10  94 164 241 253 253\\n  223 159 131  26  23   0   0   0   0   0]\\n [  0   0   0   0   0   0   0   0   0   0  60 102 218 253 253 216 117  39\\n   27   0   0   0   0   0   0   0   0   0]\\n [  0   0   0   0   0   0   0   0   0  54 205 253 253 253 147  28   0   0\\n    0   0   0   0   0   0   0   0   0   0]\\n [  0   0   0   0   0   0   0   0  60 240 253 253 253 243  31   0   0   0\\n    0   0   0   0   0   0   0   0   0   0]\\n [  0   0   0   0   0   0   0   0  26  80 208 253 253 147   0   0   0   0\\n    0   0   0   0   0   0   0   0   0   0]\\n [  0   0   0   0   0   0   0   0   0  36 222 253 253 121   0   0   0   0\\n    0   0   0   0   0   0   0   0   0   0]\\n [  0   0   0   0   0   0   0   0   0   0 177 242 253 248 147 148  91   2\\n    0   0   0   0   0   0   0   0   0   0]\\n [  0   0   0   0   0   0   0   0   0   0   0  19 120 197 253 254 253  97\\n    0   0   0   0   0   0   0   0   0   0]\\n [  0   0   0   0   0   0   0   0   0   0   0   0   0   0  72 192 254 254\\n   40   0   0   0   0   0   0   0   0   0]\\n [  0   0   0   0   0   0   0   0   0   0   0   0   0   0   0   6 242 253\\n   39   0   0   0   0   0   0   0   0   0]\\n [  0   0   0   0   0   0   0   0   0   0   0   0   0   0   0   0 121 253\\n  159   0   0   0   0   0   0   0   0   0]\\n [  0   0   0   0   0   0   0   0   0   0   0   0   0   0   0   0 108 253\\n  173   0   0   0   0   0   0   0   0   0]\\n [  0   0   0   0   0   0   0   0   0   0   0   0   0   0   0   0 108 253\\n  173   0   0   0   0   0   0   0   0   0]\\n [  0   0   0   0   0   0   0   0   0   0   0   0   0   0   0   0 108 253\\n   74   0   0   0   0   0   0   0   0   0]\\n [  0   0   0   0   0  22   0   0   0   0   0   0   0   0   0  20 201 253\\n   39   0   0   0   0   0   0   0   0   0]\\n [  0   0   0   0   0 196 161  41   5   0   0   0   3  27  98 206 253 194\\n   15   0   0   0   0   0   0   0   0   0]\\n [  0   0   0   0   0 115 240 252 163 147 147 147 158 253 253 255 184  67\\n    0   0   0   0   0   0   0   0   0   0]\\n [  0   0   0   0   0   0   0 157 253 253 253 253 253 253 253 121   6   0\\n    0   0   0   0   0   0   0   0   0   0]\\n [  0   0   0   0   0   0   0   0   0   0   0   0   0   0   0   0   0   0\\n    0   0   0   0   0   0   0   0   0   0]\\n [  0   0   0   0   0   0   0   0   0   0   0   0   0   0   0   0   0   0\\n    0   0   0   0   0   0   0   0   0   0]\\n [  0   0   0   0   0   0   0   0   0   0   0   0   0   0   0   0   0   0\\n    0   0   0   0   0   0   0   0   0   0]]'\n",
            "  '5']\n",
            " ['[[  0   0   0   0   0   0   0   0   0   0   0   0   0   0   0   0   0   0\\n    0   0   0   0   0   0   0   0   0   0]\\n [  0   0   0   0   0   0   0   0   0   0   0   0   0   0   0   0   0   0\\n    0   0   0   0   0   0   0   0   0   0]\\n [  0   0   0   0   0   0   0   0   0   0   0   0   0   0   0   0   0   0\\n   55 192 230  27   0   0   0   0   0   0]\\n [  0   0   0   0   0   0   0   0   0   0   0   0   0   0   0   0   0   8\\n  152 252 193  27   0   0   0   0   0   0]\\n [  0   0   0   0   0   0   0   0   0   0   0   0   0   0   0   0   8 129\\n  252 190   9   0   0   0   0   0   0   0]\\n [  0   0   0   0   0   0   0   0   0   0   0   0   0   0   0   0 155 252\\n  210  14   0   0   0   0   0   0   0   0]\\n [  0   0   0   0   0   0   0   0   0   0   0   0   0   0   0  62 216 199\\n   66   0   0   0   0   0   0   0   0   0]\\n [  0   0   0   0   0   0   0   0   0   0   0   0   0  11  43 254 222  62\\n    0   0   0   0   0   0   0   0   0   0]\\n [  0   0   0   0   0   0   0   0   0   0   0   0   0 143 252 222  16   0\\n    0   0   0   0   0   0   0   0   0   0]\\n [  0   0   0   0   0   0   0   0   0   0   0   0 169 246 208  17   0   0\\n    0   0   0   0   0   0   0   0   0   0]\\n [  0   0   0   0   0   0   0   0   0   0  11 143 246 236 101   0   0   0\\n    0   0   0   0   0   0   0   0   0   0]\\n [  0   0   0   0   0   0   0   0   0   0  69 226 199 111   0   0   0   0\\n    0   0   0   0   0   0   0   0   0   0]\\n [  0   0   0   0   0   0   0   0   0   0 254 253  21   0   0   0   0   0\\n    0   0   0   0   0   0   0   0   0   0]\\n [  0   0   0   0   0   0   0   0   0 124 253 110   5   0   0   0   0   0\\n   22 128 191 190 137  28   0   0   0   0]\\n [  0   0   0   0   0   0   0   0 112 241 170  32   0   0   0  31 127 180\\n  237 252 253 252 242  42   0   0   0   0]\\n [  0   0   0   0   0   0   0   6 190 226   0   0   0   0  27 218 252 194\\n  162  84  84 131 232  35   0   0   0   0]\\n [  0   0   0   0   0   0   0 110 252 147   0   0   0   0 194 253 217  56\\n    0   0  18 216 187   0   0   0   0   0]\\n [  0   0   0   0   0   0   0 233 216  18   0   0   0  27 194 150 106   9\\n    0 124 255 186   9   0   0   0   0   0]\\n [  0   0   0   0   0   0  64 247 110   0   0   0   0   0   0   0   0  87\\n  146 163  63  16   0   0   0   0   0   0]\\n [  0   0   0   0   0   0  14 236 128   0   0   0  11  22  66 128 206 231\\n  178  12   0   0   0   0   0   0   0   0]\\n [  0   0   0   0   0   0  28 239 196 169  82 169 211 252 252 128  84   7\\n    0   0   0   0   0   0   0   0   0   0]\\n [  0   0   0   0   0   0  36 241 252 252 253 217 138  42  42   0   0   0\\n    0   0   0   0   0   0   0   0   0   0]\\n [  0   0   0   0   0   0   0   0   0   0   0   0   0   0   0   0   0   0\\n    0   0   0   0   0   0   0   0   0   0]\\n [  0   0   0   0   0   0   0   0   0   0   0   0   0   0   0   0   0   0\\n    0   0   0   0   0   0   0   0   0   0]\\n [  0   0   0   0   0   0   0   0   0   0   0   0   0   0   0   0   0   0\\n    0   0   0   0   0   0   0   0   0   0]\\n [  0   0   0   0   0   0   0   0   0   0   0   0   0   0   0   0   0   0\\n    0   0   0   0   0   0   0   0   0   0]\\n [  0   0   0   0   0   0   0   0   0   0   0   0   0   0   0   0   0   0\\n    0   0   0   0   0   0   0   0   0   0]\\n [  0   0   0   0   0   0   0   0   0   0   0   0   0   0   0   0   0   0\\n    0   0   0   0   0   0   0   0   0   0]]'\n",
            "  '6']\n",
            " ['[[  0   0   0   0   0   0   0   0   0   0   0   0   0   0   0   0   0   0\\n    0   0   0   0   0   0   0   0   0   0]\\n [  0   0   0   0   0   0   0   0   0   0   0   0   0   0   0   0   0   0\\n    0   0   0   0   0   0   0   0   0   0]\\n [  0   0   0   0   0   0   0   0   0   0   0   0   0   0   0   0   0   0\\n    0   0   0   0   0   0   0   0   0   0]\\n [  0   0   0   0   0   0   0   0   0   0   0   0   0   0   0   0   0   0\\n    0   0   0   0   0   0   0   0   0   0]\\n [  0   0   0   0   0   0   0   0   0   0   0   0   0   0   0   0   0   0\\n    0   0   0   0   0   0   0   0   0   0]\\n [  0   0   0   0   0   0   0   0   0   0   0   0   0   0   0   0   0   0\\n    0   0   0   0   0   0   0   0   0   0]\\n [  0   0   0   0   0   0   0   0   0   0   0   0   0   0   0   0  38  48\\n   48  22   0   0   0   0   0   0   0   0]\\n [  0   0   0   0   0   0   0   0   0   0   0   0   0  62  97 198 243 254\\n  254 212  27   0   0   0   0   0   0   0]\\n [  0   0   0   0   0   0   0   0   0   0   0   0  67 172 254 254 225 218\\n  218 237 248  40   0  21 164 187   0   0]\\n [  0   0   0   0   0   0   0   0   0   0   0  89 219 254  97  67  14   0\\n    0  92 231 122  23 203 236  59   0   0]\\n [  0   0   0   0   0   0   0   0   0   0  25 217 242  92   4   0   0   0\\n    0   4 147 253 240 232  92   0   0   0]\\n [  0   0   0   0   0   0   0   0   0   0 101 255  92   0   0   0   0   0\\n    0 105 254 254 177  11   0   0   0   0]\\n [  0   0   0   0   0   0   0   0   0   0 167 244  41   0   0   0   7  76\\n  199 238 239  94  10   0   0   0   0   0]\\n [  0   0   0   0   0   0   0   0   0   0 192 121   0   0   2  63 180 254\\n  233 126   0   0   0   0   0   0   0   0]\\n [  0   0   0   0   0   0   0   0   0   0 190 196  14   2  97 254 252 146\\n   52   0   0   0   0   0   0   0   0   0]\\n [  0   0   0   0   0   0   0   0   0   0 130 225  71 180 232 181  60   0\\n    0   0   0   0   0   0   0   0   0   0]\\n [  0   0   0   0   0   0   0   0   0   0 130 254 254 230  46   0   0   0\\n    0   0   0   0   0   0   0   0   0   0]\\n [  0   0   0   0   0   0   0   0   6  77 244 254 162   4   0   0   0   0\\n    0   0   0   0   0   0   0   0   0   0]\\n [  0   0   0   0   0   0   0   0 110 254 218 254 116   0   0   0   0   0\\n    0   0   0   0   0   0   0   0   0   0]\\n [  0   0   0   0   0   0   0 131 254 154  28 213  86   0   0   0   0   0\\n    0   0   0   0   0   0   0   0   0   0]\\n [  0   0   0   0   0   0  66 209 153  19  19 233  60   0   0   0   0   0\\n    0   0   0   0   0   0   0   0   0   0]\\n [  0   0   0   0   0   0 142 254 165   0  14 216 167   0   0   0   0   0\\n    0   0   0   0   0   0   0   0   0   0]\\n [  0   0   0   0   0   0  90 254 175   0  18 229  92   0   0   0   0   0\\n    0   0   0   0   0   0   0   0   0   0]\\n [  0   0   0   0   0   0  26 229 249 176 222 244  44   0   0   0   0   0\\n    0   0   0   0   0   0   0   0   0   0]\\n [  0   0   0   0   0   0   0  73 193 197 134   0   0   0   0   0   0   0\\n    0   0   0   0   0   0   0   0   0   0]\\n [  0   0   0   0   0   0   0   0   0   0   0   0   0   0   0   0   0   0\\n    0   0   0   0   0   0   0   0   0   0]\\n [  0   0   0   0   0   0   0   0   0   0   0   0   0   0   0   0   0   0\\n    0   0   0   0   0   0   0   0   0   0]\\n [  0   0   0   0   0   0   0   0   0   0   0   0   0   0   0   0   0   0\\n    0   0   0   0   0   0   0   0   0   0]]'\n",
            "  '8']]\n"
          ]
        }
      ]
    },
    {
      "cell_type": "code",
      "source": [
        "original_dataset=((train_numpy),(test_numpy))"
      ],
      "metadata": {
        "id": "f3S9J9q5efK-"
      },
      "execution_count": null,
      "outputs": []
    },
    {
      "cell_type": "code",
      "source": [
        "print(original_dataset)"
      ],
      "metadata": {
        "colab": {
          "base_uri": "https://localhost:8080/"
        },
        "id": "CJa4EZC9e9xZ",
        "outputId": "59329b2f-b8ab-451b-8e94-ec9519715c22"
      },
      "execution_count": null,
      "outputs": [
        {
          "output_type": "stream",
          "name": "stdout",
          "text": [
            "(array([['image', 'label'],\n",
            "       ['[[  0   0   0   0   0   0   0   0   0   0   0   0   0   0   0   0   0   0\\n    0   0   0   0   0   0   0   0   0   0]\\n [  0   0   0   0   0   0   0   0   0   0   0   0   0   0   0   0   0   0\\n    0   0   0   0   0   0   0   0   0   0]\\n [  0   0   0   0   0   0   0   0   0   0   0   0   0   0   0   0   0   0\\n    0   0   0   0   0   0   0   0   0   0]\\n [  0   0   0   0   0   0   0   0   0   0   0   0   0   0   0   0   0   0\\n    0   0   0   0   0   0   0   0   0   0]\\n [  0   0   0   0   0   0   0   0   0   0   0   0   0   0   0   0   0   0\\n    0   0   0   0   0   0   0   0   0   0]\\n [  0   0   0   0   0   0   0   0   0   0   0   0   3  18  18  18 126 136\\n  175  26 166 255 247 127   0   0   0   0]\\n [  0   0   0   0   0   0   0   0  30  36  94 154 170 253 253 253 253 253\\n  225 172 253 242 195  64   0   0   0   0]\\n [  0   0   0   0   0   0   0  49 238 253 253 253 253 253 253 253 253 251\\n   93  82  82  56  39   0   0   0   0   0]\\n [  0   0   0   0   0   0   0  18 219 253 253 253 253 253 198 182 247 241\\n    0   0   0   0   0   0   0   0   0   0]\\n [  0   0   0   0   0   0   0   0  80 156 107 253 253 205  11   0  43 154\\n    0   0   0   0   0   0   0   0   0   0]\\n [  0   0   0   0   0   0   0   0   0  14   1 154 253  90   0   0   0   0\\n    0   0   0   0   0   0   0   0   0   0]\\n [  0   0   0   0   0   0   0   0   0   0   0 139 253 190   2   0   0   0\\n    0   0   0   0   0   0   0   0   0   0]\\n [  0   0   0   0   0   0   0   0   0   0   0  11 190 253  70   0   0   0\\n    0   0   0   0   0   0   0   0   0   0]\\n [  0   0   0   0   0   0   0   0   0   0   0   0  35 241 225 160 108   1\\n    0   0   0   0   0   0   0   0   0   0]\\n [  0   0   0   0   0   0   0   0   0   0   0   0   0  81 240 253 253 119\\n   25   0   0   0   0   0   0   0   0   0]\\n [  0   0   0   0   0   0   0   0   0   0   0   0   0   0  45 186 253 253\\n  150  27   0   0   0   0   0   0   0   0]\\n [  0   0   0   0   0   0   0   0   0   0   0   0   0   0   0  16  93 252\\n  253 187   0   0   0   0   0   0   0   0]\\n [  0   0   0   0   0   0   0   0   0   0   0   0   0   0   0   0   0 249\\n  253 249  64   0   0   0   0   0   0   0]\\n [  0   0   0   0   0   0   0   0   0   0   0   0   0   0  46 130 183 253\\n  253 207   2   0   0   0   0   0   0   0]\\n [  0   0   0   0   0   0   0   0   0   0   0   0  39 148 229 253 253 253\\n  250 182   0   0   0   0   0   0   0   0]\\n [  0   0   0   0   0   0   0   0   0   0  24 114 221 253 253 253 253 201\\n   78   0   0   0   0   0   0   0   0   0]\\n [  0   0   0   0   0   0   0   0  23  66 213 253 253 253 253 198  81   2\\n    0   0   0   0   0   0   0   0   0   0]\\n [  0   0   0   0   0   0  18 171 219 253 253 253 253 195  80   9   0   0\\n    0   0   0   0   0   0   0   0   0   0]\\n [  0   0   0   0  55 172 226 253 253 253 253 244 133  11   0   0   0   0\\n    0   0   0   0   0   0   0   0   0   0]\\n [  0   0   0   0 136 253 253 253 212 135 132  16   0   0   0   0   0   0\\n    0   0   0   0   0   0   0   0   0   0]\\n [  0   0   0   0   0   0   0   0   0   0   0   0   0   0   0   0   0   0\\n    0   0   0   0   0   0   0   0   0   0]\\n [  0   0   0   0   0   0   0   0   0   0   0   0   0   0   0   0   0   0\\n    0   0   0   0   0   0   0   0   0   0]\\n [  0   0   0   0   0   0   0   0   0   0   0   0   0   0   0   0   0   0\\n    0   0   0   0   0   0   0   0   0   0]]',\n",
            "        '5'],\n",
            "       ['[[  0   0   0   0   0   0   0   0   0   0   0   0   0   0   0   0   0   0\\n    0   0   0   0   0   0   0   0   0   0]\\n [  0   0   0   0   0   0   0   0   0   0   0   0   0   0   0   0   0   0\\n    0   0   0   0   0   0   0   0   0   0]\\n [  0   0   0   0   0   0   0   0   0   0   0   0   0   0   0   0   0   0\\n    0   0   0   0   0   0   0   0   0   0]\\n [  0   0   0   0   0   0   0   0   0   0   0   0   0   0   0   0   0   0\\n    0   0   0   0   0   0   0   0   0   0]\\n [  0   0   0   0   0   0   0   0   0   0   0   0   0   0   0  51 159 253\\n  159  50   0   0   0   0   0   0   0   0]\\n [  0   0   0   0   0   0   0   0   0   0   0   0   0   0  48 238 252 252\\n  252 237   0   0   0   0   0   0   0   0]\\n [  0   0   0   0   0   0   0   0   0   0   0   0   0  54 227 253 252 239\\n  233 252  57   6   0   0   0   0   0   0]\\n [  0   0   0   0   0   0   0   0   0   0   0  10  60 224 252 253 252 202\\n   84 252 253 122   0   0   0   0   0   0]\\n [  0   0   0   0   0   0   0   0   0   0   0 163 252 252 252 253 252 252\\n   96 189 253 167   0   0   0   0   0   0]\\n [  0   0   0   0   0   0   0   0   0   0  51 238 253 253 190 114 253 228\\n   47  79 255 168   0   0   0   0   0   0]\\n [  0   0   0   0   0   0   0   0   0  48 238 252 252 179  12  75 121  21\\n    0   0 253 243  50   0   0   0   0   0]\\n [  0   0   0   0   0   0   0   0  38 165 253 233 208  84   0   0   0   0\\n    0   0 253 252 165   0   0   0   0   0]\\n [  0   0   0   0   0   0   0   7 178 252 240  71  19  28   0   0   0   0\\n    0   0 253 252 195   0   0   0   0   0]\\n [  0   0   0   0   0   0   0  57 252 252  63   0   0   0   0   0   0   0\\n    0   0 253 252 195   0   0   0   0   0]\\n [  0   0   0   0   0   0   0 198 253 190   0   0   0   0   0   0   0   0\\n    0   0 255 253 196   0   0   0   0   0]\\n [  0   0   0   0   0   0  76 246 252 112   0   0   0   0   0   0   0   0\\n    0   0 253 252 148   0   0   0   0   0]\\n [  0   0   0   0   0   0  85 252 230  25   0   0   0   0   0   0   0   0\\n    7 135 253 186  12   0   0   0   0   0]\\n [  0   0   0   0   0   0  85 252 223   0   0   0   0   0   0   0   0   7\\n  131 252 225  71   0   0   0   0   0   0]\\n [  0   0   0   0   0   0  85 252 145   0   0   0   0   0   0   0  48 165\\n  252 173   0   0   0   0   0   0   0   0]\\n [  0   0   0   0   0   0  86 253 225   0   0   0   0   0   0 114 238 253\\n  162   0   0   0   0   0   0   0   0   0]\\n [  0   0   0   0   0   0  85 252 249 146  48  29  85 178 225 253 223 167\\n   56   0   0   0   0   0   0   0   0   0]\\n [  0   0   0   0   0   0  85 252 252 252 229 215 252 252 252 196 130   0\\n    0   0   0   0   0   0   0   0   0   0]\\n [  0   0   0   0   0   0  28 199 252 252 253 252 252 233 145   0   0   0\\n    0   0   0   0   0   0   0   0   0   0]\\n [  0   0   0   0   0   0   0  25 128 252 253 252 141  37   0   0   0   0\\n    0   0   0   0   0   0   0   0   0   0]\\n [  0   0   0   0   0   0   0   0   0   0   0   0   0   0   0   0   0   0\\n    0   0   0   0   0   0   0   0   0   0]\\n [  0   0   0   0   0   0   0   0   0   0   0   0   0   0   0   0   0   0\\n    0   0   0   0   0   0   0   0   0   0]\\n [  0   0   0   0   0   0   0   0   0   0   0   0   0   0   0   0   0   0\\n    0   0   0   0   0   0   0   0   0   0]\\n [  0   0   0   0   0   0   0   0   0   0   0   0   0   0   0   0   0   0\\n    0   0   0   0   0   0   0   0   0   0]]',\n",
            "        '0'],\n",
            "       ...,\n",
            "       ['[[  0   0   0   0   0   0   0   0   0   0   0   0   0   0   0   0   0   0\\n    0   0   0   0   0   0   0   0   0   0]\\n [  0   0   0   0   0   0   0   0   0   0   0   0   0   0   0   0   0   0\\n    0   0   0   0   0   0   0   0   0   0]\\n [  0   0   0   0   0   0   0   0   0   0   0   0   0   0   0   0   0   0\\n    0   0   0   0   0   0   0   0   0   0]\\n [  0   0   0   0   0   0   0   0   0   0   0   0   0   0   0   0   0   0\\n    0   0   0   0   0   0   0   0   0   0]\\n [  0   0   0   0   0   0   0   0   0   0   0   0   0   0   0   0   0   0\\n    0   0   0   0   0   0   0   0   0   0]\\n [  0   0   0   0   0   0   0   0   0   0   0   0   0   0   0   0   0   0\\n    0  96 121 213 255 255 121   0   0   0]\\n [  0   0   0   0   0   0   0   0   0   0   0   0   0   0   0  52 108 157\\n  241 251 253 253 242 146  69   0   0   0]\\n [  0   0   0   0   0   0   0   0   0   0   0   0  10  94 164 241 253 253\\n  223 159 131  26  23   0   0   0   0   0]\\n [  0   0   0   0   0   0   0   0   0   0  60 102 218 253 253 216 117  39\\n   27   0   0   0   0   0   0   0   0   0]\\n [  0   0   0   0   0   0   0   0   0  54 205 253 253 253 147  28   0   0\\n    0   0   0   0   0   0   0   0   0   0]\\n [  0   0   0   0   0   0   0   0  60 240 253 253 253 243  31   0   0   0\\n    0   0   0   0   0   0   0   0   0   0]\\n [  0   0   0   0   0   0   0   0  26  80 208 253 253 147   0   0   0   0\\n    0   0   0   0   0   0   0   0   0   0]\\n [  0   0   0   0   0   0   0   0   0  36 222 253 253 121   0   0   0   0\\n    0   0   0   0   0   0   0   0   0   0]\\n [  0   0   0   0   0   0   0   0   0   0 177 242 253 248 147 148  91   2\\n    0   0   0   0   0   0   0   0   0   0]\\n [  0   0   0   0   0   0   0   0   0   0   0  19 120 197 253 254 253  97\\n    0   0   0   0   0   0   0   0   0   0]\\n [  0   0   0   0   0   0   0   0   0   0   0   0   0   0  72 192 254 254\\n   40   0   0   0   0   0   0   0   0   0]\\n [  0   0   0   0   0   0   0   0   0   0   0   0   0   0   0   6 242 253\\n   39   0   0   0   0   0   0   0   0   0]\\n [  0   0   0   0   0   0   0   0   0   0   0   0   0   0   0   0 121 253\\n  159   0   0   0   0   0   0   0   0   0]\\n [  0   0   0   0   0   0   0   0   0   0   0   0   0   0   0   0 108 253\\n  173   0   0   0   0   0   0   0   0   0]\\n [  0   0   0   0   0   0   0   0   0   0   0   0   0   0   0   0 108 253\\n  173   0   0   0   0   0   0   0   0   0]\\n [  0   0   0   0   0   0   0   0   0   0   0   0   0   0   0   0 108 253\\n   74   0   0   0   0   0   0   0   0   0]\\n [  0   0   0   0   0  22   0   0   0   0   0   0   0   0   0  20 201 253\\n   39   0   0   0   0   0   0   0   0   0]\\n [  0   0   0   0   0 196 161  41   5   0   0   0   3  27  98 206 253 194\\n   15   0   0   0   0   0   0   0   0   0]\\n [  0   0   0   0   0 115 240 252 163 147 147 147 158 253 253 255 184  67\\n    0   0   0   0   0   0   0   0   0   0]\\n [  0   0   0   0   0   0   0 157 253 253 253 253 253 253 253 121   6   0\\n    0   0   0   0   0   0   0   0   0   0]\\n [  0   0   0   0   0   0   0   0   0   0   0   0   0   0   0   0   0   0\\n    0   0   0   0   0   0   0   0   0   0]\\n [  0   0   0   0   0   0   0   0   0   0   0   0   0   0   0   0   0   0\\n    0   0   0   0   0   0   0   0   0   0]\\n [  0   0   0   0   0   0   0   0   0   0   0   0   0   0   0   0   0   0\\n    0   0   0   0   0   0   0   0   0   0]]',\n",
            "        '5'],\n",
            "       ['[[  0   0   0   0   0   0   0   0   0   0   0   0   0   0   0   0   0   0\\n    0   0   0   0   0   0   0   0   0   0]\\n [  0   0   0   0   0   0   0   0   0   0   0   0   0   0   0   0   0   0\\n    0   0   0   0   0   0   0   0   0   0]\\n [  0   0   0   0   0   0   0   0   0   0   0   0   0   0   0   0   0   0\\n   55 192 230  27   0   0   0   0   0   0]\\n [  0   0   0   0   0   0   0   0   0   0   0   0   0   0   0   0   0   8\\n  152 252 193  27   0   0   0   0   0   0]\\n [  0   0   0   0   0   0   0   0   0   0   0   0   0   0   0   0   8 129\\n  252 190   9   0   0   0   0   0   0   0]\\n [  0   0   0   0   0   0   0   0   0   0   0   0   0   0   0   0 155 252\\n  210  14   0   0   0   0   0   0   0   0]\\n [  0   0   0   0   0   0   0   0   0   0   0   0   0   0   0  62 216 199\\n   66   0   0   0   0   0   0   0   0   0]\\n [  0   0   0   0   0   0   0   0   0   0   0   0   0  11  43 254 222  62\\n    0   0   0   0   0   0   0   0   0   0]\\n [  0   0   0   0   0   0   0   0   0   0   0   0   0 143 252 222  16   0\\n    0   0   0   0   0   0   0   0   0   0]\\n [  0   0   0   0   0   0   0   0   0   0   0   0 169 246 208  17   0   0\\n    0   0   0   0   0   0   0   0   0   0]\\n [  0   0   0   0   0   0   0   0   0   0  11 143 246 236 101   0   0   0\\n    0   0   0   0   0   0   0   0   0   0]\\n [  0   0   0   0   0   0   0   0   0   0  69 226 199 111   0   0   0   0\\n    0   0   0   0   0   0   0   0   0   0]\\n [  0   0   0   0   0   0   0   0   0   0 254 253  21   0   0   0   0   0\\n    0   0   0   0   0   0   0   0   0   0]\\n [  0   0   0   0   0   0   0   0   0 124 253 110   5   0   0   0   0   0\\n   22 128 191 190 137  28   0   0   0   0]\\n [  0   0   0   0   0   0   0   0 112 241 170  32   0   0   0  31 127 180\\n  237 252 253 252 242  42   0   0   0   0]\\n [  0   0   0   0   0   0   0   6 190 226   0   0   0   0  27 218 252 194\\n  162  84  84 131 232  35   0   0   0   0]\\n [  0   0   0   0   0   0   0 110 252 147   0   0   0   0 194 253 217  56\\n    0   0  18 216 187   0   0   0   0   0]\\n [  0   0   0   0   0   0   0 233 216  18   0   0   0  27 194 150 106   9\\n    0 124 255 186   9   0   0   0   0   0]\\n [  0   0   0   0   0   0  64 247 110   0   0   0   0   0   0   0   0  87\\n  146 163  63  16   0   0   0   0   0   0]\\n [  0   0   0   0   0   0  14 236 128   0   0   0  11  22  66 128 206 231\\n  178  12   0   0   0   0   0   0   0   0]\\n [  0   0   0   0   0   0  28 239 196 169  82 169 211 252 252 128  84   7\\n    0   0   0   0   0   0   0   0   0   0]\\n [  0   0   0   0   0   0  36 241 252 252 253 217 138  42  42   0   0   0\\n    0   0   0   0   0   0   0   0   0   0]\\n [  0   0   0   0   0   0   0   0   0   0   0   0   0   0   0   0   0   0\\n    0   0   0   0   0   0   0   0   0   0]\\n [  0   0   0   0   0   0   0   0   0   0   0   0   0   0   0   0   0   0\\n    0   0   0   0   0   0   0   0   0   0]\\n [  0   0   0   0   0   0   0   0   0   0   0   0   0   0   0   0   0   0\\n    0   0   0   0   0   0   0   0   0   0]\\n [  0   0   0   0   0   0   0   0   0   0   0   0   0   0   0   0   0   0\\n    0   0   0   0   0   0   0   0   0   0]\\n [  0   0   0   0   0   0   0   0   0   0   0   0   0   0   0   0   0   0\\n    0   0   0   0   0   0   0   0   0   0]\\n [  0   0   0   0   0   0   0   0   0   0   0   0   0   0   0   0   0   0\\n    0   0   0   0   0   0   0   0   0   0]]',\n",
            "        '6'],\n",
            "       ['[[  0   0   0   0   0   0   0   0   0   0   0   0   0   0   0   0   0   0\\n    0   0   0   0   0   0   0   0   0   0]\\n [  0   0   0   0   0   0   0   0   0   0   0   0   0   0   0   0   0   0\\n    0   0   0   0   0   0   0   0   0   0]\\n [  0   0   0   0   0   0   0   0   0   0   0   0   0   0   0   0   0   0\\n    0   0   0   0   0   0   0   0   0   0]\\n [  0   0   0   0   0   0   0   0   0   0   0   0   0   0   0   0   0   0\\n    0   0   0   0   0   0   0   0   0   0]\\n [  0   0   0   0   0   0   0   0   0   0   0   0   0   0   0   0   0   0\\n    0   0   0   0   0   0   0   0   0   0]\\n [  0   0   0   0   0   0   0   0   0   0   0   0   0   0   0   0   0   0\\n    0   0   0   0   0   0   0   0   0   0]\\n [  0   0   0   0   0   0   0   0   0   0   0   0   0   0   0   0  38  48\\n   48  22   0   0   0   0   0   0   0   0]\\n [  0   0   0   0   0   0   0   0   0   0   0   0   0  62  97 198 243 254\\n  254 212  27   0   0   0   0   0   0   0]\\n [  0   0   0   0   0   0   0   0   0   0   0   0  67 172 254 254 225 218\\n  218 237 248  40   0  21 164 187   0   0]\\n [  0   0   0   0   0   0   0   0   0   0   0  89 219 254  97  67  14   0\\n    0  92 231 122  23 203 236  59   0   0]\\n [  0   0   0   0   0   0   0   0   0   0  25 217 242  92   4   0   0   0\\n    0   4 147 253 240 232  92   0   0   0]\\n [  0   0   0   0   0   0   0   0   0   0 101 255  92   0   0   0   0   0\\n    0 105 254 254 177  11   0   0   0   0]\\n [  0   0   0   0   0   0   0   0   0   0 167 244  41   0   0   0   7  76\\n  199 238 239  94  10   0   0   0   0   0]\\n [  0   0   0   0   0   0   0   0   0   0 192 121   0   0   2  63 180 254\\n  233 126   0   0   0   0   0   0   0   0]\\n [  0   0   0   0   0   0   0   0   0   0 190 196  14   2  97 254 252 146\\n   52   0   0   0   0   0   0   0   0   0]\\n [  0   0   0   0   0   0   0   0   0   0 130 225  71 180 232 181  60   0\\n    0   0   0   0   0   0   0   0   0   0]\\n [  0   0   0   0   0   0   0   0   0   0 130 254 254 230  46   0   0   0\\n    0   0   0   0   0   0   0   0   0   0]\\n [  0   0   0   0   0   0   0   0   6  77 244 254 162   4   0   0   0   0\\n    0   0   0   0   0   0   0   0   0   0]\\n [  0   0   0   0   0   0   0   0 110 254 218 254 116   0   0   0   0   0\\n    0   0   0   0   0   0   0   0   0   0]\\n [  0   0   0   0   0   0   0 131 254 154  28 213  86   0   0   0   0   0\\n    0   0   0   0   0   0   0   0   0   0]\\n [  0   0   0   0   0   0  66 209 153  19  19 233  60   0   0   0   0   0\\n    0   0   0   0   0   0   0   0   0   0]\\n [  0   0   0   0   0   0 142 254 165   0  14 216 167   0   0   0   0   0\\n    0   0   0   0   0   0   0   0   0   0]\\n [  0   0   0   0   0   0  90 254 175   0  18 229  92   0   0   0   0   0\\n    0   0   0   0   0   0   0   0   0   0]\\n [  0   0   0   0   0   0  26 229 249 176 222 244  44   0   0   0   0   0\\n    0   0   0   0   0   0   0   0   0   0]\\n [  0   0   0   0   0   0   0  73 193 197 134   0   0   0   0   0   0   0\\n    0   0   0   0   0   0   0   0   0   0]\\n [  0   0   0   0   0   0   0   0   0   0   0   0   0   0   0   0   0   0\\n    0   0   0   0   0   0   0   0   0   0]\\n [  0   0   0   0   0   0   0   0   0   0   0   0   0   0   0   0   0   0\\n    0   0   0   0   0   0   0   0   0   0]\\n [  0   0   0   0   0   0   0   0   0   0   0   0   0   0   0   0   0   0\\n    0   0   0   0   0   0   0   0   0   0]]',\n",
            "        '8']], dtype='<U3276'), array([['image', 'label'],\n",
            "       ['[[  0   0   0   0   0   0   0   0   0   0   0   0   0   0   0   0   0   0\\n    0   0   0   0   0   0   0   0   0   0]\\n [  0   0   0   0   0   0   0   0   0   0   0   0   0   0   0   0   0   0\\n    0   0   0   0   0   0   0   0   0   0]\\n [  0   0   0   0   0   0   0   0   0   0   0   0   0   0   0   0   0   0\\n    0   0   0   0   0   0   0   0   0   0]\\n [  0   0   0   0   0   0   0   0   0   0   0   0   0   0   0   0   0   0\\n    0   0   0   0   0   0   0   0   0   0]\\n [  0   0   0   0   0   0   0   0   0   0   0   0   0   0   0   0   0   0\\n    0   0   0   0   0   0   0   0   0   0]\\n [  0   0   0   0   0   0   0   0   0   0   0   0   3  18  18  18 126 136\\n  175  26 166 255 247 127   0   0   0   0]\\n [  0   0   0   0   0   0   0   0  30  36  94 154 170 253 253 253 253 253\\n  225 172 253 242 195  64   0   0   0   0]\\n [  0   0   0   0   0   0   0  49 238 253 253 253 253 253 253 253 253 251\\n   93  82  82  56  39   0   0   0   0   0]\\n [  0   0   0   0   0   0   0  18 219 253 253 253 253 253 198 182 247 241\\n    0   0   0   0   0   0   0   0   0   0]\\n [  0   0   0   0   0   0   0   0  80 156 107 253 253 205  11   0  43 154\\n    0   0   0   0   0   0   0   0   0   0]\\n [  0   0   0   0   0   0   0   0   0  14   1 154 253  90   0   0   0   0\\n    0   0   0   0   0   0   0   0   0   0]\\n [  0   0   0   0   0   0   0   0   0   0   0 139 253 190   2   0   0   0\\n    0   0   0   0   0   0   0   0   0   0]\\n [  0   0   0   0   0   0   0   0   0   0   0  11 190 253  70   0   0   0\\n    0   0   0   0   0   0   0   0   0   0]\\n [  0   0   0   0   0   0   0   0   0   0   0   0  35 241 225 160 108   1\\n    0   0   0   0   0   0   0   0   0   0]\\n [  0   0   0   0   0   0   0   0   0   0   0   0   0  81 240 253 253 119\\n   25   0   0   0   0   0   0   0   0   0]\\n [  0   0   0   0   0   0   0   0   0   0   0   0   0   0  45 186 253 253\\n  150  27   0   0   0   0   0   0   0   0]\\n [  0   0   0   0   0   0   0   0   0   0   0   0   0   0   0  16  93 252\\n  253 187   0   0   0   0   0   0   0   0]\\n [  0   0   0   0   0   0   0   0   0   0   0   0   0   0   0   0   0 249\\n  253 249  64   0   0   0   0   0   0   0]\\n [  0   0   0   0   0   0   0   0   0   0   0   0   0   0  46 130 183 253\\n  253 207   2   0   0   0   0   0   0   0]\\n [  0   0   0   0   0   0   0   0   0   0   0   0  39 148 229 253 253 253\\n  250 182   0   0   0   0   0   0   0   0]\\n [  0   0   0   0   0   0   0   0   0   0  24 114 221 253 253 253 253 201\\n   78   0   0   0   0   0   0   0   0   0]\\n [  0   0   0   0   0   0   0   0  23  66 213 253 253 253 253 198  81   2\\n    0   0   0   0   0   0   0   0   0   0]\\n [  0   0   0   0   0   0  18 171 219 253 253 253 253 195  80   9   0   0\\n    0   0   0   0   0   0   0   0   0   0]\\n [  0   0   0   0  55 172 226 253 253 253 253 244 133  11   0   0   0   0\\n    0   0   0   0   0   0   0   0   0   0]\\n [  0   0   0   0 136 253 253 253 212 135 132  16   0   0   0   0   0   0\\n    0   0   0   0   0   0   0   0   0   0]\\n [  0   0   0   0   0   0   0   0   0   0   0   0   0   0   0   0   0   0\\n    0   0   0   0   0   0   0   0   0   0]\\n [  0   0   0   0   0   0   0   0   0   0   0   0   0   0   0   0   0   0\\n    0   0   0   0   0   0   0   0   0   0]\\n [  0   0   0   0   0   0   0   0   0   0   0   0   0   0   0   0   0   0\\n    0   0   0   0   0   0   0   0   0   0]]',\n",
            "        '5'],\n",
            "       ['[[  0   0   0   0   0   0   0   0   0   0   0   0   0   0   0   0   0   0\\n    0   0   0   0   0   0   0   0   0   0]\\n [  0   0   0   0   0   0   0   0   0   0   0   0   0   0   0   0   0   0\\n    0   0   0   0   0   0   0   0   0   0]\\n [  0   0   0   0   0   0   0   0   0   0   0   0   0   0   0   0   0   0\\n    0   0   0   0   0   0   0   0   0   0]\\n [  0   0   0   0   0   0   0   0   0   0   0   0   0   0   0   0   0   0\\n    0   0   0   0   0   0   0   0   0   0]\\n [  0   0   0   0   0   0   0   0   0   0   0   0   0   0   0  51 159 253\\n  159  50   0   0   0   0   0   0   0   0]\\n [  0   0   0   0   0   0   0   0   0   0   0   0   0   0  48 238 252 252\\n  252 237   0   0   0   0   0   0   0   0]\\n [  0   0   0   0   0   0   0   0   0   0   0   0   0  54 227 253 252 239\\n  233 252  57   6   0   0   0   0   0   0]\\n [  0   0   0   0   0   0   0   0   0   0   0  10  60 224 252 253 252 202\\n   84 252 253 122   0   0   0   0   0   0]\\n [  0   0   0   0   0   0   0   0   0   0   0 163 252 252 252 253 252 252\\n   96 189 253 167   0   0   0   0   0   0]\\n [  0   0   0   0   0   0   0   0   0   0  51 238 253 253 190 114 253 228\\n   47  79 255 168   0   0   0   0   0   0]\\n [  0   0   0   0   0   0   0   0   0  48 238 252 252 179  12  75 121  21\\n    0   0 253 243  50   0   0   0   0   0]\\n [  0   0   0   0   0   0   0   0  38 165 253 233 208  84   0   0   0   0\\n    0   0 253 252 165   0   0   0   0   0]\\n [  0   0   0   0   0   0   0   7 178 252 240  71  19  28   0   0   0   0\\n    0   0 253 252 195   0   0   0   0   0]\\n [  0   0   0   0   0   0   0  57 252 252  63   0   0   0   0   0   0   0\\n    0   0 253 252 195   0   0   0   0   0]\\n [  0   0   0   0   0   0   0 198 253 190   0   0   0   0   0   0   0   0\\n    0   0 255 253 196   0   0   0   0   0]\\n [  0   0   0   0   0   0  76 246 252 112   0   0   0   0   0   0   0   0\\n    0   0 253 252 148   0   0   0   0   0]\\n [  0   0   0   0   0   0  85 252 230  25   0   0   0   0   0   0   0   0\\n    7 135 253 186  12   0   0   0   0   0]\\n [  0   0   0   0   0   0  85 252 223   0   0   0   0   0   0   0   0   7\\n  131 252 225  71   0   0   0   0   0   0]\\n [  0   0   0   0   0   0  85 252 145   0   0   0   0   0   0   0  48 165\\n  252 173   0   0   0   0   0   0   0   0]\\n [  0   0   0   0   0   0  86 253 225   0   0   0   0   0   0 114 238 253\\n  162   0   0   0   0   0   0   0   0   0]\\n [  0   0   0   0   0   0  85 252 249 146  48  29  85 178 225 253 223 167\\n   56   0   0   0   0   0   0   0   0   0]\\n [  0   0   0   0   0   0  85 252 252 252 229 215 252 252 252 196 130   0\\n    0   0   0   0   0   0   0   0   0   0]\\n [  0   0   0   0   0   0  28 199 252 252 253 252 252 233 145   0   0   0\\n    0   0   0   0   0   0   0   0   0   0]\\n [  0   0   0   0   0   0   0  25 128 252 253 252 141  37   0   0   0   0\\n    0   0   0   0   0   0   0   0   0   0]\\n [  0   0   0   0   0   0   0   0   0   0   0   0   0   0   0   0   0   0\\n    0   0   0   0   0   0   0   0   0   0]\\n [  0   0   0   0   0   0   0   0   0   0   0   0   0   0   0   0   0   0\\n    0   0   0   0   0   0   0   0   0   0]\\n [  0   0   0   0   0   0   0   0   0   0   0   0   0   0   0   0   0   0\\n    0   0   0   0   0   0   0   0   0   0]\\n [  0   0   0   0   0   0   0   0   0   0   0   0   0   0   0   0   0   0\\n    0   0   0   0   0   0   0   0   0   0]]',\n",
            "        '0'],\n",
            "       ...,\n",
            "       ['[[  0   0   0   0   0   0   0   0   0   0   0   0   0   0   0   0   0   0\\n    0   0   0   0   0   0   0   0   0   0]\\n [  0   0   0   0   0   0   0   0   0   0   0   0   0   0   0   0   0   0\\n    0   0   0   0   0   0   0   0   0   0]\\n [  0   0   0   0   0   0   0   0   0   0   0   0   0   0   0   0   0   0\\n    0   0   0   0   0   0   0   0   0   0]\\n [  0   0   0   0   0   0   0   0   0   0   0   0   0   0   0   0   0   0\\n    0   0   0   0   0   0   0   0   0   0]\\n [  0   0   0   0   0   0   0   0   0   0   0   0   0   0   0   0   0   0\\n    0   0   0   0   0   0   0   0   0   0]\\n [  0   0   0   0   0   0   0   0   0   0   0   0   0   0   0   0   0   0\\n    0  96 121 213 255 255 121   0   0   0]\\n [  0   0   0   0   0   0   0   0   0   0   0   0   0   0   0  52 108 157\\n  241 251 253 253 242 146  69   0   0   0]\\n [  0   0   0   0   0   0   0   0   0   0   0   0  10  94 164 241 253 253\\n  223 159 131  26  23   0   0   0   0   0]\\n [  0   0   0   0   0   0   0   0   0   0  60 102 218 253 253 216 117  39\\n   27   0   0   0   0   0   0   0   0   0]\\n [  0   0   0   0   0   0   0   0   0  54 205 253 253 253 147  28   0   0\\n    0   0   0   0   0   0   0   0   0   0]\\n [  0   0   0   0   0   0   0   0  60 240 253 253 253 243  31   0   0   0\\n    0   0   0   0   0   0   0   0   0   0]\\n [  0   0   0   0   0   0   0   0  26  80 208 253 253 147   0   0   0   0\\n    0   0   0   0   0   0   0   0   0   0]\\n [  0   0   0   0   0   0   0   0   0  36 222 253 253 121   0   0   0   0\\n    0   0   0   0   0   0   0   0   0   0]\\n [  0   0   0   0   0   0   0   0   0   0 177 242 253 248 147 148  91   2\\n    0   0   0   0   0   0   0   0   0   0]\\n [  0   0   0   0   0   0   0   0   0   0   0  19 120 197 253 254 253  97\\n    0   0   0   0   0   0   0   0   0   0]\\n [  0   0   0   0   0   0   0   0   0   0   0   0   0   0  72 192 254 254\\n   40   0   0   0   0   0   0   0   0   0]\\n [  0   0   0   0   0   0   0   0   0   0   0   0   0   0   0   6 242 253\\n   39   0   0   0   0   0   0   0   0   0]\\n [  0   0   0   0   0   0   0   0   0   0   0   0   0   0   0   0 121 253\\n  159   0   0   0   0   0   0   0   0   0]\\n [  0   0   0   0   0   0   0   0   0   0   0   0   0   0   0   0 108 253\\n  173   0   0   0   0   0   0   0   0   0]\\n [  0   0   0   0   0   0   0   0   0   0   0   0   0   0   0   0 108 253\\n  173   0   0   0   0   0   0   0   0   0]\\n [  0   0   0   0   0   0   0   0   0   0   0   0   0   0   0   0 108 253\\n   74   0   0   0   0   0   0   0   0   0]\\n [  0   0   0   0   0  22   0   0   0   0   0   0   0   0   0  20 201 253\\n   39   0   0   0   0   0   0   0   0   0]\\n [  0   0   0   0   0 196 161  41   5   0   0   0   3  27  98 206 253 194\\n   15   0   0   0   0   0   0   0   0   0]\\n [  0   0   0   0   0 115 240 252 163 147 147 147 158 253 253 255 184  67\\n    0   0   0   0   0   0   0   0   0   0]\\n [  0   0   0   0   0   0   0 157 253 253 253 253 253 253 253 121   6   0\\n    0   0   0   0   0   0   0   0   0   0]\\n [  0   0   0   0   0   0   0   0   0   0   0   0   0   0   0   0   0   0\\n    0   0   0   0   0   0   0   0   0   0]\\n [  0   0   0   0   0   0   0   0   0   0   0   0   0   0   0   0   0   0\\n    0   0   0   0   0   0   0   0   0   0]\\n [  0   0   0   0   0   0   0   0   0   0   0   0   0   0   0   0   0   0\\n    0   0   0   0   0   0   0   0   0   0]]',\n",
            "        '5'],\n",
            "       ['[[  0   0   0   0   0   0   0   0   0   0   0   0   0   0   0   0   0   0\\n    0   0   0   0   0   0   0   0   0   0]\\n [  0   0   0   0   0   0   0   0   0   0   0   0   0   0   0   0   0   0\\n    0   0   0   0   0   0   0   0   0   0]\\n [  0   0   0   0   0   0   0   0   0   0   0   0   0   0   0   0   0   0\\n   55 192 230  27   0   0   0   0   0   0]\\n [  0   0   0   0   0   0   0   0   0   0   0   0   0   0   0   0   0   8\\n  152 252 193  27   0   0   0   0   0   0]\\n [  0   0   0   0   0   0   0   0   0   0   0   0   0   0   0   0   8 129\\n  252 190   9   0   0   0   0   0   0   0]\\n [  0   0   0   0   0   0   0   0   0   0   0   0   0   0   0   0 155 252\\n  210  14   0   0   0   0   0   0   0   0]\\n [  0   0   0   0   0   0   0   0   0   0   0   0   0   0   0  62 216 199\\n   66   0   0   0   0   0   0   0   0   0]\\n [  0   0   0   0   0   0   0   0   0   0   0   0   0  11  43 254 222  62\\n    0   0   0   0   0   0   0   0   0   0]\\n [  0   0   0   0   0   0   0   0   0   0   0   0   0 143 252 222  16   0\\n    0   0   0   0   0   0   0   0   0   0]\\n [  0   0   0   0   0   0   0   0   0   0   0   0 169 246 208  17   0   0\\n    0   0   0   0   0   0   0   0   0   0]\\n [  0   0   0   0   0   0   0   0   0   0  11 143 246 236 101   0   0   0\\n    0   0   0   0   0   0   0   0   0   0]\\n [  0   0   0   0   0   0   0   0   0   0  69 226 199 111   0   0   0   0\\n    0   0   0   0   0   0   0   0   0   0]\\n [  0   0   0   0   0   0   0   0   0   0 254 253  21   0   0   0   0   0\\n    0   0   0   0   0   0   0   0   0   0]\\n [  0   0   0   0   0   0   0   0   0 124 253 110   5   0   0   0   0   0\\n   22 128 191 190 137  28   0   0   0   0]\\n [  0   0   0   0   0   0   0   0 112 241 170  32   0   0   0  31 127 180\\n  237 252 253 252 242  42   0   0   0   0]\\n [  0   0   0   0   0   0   0   6 190 226   0   0   0   0  27 218 252 194\\n  162  84  84 131 232  35   0   0   0   0]\\n [  0   0   0   0   0   0   0 110 252 147   0   0   0   0 194 253 217  56\\n    0   0  18 216 187   0   0   0   0   0]\\n [  0   0   0   0   0   0   0 233 216  18   0   0   0  27 194 150 106   9\\n    0 124 255 186   9   0   0   0   0   0]\\n [  0   0   0   0   0   0  64 247 110   0   0   0   0   0   0   0   0  87\\n  146 163  63  16   0   0   0   0   0   0]\\n [  0   0   0   0   0   0  14 236 128   0   0   0  11  22  66 128 206 231\\n  178  12   0   0   0   0   0   0   0   0]\\n [  0   0   0   0   0   0  28 239 196 169  82 169 211 252 252 128  84   7\\n    0   0   0   0   0   0   0   0   0   0]\\n [  0   0   0   0   0   0  36 241 252 252 253 217 138  42  42   0   0   0\\n    0   0   0   0   0   0   0   0   0   0]\\n [  0   0   0   0   0   0   0   0   0   0   0   0   0   0   0   0   0   0\\n    0   0   0   0   0   0   0   0   0   0]\\n [  0   0   0   0   0   0   0   0   0   0   0   0   0   0   0   0   0   0\\n    0   0   0   0   0   0   0   0   0   0]\\n [  0   0   0   0   0   0   0   0   0   0   0   0   0   0   0   0   0   0\\n    0   0   0   0   0   0   0   0   0   0]\\n [  0   0   0   0   0   0   0   0   0   0   0   0   0   0   0   0   0   0\\n    0   0   0   0   0   0   0   0   0   0]\\n [  0   0   0   0   0   0   0   0   0   0   0   0   0   0   0   0   0   0\\n    0   0   0   0   0   0   0   0   0   0]\\n [  0   0   0   0   0   0   0   0   0   0   0   0   0   0   0   0   0   0\\n    0   0   0   0   0   0   0   0   0   0]]',\n",
            "        '6'],\n",
            "       ['[[  0   0   0   0   0   0   0   0   0   0   0   0   0   0   0   0   0   0\\n    0   0   0   0   0   0   0   0   0   0]\\n [  0   0   0   0   0   0   0   0   0   0   0   0   0   0   0   0   0   0\\n    0   0   0   0   0   0   0   0   0   0]\\n [  0   0   0   0   0   0   0   0   0   0   0   0   0   0   0   0   0   0\\n    0   0   0   0   0   0   0   0   0   0]\\n [  0   0   0   0   0   0   0   0   0   0   0   0   0   0   0   0   0   0\\n    0   0   0   0   0   0   0   0   0   0]\\n [  0   0   0   0   0   0   0   0   0   0   0   0   0   0   0   0   0   0\\n    0   0   0   0   0   0   0   0   0   0]\\n [  0   0   0   0   0   0   0   0   0   0   0   0   0   0   0   0   0   0\\n    0   0   0   0   0   0   0   0   0   0]\\n [  0   0   0   0   0   0   0   0   0   0   0   0   0   0   0   0  38  48\\n   48  22   0   0   0   0   0   0   0   0]\\n [  0   0   0   0   0   0   0   0   0   0   0   0   0  62  97 198 243 254\\n  254 212  27   0   0   0   0   0   0   0]\\n [  0   0   0   0   0   0   0   0   0   0   0   0  67 172 254 254 225 218\\n  218 237 248  40   0  21 164 187   0   0]\\n [  0   0   0   0   0   0   0   0   0   0   0  89 219 254  97  67  14   0\\n    0  92 231 122  23 203 236  59   0   0]\\n [  0   0   0   0   0   0   0   0   0   0  25 217 242  92   4   0   0   0\\n    0   4 147 253 240 232  92   0   0   0]\\n [  0   0   0   0   0   0   0   0   0   0 101 255  92   0   0   0   0   0\\n    0 105 254 254 177  11   0   0   0   0]\\n [  0   0   0   0   0   0   0   0   0   0 167 244  41   0   0   0   7  76\\n  199 238 239  94  10   0   0   0   0   0]\\n [  0   0   0   0   0   0   0   0   0   0 192 121   0   0   2  63 180 254\\n  233 126   0   0   0   0   0   0   0   0]\\n [  0   0   0   0   0   0   0   0   0   0 190 196  14   2  97 254 252 146\\n   52   0   0   0   0   0   0   0   0   0]\\n [  0   0   0   0   0   0   0   0   0   0 130 225  71 180 232 181  60   0\\n    0   0   0   0   0   0   0   0   0   0]\\n [  0   0   0   0   0   0   0   0   0   0 130 254 254 230  46   0   0   0\\n    0   0   0   0   0   0   0   0   0   0]\\n [  0   0   0   0   0   0   0   0   6  77 244 254 162   4   0   0   0   0\\n    0   0   0   0   0   0   0   0   0   0]\\n [  0   0   0   0   0   0   0   0 110 254 218 254 116   0   0   0   0   0\\n    0   0   0   0   0   0   0   0   0   0]\\n [  0   0   0   0   0   0   0 131 254 154  28 213  86   0   0   0   0   0\\n    0   0   0   0   0   0   0   0   0   0]\\n [  0   0   0   0   0   0  66 209 153  19  19 233  60   0   0   0   0   0\\n    0   0   0   0   0   0   0   0   0   0]\\n [  0   0   0   0   0   0 142 254 165   0  14 216 167   0   0   0   0   0\\n    0   0   0   0   0   0   0   0   0   0]\\n [  0   0   0   0   0   0  90 254 175   0  18 229  92   0   0   0   0   0\\n    0   0   0   0   0   0   0   0   0   0]\\n [  0   0   0   0   0   0  26 229 249 176 222 244  44   0   0   0   0   0\\n    0   0   0   0   0   0   0   0   0   0]\\n [  0   0   0   0   0   0   0  73 193 197 134   0   0   0   0   0   0   0\\n    0   0   0   0   0   0   0   0   0   0]\\n [  0   0   0   0   0   0   0   0   0   0   0   0   0   0   0   0   0   0\\n    0   0   0   0   0   0   0   0   0   0]\\n [  0   0   0   0   0   0   0   0   0   0   0   0   0   0   0   0   0   0\\n    0   0   0   0   0   0   0   0   0   0]\\n [  0   0   0   0   0   0   0   0   0   0   0   0   0   0   0   0   0   0\\n    0   0   0   0   0   0   0   0   0   0]]',\n",
            "        '8']], dtype='<U3276'))\n"
          ]
        }
      ]
    }
  ]
}