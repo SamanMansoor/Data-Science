{
  "nbformat": 4,
  "nbformat_minor": 0,
  "metadata": {
    "colab": {
      "provenance": [],
      "authorship_tag": "ABX9TyO9x5FNIhlKWvz3LT6Zrrtr",
      "include_colab_link": true
    },
    "kernelspec": {
      "name": "python3",
      "display_name": "Python 3"
    },
    "language_info": {
      "name": "python"
    }
  },
  "cells": [
    {
      "cell_type": "markdown",
      "metadata": {
        "id": "view-in-github",
        "colab_type": "text"
      },
      "source": [
        "<a href=\"https://colab.research.google.com/github/SamanMansoor/Data-Science/blob/main/Convert_VGG_.ipynb\" target=\"_parent\"><img src=\"https://colab.research.google.com/assets/colab-badge.svg\" alt=\"Open In Colab\"/></a>"
      ]
    },
    {
      "cell_type": "markdown",
      "source": [
        "# **Task Convert into Yolo Format**"
      ],
      "metadata": {
        "id": "Sz7tSF5DBpMX"
      }
    },
    {
      "cell_type": "code",
      "source": [
        "import json\n",
        "\n",
        "# Set the class mapping dictionary\n",
        "class_mapping = {\"dog\": 0, \"cat\": 1}\n",
        "\n",
        "# Set the output file paths\n",
        "json_file_path = \"/content/cat_dog_annotations.json\"\n",
        "output_file_path = \"output.txt\"\n",
        "\n",
        "# Load the JSON file\n",
        "with open(json_file_path, \"r\") as f:\n",
        "    data = json.load(f)\n",
        "\n",
        "# Loop over the images in the JSON\n",
        "for image_id, (image_filename, image_data) in enumerate(data[\"_via_img_metadata\"].items()):\n",
        "    # Get the image width and height\n",
        "    #default_height=[]\n",
        "    #default_width=[]\n",
        "    width = image_data.get(\"width\", 300)\n",
        "    height = image_data.get(\"height\", 600)\n",
        "\n",
        "    # Open the output file for this image\n",
        "    output_filename = f\"{image_id}.txt\"\n",
        "    with open(output_filename, \"w\") as output_file:\n",
        "        # Loop over the regions in the image\n",
        "        for region in image_data[\"regions\"]:\n",
        "            # Get the class name and convert it to an integer\n",
        "            class_name = list(region[\"region_attributes\"][\"class\"].keys())[0]\n",
        "            class_id = class_mapping[class_name]\n",
        "\n",
        "            # Get the bounding box coordinates and convert them to YOLO format\n",
        "            x = region[\"shape_attributes\"][\"x\"]\n",
        "            y = region[\"shape_attributes\"][\"y\"]\n",
        "            w = region[\"shape_attributes\"][\"width\"]\n",
        "            h = region[\"shape_attributes\"][\"height\"]\n",
        "            x_center = x + w / 2\n",
        "            y_center = y + h / 2\n",
        "            x_center /= width\n",
        "            y_center /= height\n",
        "            w /= width\n",
        "            h /= height\n",
        "\n",
        "            # Write the object detection annotation to the output file\n",
        "            output_file.write(f\"{class_id} {x_center} {y_center} {w} {h}\\n\")\n"
      ],
      "metadata": {
        "id": "f9FBbZdt4MqB"
      },
      "execution_count": 22,
      "outputs": []
    },
    {
      "cell_type": "markdown",
      "source": [
        "#**Task2- Convert VGG Via Annotation file into COCO Format**"
      ],
      "metadata": {
        "id": "9NuSVK5zCJJQ"
      }
    },
    {
      "cell_type": "code",
      "source": [
        "import json\n",
        "from pycocotools import mask as maskUtils\n",
        "from PIL import Image\n",
        "\n",
        "# Load the VIA annotations from the JSON file\n",
        "with open('/content/cat_dog_annotations.json') as f:\n",
        "    data = json.load(f)\n",
        "\n",
        "# Initialize the COCO dataset object\n",
        "dataset = {\n",
        "    \"info\": {},\n",
        "    \"licenses\": [],\n",
        "    \"categories\": [{\"id\": 1, \"name\": \"dog\"}, {\"id\": 2, \"name\": \"cat\"}],\n",
        "    \"images\": [],\n",
        "    \"annotations\": []\n",
        "}\n",
        "\n",
        "# Add images and annotations to the dataset object\n",
        "image_id = 1\n",
        "annotation_id = 1\n",
        "for filename in data['_via_img_metadata']:\n",
        "    # Add the image to the dataset\n",
        "    img = Image.open(\"/content/1.jpeg\")\n",
        "    width, height = img.size\n",
        "    dataset['images'].append({\n",
        "        \"id\": image_id,\n",
        "        \"width\": width,\n",
        "        \"height\": height,\n",
        "        \"file_name\": filename\n",
        "    })\n",
        "\n",
        "    # Add annotations to the dataset\n",
        "    for region in data['_via_img_metadata'][filename]['regions']:\n",
        "        x, y, w, h = region['shape_attributes']['x'], region['shape_attributes']['y'], region['shape_attributes']['width'], region['shape_attributes']['height']\n",
        "        category = region['region_attributes']['class']\n",
        "        if category == {'dog': True}:\n",
        "            category_id = 1\n",
        "        elif category == {'cat': True}:\n",
        "            category_id = 2\n",
        "        else:\n",
        "            continue\n",
        "        area = w * h\n",
        "        bbox = [x, y, w, h]\n",
        "        segmentation = [[x, y, x+w, y, x+w, y+h, x, y+h]]\n",
        "        annotation = {\n",
        "            \"id\": annotation_id,\n",
        "            \"image_id\": image_id,\n",
        "            \"category_id\": category_id,\n",
        "            \"bbox\": bbox,\n",
        "            \"area\": area,\n",
        "            \"segmentation\": segmentation,\n",
        "            \"iscrowd\": 0\n",
        "        }\n",
        "        dataset['annotations'].append(annotation)\n",
        "        annotation_id += 1\n",
        "\n",
        "    image_id += 1\n",
        "\n",
        "# Save the dataset object to a JSON file\n",
        "with open('coco_annotations.json', 'w') as f:\n",
        "    json.dump(dataset, f)\n"
      ],
      "metadata": {
        "id": "VJ_IJOviCI5s"
      },
      "execution_count": 25,
      "outputs": []
    }
  ]
}