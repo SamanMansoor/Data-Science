{
  "nbformat": 4,
  "nbformat_minor": 0,
  "metadata": {
    "colab": {
      "provenance": [],
      "authorship_tag": "ABX9TyMzyiw00Tl7oEgxykKak+kG",
      "include_colab_link": true
    },
    "kernelspec": {
      "name": "python3",
      "display_name": "Python 3"
    },
    "language_info": {
      "name": "python"
    }
  },
  "cells": [
    {
      "cell_type": "markdown",
      "metadata": {
        "id": "view-in-github",
        "colab_type": "text"
      },
      "source": [
        "<a href=\"https://colab.research.google.com/github/SamanMansoor/Data-Science/blob/main/Big_Data_Steel_Industry.ipynb\" target=\"_parent\"><img src=\"https://colab.research.google.com/assets/colab-badge.svg\" alt=\"Open In Colab\"/></a>"
      ]
    },
    {
      "cell_type": "code",
      "source": [
        "!pip install pyspark"
      ],
      "metadata": {
        "colab": {
          "base_uri": "https://localhost:8080/"
        },
        "id": "BhrqOus8w_26",
        "outputId": "96f66f46-ec35-407c-c803-44a0bed1d73d"
      },
      "execution_count": 2,
      "outputs": [
        {
          "output_type": "stream",
          "name": "stdout",
          "text": [
            "Looking in indexes: https://pypi.org/simple, https://us-python.pkg.dev/colab-wheels/public/simple/\n",
            "Collecting pyspark\n",
            "  Downloading pyspark-3.4.0.tar.gz (310.8 MB)\n",
            "\u001b[2K     \u001b[90m━━━━━━━━━━━━━━━━━━━━━━━━━━━━━━━━━━━━━━━\u001b[0m \u001b[32m310.8/310.8 MB\u001b[0m \u001b[31m4.4 MB/s\u001b[0m eta \u001b[36m0:00:00\u001b[0m\n",
            "\u001b[?25h  Preparing metadata (setup.py) ... \u001b[?25l\u001b[?25hdone\n",
            "Requirement already satisfied: py4j==0.10.9.7 in /usr/local/lib/python3.10/dist-packages (from pyspark) (0.10.9.7)\n",
            "Building wheels for collected packages: pyspark\n",
            "  Building wheel for pyspark (setup.py) ... \u001b[?25l\u001b[?25hdone\n",
            "  Created wheel for pyspark: filename=pyspark-3.4.0-py2.py3-none-any.whl size=311317130 sha256=6bcf52a868d42ba0cd97aeca1eaa339bc3a44ab0a38ff966e38d8c9bcaee9be1\n",
            "  Stored in directory: /root/.cache/pip/wheels/7b/1b/4b/3363a1d04368e7ff0d408e57ff57966fcdf00583774e761327\n",
            "Successfully built pyspark\n",
            "Installing collected packages: pyspark\n",
            "Successfully installed pyspark-3.4.0\n"
          ]
        }
      ]
    },
    {
      "cell_type": "code",
      "execution_count": 3,
      "metadata": {
        "id": "ILprRGM5wT2R"
      },
      "outputs": [],
      "source": [
        "#Connection with spark context\n",
        "#First of all, we need a connection to the cluster. This is done using creating an instance of the SparkContext class.\n",
        "\n",
        "import pyspark\n",
        "from pyspark.sql import SparkSession\n",
        "\n",
        "spark = SparkSession.builder.appName(\"Big data\") \\\n",
        "                            .master(\"local[*]\")\\\n",
        "                            .config(\"spark.some.config.option\", \"some-value\") \\\n",
        "                            .getOrCreate()\n"
      ]
    },
    {
      "cell_type": "code",
      "source": [
        "\n",
        "#load the Dataset\n",
        "Data = spark.read.csv('/content/Steel_industry.csv',header = True,inferSchema=True)\n",
        "\n",
        "Data.limit(5).toPandas()\n",
        ""
      ],
      "metadata": {
        "colab": {
          "base_uri": "https://localhost:8080/",
          "height": 206
        },
        "id": "hE-ZbfvyxO7E",
        "outputId": "251b4d7b-8ac4-425c-b68c-507bf1a29be2"
      },
      "execution_count": 5,
      "outputs": [
        {
          "output_type": "execute_result",
          "data": {
            "text/plain": [
              "   Usage_kWh  Lagging_Current_Reactive.Power_kVarh  \\\n",
              "0       3.17                                  2.95   \n",
              "1       4.00                                  4.46   \n",
              "2       3.24                                  3.28   \n",
              "3       3.31                                  3.56   \n",
              "4       3.82                                  4.50   \n",
              "\n",
              "   Leading_Current_Reactive_Power_kVarh  CO2(tCO2)  \\\n",
              "0                                   0.0        0.0   \n",
              "1                                   0.0        0.0   \n",
              "2                                   0.0        0.0   \n",
              "3                                   0.0        0.0   \n",
              "4                                   0.0        0.0   \n",
              "\n",
              "   Lagging_Current_Power_Factor  Leading_Current_Power_Factor   NSM  \\\n",
              "0                         73.21                         100.0   900   \n",
              "1                         66.77                         100.0  1800   \n",
              "2                         70.28                         100.0  2700   \n",
              "3                         68.09                         100.0  3600   \n",
              "4                         64.72                         100.0  4500   \n",
              "\n",
              "  WeekStatus Day_of_week   Load_Type  \n",
              "0    Weekday      Monday  Light_Load  \n",
              "1    Weekday      Monday  Light_Load  \n",
              "2    Weekday      Monday  Light_Load  \n",
              "3    Weekday      Monday  Light_Load  \n",
              "4    Weekday      Monday  Light_Load  "
            ],
            "text/html": [
              "\n",
              "  <div id=\"df-4fce1f98-e37e-4175-abc1-3a1f6a3a20e0\">\n",
              "    <div class=\"colab-df-container\">\n",
              "      <div>\n",
              "<style scoped>\n",
              "    .dataframe tbody tr th:only-of-type {\n",
              "        vertical-align: middle;\n",
              "    }\n",
              "\n",
              "    .dataframe tbody tr th {\n",
              "        vertical-align: top;\n",
              "    }\n",
              "\n",
              "    .dataframe thead th {\n",
              "        text-align: right;\n",
              "    }\n",
              "</style>\n",
              "<table border=\"1\" class=\"dataframe\">\n",
              "  <thead>\n",
              "    <tr style=\"text-align: right;\">\n",
              "      <th></th>\n",
              "      <th>Usage_kWh</th>\n",
              "      <th>Lagging_Current_Reactive.Power_kVarh</th>\n",
              "      <th>Leading_Current_Reactive_Power_kVarh</th>\n",
              "      <th>CO2(tCO2)</th>\n",
              "      <th>Lagging_Current_Power_Factor</th>\n",
              "      <th>Leading_Current_Power_Factor</th>\n",
              "      <th>NSM</th>\n",
              "      <th>WeekStatus</th>\n",
              "      <th>Day_of_week</th>\n",
              "      <th>Load_Type</th>\n",
              "    </tr>\n",
              "  </thead>\n",
              "  <tbody>\n",
              "    <tr>\n",
              "      <th>0</th>\n",
              "      <td>3.17</td>\n",
              "      <td>2.95</td>\n",
              "      <td>0.0</td>\n",
              "      <td>0.0</td>\n",
              "      <td>73.21</td>\n",
              "      <td>100.0</td>\n",
              "      <td>900</td>\n",
              "      <td>Weekday</td>\n",
              "      <td>Monday</td>\n",
              "      <td>Light_Load</td>\n",
              "    </tr>\n",
              "    <tr>\n",
              "      <th>1</th>\n",
              "      <td>4.00</td>\n",
              "      <td>4.46</td>\n",
              "      <td>0.0</td>\n",
              "      <td>0.0</td>\n",
              "      <td>66.77</td>\n",
              "      <td>100.0</td>\n",
              "      <td>1800</td>\n",
              "      <td>Weekday</td>\n",
              "      <td>Monday</td>\n",
              "      <td>Light_Load</td>\n",
              "    </tr>\n",
              "    <tr>\n",
              "      <th>2</th>\n",
              "      <td>3.24</td>\n",
              "      <td>3.28</td>\n",
              "      <td>0.0</td>\n",
              "      <td>0.0</td>\n",
              "      <td>70.28</td>\n",
              "      <td>100.0</td>\n",
              "      <td>2700</td>\n",
              "      <td>Weekday</td>\n",
              "      <td>Monday</td>\n",
              "      <td>Light_Load</td>\n",
              "    </tr>\n",
              "    <tr>\n",
              "      <th>3</th>\n",
              "      <td>3.31</td>\n",
              "      <td>3.56</td>\n",
              "      <td>0.0</td>\n",
              "      <td>0.0</td>\n",
              "      <td>68.09</td>\n",
              "      <td>100.0</td>\n",
              "      <td>3600</td>\n",
              "      <td>Weekday</td>\n",
              "      <td>Monday</td>\n",
              "      <td>Light_Load</td>\n",
              "    </tr>\n",
              "    <tr>\n",
              "      <th>4</th>\n",
              "      <td>3.82</td>\n",
              "      <td>4.50</td>\n",
              "      <td>0.0</td>\n",
              "      <td>0.0</td>\n",
              "      <td>64.72</td>\n",
              "      <td>100.0</td>\n",
              "      <td>4500</td>\n",
              "      <td>Weekday</td>\n",
              "      <td>Monday</td>\n",
              "      <td>Light_Load</td>\n",
              "    </tr>\n",
              "  </tbody>\n",
              "</table>\n",
              "</div>\n",
              "      <button class=\"colab-df-convert\" onclick=\"convertToInteractive('df-4fce1f98-e37e-4175-abc1-3a1f6a3a20e0')\"\n",
              "              title=\"Convert this dataframe to an interactive table.\"\n",
              "              style=\"display:none;\">\n",
              "        \n",
              "  <svg xmlns=\"http://www.w3.org/2000/svg\" height=\"24px\"viewBox=\"0 0 24 24\"\n",
              "       width=\"24px\">\n",
              "    <path d=\"M0 0h24v24H0V0z\" fill=\"none\"/>\n",
              "    <path d=\"M18.56 5.44l.94 2.06.94-2.06 2.06-.94-2.06-.94-.94-2.06-.94 2.06-2.06.94zm-11 1L8.5 8.5l.94-2.06 2.06-.94-2.06-.94L8.5 2.5l-.94 2.06-2.06.94zm10 10l.94 2.06.94-2.06 2.06-.94-2.06-.94-.94-2.06-.94 2.06-2.06.94z\"/><path d=\"M17.41 7.96l-1.37-1.37c-.4-.4-.92-.59-1.43-.59-.52 0-1.04.2-1.43.59L10.3 9.45l-7.72 7.72c-.78.78-.78 2.05 0 2.83L4 21.41c.39.39.9.59 1.41.59.51 0 1.02-.2 1.41-.59l7.78-7.78 2.81-2.81c.8-.78.8-2.07 0-2.86zM5.41 20L4 18.59l7.72-7.72 1.47 1.35L5.41 20z\"/>\n",
              "  </svg>\n",
              "      </button>\n",
              "      \n",
              "  <style>\n",
              "    .colab-df-container {\n",
              "      display:flex;\n",
              "      flex-wrap:wrap;\n",
              "      gap: 12px;\n",
              "    }\n",
              "\n",
              "    .colab-df-convert {\n",
              "      background-color: #E8F0FE;\n",
              "      border: none;\n",
              "      border-radius: 50%;\n",
              "      cursor: pointer;\n",
              "      display: none;\n",
              "      fill: #1967D2;\n",
              "      height: 32px;\n",
              "      padding: 0 0 0 0;\n",
              "      width: 32px;\n",
              "    }\n",
              "\n",
              "    .colab-df-convert:hover {\n",
              "      background-color: #E2EBFA;\n",
              "      box-shadow: 0px 1px 2px rgba(60, 64, 67, 0.3), 0px 1px 3px 1px rgba(60, 64, 67, 0.15);\n",
              "      fill: #174EA6;\n",
              "    }\n",
              "\n",
              "    [theme=dark] .colab-df-convert {\n",
              "      background-color: #3B4455;\n",
              "      fill: #D2E3FC;\n",
              "    }\n",
              "\n",
              "    [theme=dark] .colab-df-convert:hover {\n",
              "      background-color: #434B5C;\n",
              "      box-shadow: 0px 1px 3px 1px rgba(0, 0, 0, 0.15);\n",
              "      filter: drop-shadow(0px 1px 2px rgba(0, 0, 0, 0.3));\n",
              "      fill: #FFFFFF;\n",
              "    }\n",
              "  </style>\n",
              "\n",
              "      <script>\n",
              "        const buttonEl =\n",
              "          document.querySelector('#df-4fce1f98-e37e-4175-abc1-3a1f6a3a20e0 button.colab-df-convert');\n",
              "        buttonEl.style.display =\n",
              "          google.colab.kernel.accessAllowed ? 'block' : 'none';\n",
              "\n",
              "        async function convertToInteractive(key) {\n",
              "          const element = document.querySelector('#df-4fce1f98-e37e-4175-abc1-3a1f6a3a20e0');\n",
              "          const dataTable =\n",
              "            await google.colab.kernel.invokeFunction('convertToInteractive',\n",
              "                                                     [key], {});\n",
              "          if (!dataTable) return;\n",
              "\n",
              "          const docLinkHtml = 'Like what you see? Visit the ' +\n",
              "            '<a target=\"_blank\" href=https://colab.research.google.com/notebooks/data_table.ipynb>data table notebook</a>'\n",
              "            + ' to learn more about interactive tables.';\n",
              "          element.innerHTML = '';\n",
              "          dataTable['output_type'] = 'display_data';\n",
              "          await google.colab.output.renderOutput(dataTable, element);\n",
              "          const docLink = document.createElement('div');\n",
              "          docLink.innerHTML = docLinkHtml;\n",
              "          element.appendChild(docLink);\n",
              "        }\n",
              "      </script>\n",
              "    </div>\n",
              "  </div>\n",
              "  "
            ]
          },
          "metadata": {},
          "execution_count": 5
        }
      ]
    },
    {
      "cell_type": "markdown",
      "source": [
        "# **Pyspark code to display Interquartile Range of the**\n",
        "#**‘Usage_kWh’.**"
      ],
      "metadata": {
        "id": "QIEscW2E2Fox"
      }
    },
    {
      "cell_type": "code",
      "source": [
        "column = \"Usage_kWh\"\n",
        "sorted_column = Data.select(column).orderBy(column)\n",
        "num_rows = sorted_column.count()\n",
        "q1_index = int((num_rows + 1) * 0.25)\n",
        "q3_index = int((num_rows + 1) * 0.75)\n",
        "\n",
        "q1 = sorted_column.take(q1_index)[q1_index - 1][0]\n",
        "q3 = sorted_column.take(q3_index)[q3_index - 1][0]\n",
        "\n",
        "iqr = q3 - q1\n",
        "print(f\"The interquartile range of '{column}' is: {iqr}\")\n"
      ],
      "metadata": {
        "colab": {
          "base_uri": "https://localhost:8080/"
        },
        "id": "tQyHWeLYx6Rs",
        "outputId": "e2fe4d09-30df-4597-d2b2-fd0348648700"
      },
      "execution_count": 11,
      "outputs": [
        {
          "output_type": "stream",
          "name": "stdout",
          "text": [
            "The interquartile range of 'Usage_kWh' is: 48.029999999999994\n"
          ]
        }
      ]
    },
    {
      "cell_type": "markdown",
      "source": [
        "#**Mean of ‘Usage_kWh’ round to next integer and break it into 3 whole**\n",
        "#**numbers such that they sum up to the original number and count number of ways.**"
      ],
      "metadata": {
        "id": "0CCfcGXV3qW-"
      }
    },
    {
      "cell_type": "code",
      "source": [
        "mean = Data.selectExpr(\"round(avg(Usage_kWh))\").first()[0]\n",
        "target_sum = int(mean * 3)\n",
        "\n",
        "count = 0\n",
        "for a in range(target_sum + 1):\n",
        "    for b in range(target_sum + 1):\n",
        "        c = target_sum - a - b\n",
        "        if c >= 0:\n",
        "            count += 1\n",
        "\n",
        "print(f\"The mean of 'Usage_kWh' is: {mean}\")\n",
        "print(f\"The number of ways to break it into 3 whole numbers that sum up to {target_sum} is: {count}\")"
      ],
      "metadata": {
        "colab": {
          "base_uri": "https://localhost:8080/"
        },
        "id": "wFMDns9l3QEV",
        "outputId": "03ee675b-95fb-45e2-fb55-12ed6d50f17d"
      },
      "execution_count": 13,
      "outputs": [
        {
          "output_type": "stream",
          "name": "stdout",
          "text": [
            "The mean of 'Usage_kWh' is: 27.0\n",
            "The number of ways to break it into 3 whole numbers that sum up to 81 is: 3403\n"
          ]
        }
      ]
    },
    {
      "cell_type": "markdown",
      "source": [
        "#**Spark SQL query to display the details of highest ‘Usage_kwh’ in each load type (top 3).**"
      ],
      "metadata": {
        "id": "Ivtb5GWO4M3y"
      }
    },
    {
      "cell_type": "code",
      "source": [
        "Data.createOrReplaceTempView(\"load_data\")\n",
        "\n",
        "query = \"\"\"\n",
        "    SELECT load_type, Usage_kWh\n",
        "    FROM (\n",
        "        SELECT load_type, Usage_kWh,\n",
        "            ROW_NUMBER() OVER (PARTITION BY load_type ORDER BY Usage_kWh DESC) as rank\n",
        "        FROM load_data\n",
        "    ) ranked\n",
        "    WHERE rank <= 3\n",
        "\"\"\"\n",
        "\n",
        "result = spark.sql(query)\n",
        "result.show()"
      ],
      "metadata": {
        "colab": {
          "base_uri": "https://localhost:8080/"
        },
        "id": "5-FPCo3D4bpJ",
        "outputId": "cb5200a0-8537-4c36-d4f5-5e5e096124b2"
      },
      "execution_count": 14,
      "outputs": [
        {
          "output_type": "stream",
          "name": "stdout",
          "text": [
            "+------------+---------+\n",
            "|   load_type|Usage_kWh|\n",
            "+------------+---------+\n",
            "|            |   145.01|\n",
            "|            |    140.8|\n",
            "|            |   138.06|\n",
            "|  Light_Load|   140.29|\n",
            "|  Light_Load|   139.43|\n",
            "|  Light_Load|   139.03|\n",
            "|Maximum_Load|   151.67|\n",
            "|Maximum_Load|   149.65|\n",
            "|Maximum_Load|   146.88|\n",
            "| Medium_Load|   157.18|\n",
            "| Medium_Load|   153.14|\n",
            "| Medium_Load|   151.31|\n",
            "+------------+---------+\n",
            "\n"
          ]
        }
      ]
    },
    {
      "cell_type": "markdown",
      "source": [
        "# **Apply any machine learning algorithm on data using Spark ML-lib**"
      ],
      "metadata": {
        "id": "3QHj7J2v5_-I"
      }
    },
    {
      "cell_type": "code",
      "source": [
        "import pandas as pd\n",
        "import numpy as np\n",
        "import seaborn as sns\n",
        "from matplotlib import pyplot as plt\n",
        "import matplotlib\n",
        "%matplotlib inline\n",
        "import warnings\n",
        "warnings.filterwarnings('ignore')"
      ],
      "metadata": {
        "id": "nUDjo0GG6Egu"
      },
      "execution_count": 16,
      "outputs": []
    },
    {
      "cell_type": "code",
      "source": [
        "Data.show()"
      ],
      "metadata": {
        "colab": {
          "base_uri": "https://localhost:8080/"
        },
        "id": "6kLWSp_V7JvJ",
        "outputId": "942fbeb5-17ae-4300-9365-c54b21e67208"
      },
      "execution_count": 17,
      "outputs": [
        {
          "output_type": "stream",
          "name": "stdout",
          "text": [
            "+---------+------------------------------------+------------------------------------+---------+----------------------------+----------------------------+-----+----------+-----------+----------+\n",
            "|Usage_kWh|Lagging_Current_Reactive.Power_kVarh|Leading_Current_Reactive_Power_kVarh|CO2(tCO2)|Lagging_Current_Power_Factor|Leading_Current_Power_Factor|  NSM|WeekStatus|Day_of_week| Load_Type|\n",
            "+---------+------------------------------------+------------------------------------+---------+----------------------------+----------------------------+-----+----------+-----------+----------+\n",
            "|     3.17|                                2.95|                                 0.0|      0.0|                       73.21|                       100.0|  900|   Weekday|     Monday|Light_Load|\n",
            "|      4.0|                                4.46|                                 0.0|      0.0|                       66.77|                       100.0| 1800|   Weekday|     Monday|Light_Load|\n",
            "|     3.24|                                3.28|                                 0.0|      0.0|                       70.28|                       100.0| 2700|   Weekday|     Monday|Light_Load|\n",
            "|     3.31|                                3.56|                                 0.0|      0.0|                       68.09|                       100.0| 3600|   Weekday|     Monday|Light_Load|\n",
            "|     3.82|                                 4.5|                                 0.0|      0.0|                       64.72|                       100.0| 4500|   Weekday|     Monday|Light_Load|\n",
            "|     3.28|                                3.56|                                 0.0|      0.0|                       67.76|                       100.0| 5400|   Weekday|     Monday|Light_Load|\n",
            "|      3.6|                                4.14|                                 0.0|      0.0|                       65.62|                       100.0| 6300|   Weekday|     Monday|Light_Load|\n",
            "|      3.6|                                4.28|                                 0.0|      0.0|                       64.37|                       100.0| 7200|   Weekday|     Monday|Light_Load|\n",
            "|     3.28|                                3.64|                                 0.0|      0.0|                       66.94|                       100.0| 8100|   Weekday|     Monday|Light_Load|\n",
            "|     3.78|                                4.72|                                 0.0|      0.0|                       62.51|                       100.0| 9000|   Weekday|     Monday|Light_Load|\n",
            "|     3.46|                                4.03|                                 0.0|      0.0|                       65.14|                       100.0| 9900|   Weekday|     Monday|Light_Load|\n",
            "|     3.24|                                3.64|                                 0.0|      0.0|                       66.49|                       100.0|10800|   Weekday|     Monday|Light_Load|\n",
            "|     3.96|                                4.97|                                 0.0|      0.0|                       62.32|                       100.0|11700|   Weekday|     Monday|Light_Load|\n",
            "|     3.31|                                3.74|                                 0.0|      0.0|                       66.27|                       100.0|12600|   Weekday|     Monday|Light_Load|\n",
            "|     3.31|                                3.85|                                 0.0|      0.0|                       65.19|                       100.0|13500|   Weekday|     Monday|Light_Load|\n",
            "|     3.89|                                 5.0|                                 0.0|      0.0|                        61.4|                       100.0|14400|   Weekday|     Monday|Light_Load|\n",
            "|     3.28|                                3.82|                                 0.0|      0.0|                       65.14|                       100.0|15300|   Weekday|     Monday|Light_Load|\n",
            "|     3.56|                                4.28|                                 0.0|      0.0|                       63.95|                       100.0|16200|   Weekday|     Monday|Light_Load|\n",
            "|     3.74|                                4.54|                                 0.0|      0.0|                       63.58|                       100.0|17100|   Weekday|     Monday|Light_Load|\n",
            "|     3.31|                                 3.6|                                 0.0|      0.0|                       67.68|                       100.0|18000|   Weekday|     Monday|Light_Load|\n",
            "+---------+------------------------------------+------------------------------------+---------+----------------------------+----------------------------+-----+----------+-----------+----------+\n",
            "only showing top 20 rows\n",
            "\n"
          ]
        }
      ]
    },
    {
      "cell_type": "code",
      "source": [
        "\n",
        "#We are converting required columns from string to float\n",
        "from pyspark.sql.functions import col\n",
        "selected_features = ['Usage_kWh','Leading_Current_Reactive_Power_kVarh','CO2(tCO2)','Lagging_Current_Power_Factor','Leading_Current_Power_Factor','NSM']\n",
        "features_df = Data.select(*(col(c).cast(\"float\").alias(c) for c in selected_features))\n",
        "features_df.show()"
      ],
      "metadata": {
        "colab": {
          "base_uri": "https://localhost:8080/"
        },
        "id": "64erImu17-wT",
        "outputId": "225befbd-3ef6-48e5-f1a0-2ebe2270dbbd"
      },
      "execution_count": 34,
      "outputs": [
        {
          "output_type": "stream",
          "name": "stdout",
          "text": [
            "+---------+------------------------------------+---------+----------------------------+----------------------------+-------+\n",
            "|Usage_kWh|Leading_Current_Reactive_Power_kVarh|CO2(tCO2)|Lagging_Current_Power_Factor|Leading_Current_Power_Factor|    NSM|\n",
            "+---------+------------------------------------+---------+----------------------------+----------------------------+-------+\n",
            "|     3.17|                                 0.0|      0.0|                       73.21|                       100.0|  900.0|\n",
            "|      4.0|                                 0.0|      0.0|                       66.77|                       100.0| 1800.0|\n",
            "|     3.24|                                 0.0|      0.0|                       70.28|                       100.0| 2700.0|\n",
            "|     3.31|                                 0.0|      0.0|                       68.09|                       100.0| 3600.0|\n",
            "|     3.82|                                 0.0|      0.0|                       64.72|                       100.0| 4500.0|\n",
            "|     3.28|                                 0.0|      0.0|                       67.76|                       100.0| 5400.0|\n",
            "|      3.6|                                 0.0|      0.0|                       65.62|                       100.0| 6300.0|\n",
            "|      3.6|                                 0.0|      0.0|                       64.37|                       100.0| 7200.0|\n",
            "|     3.28|                                 0.0|      0.0|                       66.94|                       100.0| 8100.0|\n",
            "|     3.78|                                 0.0|      0.0|                       62.51|                       100.0| 9000.0|\n",
            "|     3.46|                                 0.0|      0.0|                       65.14|                       100.0| 9900.0|\n",
            "|     3.24|                                 0.0|      0.0|                       66.49|                       100.0|10800.0|\n",
            "|     3.96|                                 0.0|      0.0|                       62.32|                       100.0|11700.0|\n",
            "|     3.31|                                 0.0|      0.0|                       66.27|                       100.0|12600.0|\n",
            "|     3.31|                                 0.0|      0.0|                       65.19|                       100.0|13500.0|\n",
            "|     3.89|                                 0.0|      0.0|                        61.4|                       100.0|14400.0|\n",
            "|     3.28|                                 0.0|      0.0|                       65.14|                       100.0|15300.0|\n",
            "|     3.56|                                 0.0|      0.0|                       63.95|                       100.0|16200.0|\n",
            "|     3.74|                                 0.0|      0.0|                       63.58|                       100.0|17100.0|\n",
            "|     3.31|                                 0.0|      0.0|                       67.68|                       100.0|18000.0|\n",
            "+---------+------------------------------------+---------+----------------------------+----------------------------+-------+\n",
            "only showing top 20 rows\n",
            "\n"
          ]
        }
      ]
    },
    {
      "cell_type": "code",
      "source": [
        "\n",
        "df1=features_df.toPandas()"
      ],
      "metadata": {
        "id": "fgxz2ctO7NhY"
      },
      "execution_count": 37,
      "outputs": []
    },
    {
      "cell_type": "code",
      "source": [
        "#Sum of all the NULL values\n",
        "df1.isnull().sum()"
      ],
      "metadata": {
        "colab": {
          "base_uri": "https://localhost:8080/"
        },
        "id": "UAGXx3rT7UNu",
        "outputId": "0eb77ffe-7f18-4df8-8f17-96cc84c4c7ed"
      },
      "execution_count": 38,
      "outputs": [
        {
          "output_type": "execute_result",
          "data": {
            "text/plain": [
              "Usage_kWh                               0\n",
              "Leading_Current_Reactive_Power_kVarh    0\n",
              "CO2(tCO2)                               0\n",
              "Lagging_Current_Power_Factor            0\n",
              "Leading_Current_Power_Factor            0\n",
              "NSM                                     0\n",
              "dtype: int64"
            ]
          },
          "metadata": {},
          "execution_count": 38
        }
      ]
    },
    {
      "cell_type": "code",
      "source": [
        "#Remove Null Values\n",
        "df1=df1.fillna('0')"
      ],
      "metadata": {
        "id": "t6psfY3u7YX5"
      },
      "execution_count": 39,
      "outputs": []
    },
    {
      "cell_type": "code",
      "source": [
        "df1.isnull().sum()"
      ],
      "metadata": {
        "colab": {
          "base_uri": "https://localhost:8080/"
        },
        "id": "RqfyG2ie7c02",
        "outputId": "3f5b02e9-a0e3-4fa7-d2fd-5ab01336a415"
      },
      "execution_count": 40,
      "outputs": [
        {
          "output_type": "execute_result",
          "data": {
            "text/plain": [
              "Usage_kWh                               0\n",
              "Leading_Current_Reactive_Power_kVarh    0\n",
              "CO2(tCO2)                               0\n",
              "Lagging_Current_Power_Factor            0\n",
              "Leading_Current_Power_Factor            0\n",
              "NSM                                     0\n",
              "dtype: int64"
            ]
          },
          "metadata": {},
          "execution_count": 40
        }
      ]
    },
    {
      "cell_type": "code",
      "source": [
        "from pyspark.ml.feature import VectorAssembler\n",
        "# BEFORE USING SPARKML IT IS COMPULSORY TO CONVERT YOUR DATAFRAME INTO DENSE VECTOR. WITHOUT CONVERTING INTO DENSE VECTOR ALGORITHM WILL NOT WORK.\n",
        "# DENSE VECTOR JUST CONVERT THAT COLUMNS INTO POINTS. THAT'S ALL"
      ],
      "metadata": {
        "id": "1nipz1Jw7k35"
      },
      "execution_count": 42,
      "outputs": []
    },
    {
      "cell_type": "code",
      "source": [
        "required_features=['Usage_kWh','Leading_Current_Reactive_Power_kVarh','CO2(tCO2)','Lagging_Current_Power_Factor','Leading_Current_Power_Factor','NSM']"
      ],
      "metadata": {
        "id": "Y7aI3wb8AIhO"
      },
      "execution_count": 44,
      "outputs": []
    },
    {
      "cell_type": "code",
      "source": [
        "assembler = VectorAssembler(inputCols=required_features, outputCol='features')"
      ],
      "metadata": {
        "id": "X6eB8-Bt_3JC"
      },
      "execution_count": 45,
      "outputs": []
    },
    {
      "cell_type": "code",
      "source": [
        "transformed_data = assembler.transform(features_df)"
      ],
      "metadata": {
        "id": "EXszfAZoAiX1"
      },
      "execution_count": 46,
      "outputs": []
    },
    {
      "cell_type": "code",
      "source": [
        "transformed_data.show(5)"
      ],
      "metadata": {
        "colab": {
          "base_uri": "https://localhost:8080/"
        },
        "id": "SgGNX3zMApRf",
        "outputId": "d5e74032-8cf6-437c-8ad2-c342012131d1"
      },
      "execution_count": 47,
      "outputs": [
        {
          "output_type": "stream",
          "name": "stdout",
          "text": [
            "+---------+------------------------------------+---------+----------------------------+----------------------------+------+--------------------+\n",
            "|Usage_kWh|Leading_Current_Reactive_Power_kVarh|CO2(tCO2)|Lagging_Current_Power_Factor|Leading_Current_Power_Factor|   NSM|            features|\n",
            "+---------+------------------------------------+---------+----------------------------+----------------------------+------+--------------------+\n",
            "|     3.17|                                 0.0|      0.0|                       73.21|                       100.0| 900.0|[3.17000007629394...|\n",
            "|      4.0|                                 0.0|      0.0|                       66.77|                       100.0|1800.0|[4.0,0.0,0.0,66.7...|\n",
            "|     3.24|                                 0.0|      0.0|                       70.28|                       100.0|2700.0|[3.24000000953674...|\n",
            "|     3.31|                                 0.0|      0.0|                       68.09|                       100.0|3600.0|[3.30999994277954...|\n",
            "|     3.82|                                 0.0|      0.0|                       64.72|                       100.0|4500.0|[3.81999993324279...|\n",
            "+---------+------------------------------------+---------+----------------------------+----------------------------+------+--------------------+\n",
            "only showing top 5 rows\n",
            "\n"
          ]
        }
      ]
    },
    {
      "cell_type": "code",
      "source": [
        "#Sp;it the data\n",
        "(training_data, test_data) = transformed_data.randomSplit([0.7,0.3])"
      ],
      "metadata": {
        "id": "BXtrEpVsAtdL"
      },
      "execution_count": 49,
      "outputs": []
    },
    {
      "cell_type": "markdown",
      "source": [
        "# **Linear Regression**"
      ],
      "metadata": {
        "id": "gK2B2ARCBEe8"
      }
    },
    {
      "cell_type": "code",
      "source": [
        "from pyspark.ml.regression import LinearRegression"
      ],
      "metadata": {
        "id": "Jpf7Gj_KA2pV"
      },
      "execution_count": 50,
      "outputs": []
    },
    {
      "cell_type": "code",
      "source": [
        "Lr = LinearRegression(labelCol='Usage_kWh',\n",
        "                            featuresCol='features',maxIter=10)"
      ],
      "metadata": {
        "id": "GhsDMNsjA6in"
      },
      "execution_count": 51,
      "outputs": []
    },
    {
      "cell_type": "code",
      "source": [
        "model = Lr.fit(training_data)\n",
        "predictions = model.transform(test_data)\n",
        "predictions.select(\"features\",\"prediction\").show(5)"
      ],
      "metadata": {
        "colab": {
          "base_uri": "https://localhost:8080/"
        },
        "id": "pXkHFzWeBA-V",
        "outputId": "de31e5ec-d11a-459e-8d1e-0d5376e4d614"
      },
      "execution_count": 52,
      "outputs": [
        {
          "output_type": "stream",
          "name": "stdout",
          "text": [
            "+--------------------+--------------------+\n",
            "|            features|          prediction|\n",
            "+--------------------+--------------------+\n",
            "|           (6,[],[])|9.035455182527636...|\n",
            "|[2.45000004768371...|  2.4500000476836985|\n",
            "|[2.45000004768371...|  2.4500000476836985|\n",
            "|[2.48000001907348...|  2.4800000190734752|\n",
            "|[2.48000001907348...|  2.4800000190734757|\n",
            "+--------------------+--------------------+\n",
            "only showing top 5 rows\n",
            "\n"
          ]
        }
      ]
    },
    {
      "cell_type": "markdown",
      "source": [
        "# **Decision Tree**"
      ],
      "metadata": {
        "id": "zTCK2yJ3Bh9C"
      }
    },
    {
      "cell_type": "code",
      "source": [
        "from pyspark.ml.regression import DecisionTreeRegressor"
      ],
      "metadata": {
        "id": "b1qKgxqaBt9S"
      },
      "execution_count": 57,
      "outputs": []
    },
    {
      "cell_type": "code",
      "source": [
        "dt = DecisionTreeRegressor(featuresCol='features',labelCol='NSM')"
      ],
      "metadata": {
        "id": "atwdxu-jBwLl"
      },
      "execution_count": 58,
      "outputs": []
    },
    {
      "cell_type": "code",
      "source": [
        "from pyspark.ml.regression import DecisionTreeRegressor\n",
        "dt = DecisionTreeRegressor(featuresCol='features',labelCol='NSM')\n",
        "modell=dt.fit(training_data)\n",
        "pred=modell.transform(test_data)\n",
        "pred.select('prediction','NSM').show(5)"
      ],
      "metadata": {
        "colab": {
          "base_uri": "https://localhost:8080/"
        },
        "id": "Kca_pQHDBLPY",
        "outputId": "18cf241d-bb2a-44e4-82be-e867590600b2"
      },
      "execution_count": 56,
      "outputs": [
        {
          "output_type": "stream",
          "name": "stdout",
          "text": [
            "+------------------+-------+\n",
            "|        prediction|    NSM|\n",
            "+------------------+-------+\n",
            "|1357.7437858508604|    0.0|\n",
            "|           84604.8|83700.0|\n",
            "|           84604.8|84600.0|\n",
            "| 27887.12613784135|27900.0|\n",
            "|22523.166023166024|23400.0|\n",
            "+------------------+-------+\n",
            "only showing top 5 rows\n",
            "\n"
          ]
        }
      ]
    }
  ]
}