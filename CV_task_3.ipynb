{
  "nbformat": 4,
  "nbformat_minor": 0,
  "metadata": {
    "colab": {
      "provenance": [],
      "mount_file_id": "1S4ozc9G4MkilV4dOxg6bOpxE8Z8SC6Uq",
      "authorship_tag": "ABX9TyMqlOXFVOrRgSgVBfJ6lO0d",
      "include_colab_link": true
    },
    "kernelspec": {
      "name": "python3",
      "display_name": "Python 3"
    },
    "language_info": {
      "name": "python"
    }
  },
  "cells": [
    {
      "cell_type": "markdown",
      "metadata": {
        "id": "view-in-github",
        "colab_type": "text"
      },
      "source": [
        "<a href=\"https://colab.research.google.com/github/SamanMansoor/Data-Science/blob/main/CV_task_3.ipynb\" target=\"_parent\"><img src=\"https://colab.research.google.com/assets/colab-badge.svg\" alt=\"Open In Colab\"/></a>"
      ]
    },
    {
      "cell_type": "code",
      "source": [
        "\n",
        "#Task3: Augment the images provided in cat_dog.zip for\n",
        "\n",
        "#i) rotation: create 72 images agains each single image for each 5 degree i.e., for 1.jpeg there should be 1_5degree.jpeg, 1_10degree.jpeg, 1_15degree.jpeg, ..., 1_350degree.jpeg and 1_355degree.jpeg (total 72 images) and 72 images for all other images too. There are 7 images in cat_dog.zip so the resultant folder should contain total 504 images\n",
        "\n",
        "# ii) brightness: change brightness to random level and create 5 images for each single image. Resultant directory should contain 7*5=35 images\n",
        "\n",
        "# iii) noise: add noise to create 5 images for each single image. Resultant directory should contain 7*5=35 images\n",
        "\n",
        "\n",
        "from PIL import Image, ImageEnhance\n",
        "import numpy as np\n",
        "import os\n",
        "\n",
        "# Function to rotate the image\n",
        "def rotate_image(image_path, degrees):\n",
        "    with Image.open(image_path) as img:\n",
        "        rotated_image = img.rotate(degrees)\n",
        "        return rotated_image\n",
        "\n",
        "# Function to change the brightness of the image\n",
        "def change_brightness(image_path, factor):\n",
        "    with Image.open(image_path) as img:\n",
        "        enhancer = ImageEnhance.Brightness(img)\n",
        "        enhanced_image = enhancer.enhance(factor)\n",
        "        return enhanced_image\n",
        "\n",
        "# Function to add noise to the image\n",
        "def add_noise(image_path):\n",
        "    with Image.open(image_path) as img:\n",
        "        img_array = np.array(img)\n",
        "        noise = np.random.randint(0, 50, size=img_array.shape)\n",
        "        noisy_image = np.clip(img_array + noise, 0, 255).astype(np.uint8)\n",
        "        return Image.fromarray(noisy_image)\n",
        "\n",
        "# Create directories to save the augmented images\n",
        "if not os.path.exists('rotated'):\n",
        "    os.makedirs('rotated')\n",
        "if not os.path.exists('brightness'):\n",
        "    os.makedirs('brightness')\n",
        "if not os.path.exists('noise'):\n",
        "    os.makedirs('noise')\n",
        "\n",
        "# Augment images with rotation\n",
        "for file in os.listdir('cat_dog'):\n",
        "    if file.endswith('.jpeg'):\n",
        "        for i in range(72):\n",
        "            degrees = i * 5\n",
        "            rotated_image = rotate_image(f'cat_dog/{file}', degrees)\n",
        "            rotated_image.save(f'rotated/{file[:-5]}_{degrees}.jpeg')\n",
        "\n",
        "# Augment images with brightness\n",
        "for file in os.listdir('cat_dog'):\n",
        "    if file.endswith('.jpeg'):\n",
        "        for i in range(5):\n",
        "            factor = np.random.uniform(0.5, 1.5)\n",
        "            enhanced_image = change_brightness(f'cat_dog/{file}', factor)\n",
        "            enhanced_image.save(f'brightness/{file[:-5]}_{i}.jpeg')\n",
        "\n",
        "# Augment images with noise\n",
        "for file in os.listdir('cat_dog'):\n",
        "    if file.endswith('.jpeg'):\n",
        "        for i in range(5):\n",
        "            noisy_image = add_noise(f'cat_dog/{file}')\n",
        "            noisy_image.save(f'noise/{file[:-5]}_{i}.jpeg')"
      ],
      "metadata": {
        "id": "BYii1St5Fv1C"
      },
      "execution_count": 47,
      "outputs": []
    }
  ]
}