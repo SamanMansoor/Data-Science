{
  "nbformat": 4,
  "nbformat_minor": 0,
  "metadata": {
    "colab": {
      "provenance": [],
      "authorship_tag": "ABX9TyP0/2zj7fwb2Cw+5fLYn3i0",
      "include_colab_link": true
    },
    "kernelspec": {
      "name": "python3",
      "display_name": "Python 3"
    },
    "language_info": {
      "name": "python"
    }
  },
  "cells": [
    {
      "cell_type": "markdown",
      "metadata": {
        "id": "view-in-github",
        "colab_type": "text"
      },
      "source": [
        "<a href=\"https://colab.research.google.com/github/SamanMansoor/Data-Science/blob/main/Numpy_task.ipynb\" target=\"_parent\"><img src=\"https://colab.research.google.com/assets/colab-badge.svg\" alt=\"Open In Colab\"/></a>"
      ]
    },
    {
      "cell_type": "markdown",
      "source": [
        "# **1. Import the numpy package under the name np**"
      ],
      "metadata": {
        "id": "8KbjqBQon5vz"
      }
    },
    {
      "cell_type": "code",
      "execution_count": null,
      "metadata": {
        "id": "x5Lk3EX7l-bM"
      },
      "outputs": [],
      "source": [
        "import numpy as np"
      ]
    },
    {
      "cell_type": "markdown",
      "source": [
        "#**2. Print the numpy version and the configuration**"
      ],
      "metadata": {
        "id": "xoGNrw-JoK6V"
      }
    },
    {
      "cell_type": "code",
      "source": [
        "print(np.__version__)\n",
        "np.show_config"
      ],
      "metadata": {
        "colab": {
          "base_uri": "https://localhost:8080/"
        },
        "id": "iXNcOFQ9oVJI",
        "outputId": "7b631cc1-1d1a-4b3a-f385-9aa1bd57f481"
      },
      "execution_count": null,
      "outputs": [
        {
          "output_type": "stream",
          "name": "stdout",
          "text": [
            "1.22.4\n"
          ]
        },
        {
          "output_type": "execute_result",
          "data": {
            "text/plain": [
              "<function numpy.__config__.show()>"
            ]
          },
          "metadata": {},
          "execution_count": 2
        }
      ]
    },
    {
      "cell_type": "markdown",
      "source": [
        "# **3. Create a null vector of size 10**"
      ],
      "metadata": {
        "id": "AZl2vEsMojpm"
      }
    },
    {
      "cell_type": "code",
      "source": [
        "a=np.zeros(10)\n",
        "print(a)"
      ],
      "metadata": {
        "colab": {
          "base_uri": "https://localhost:8080/"
        },
        "id": "RYQ7Iw73ojYU",
        "outputId": "338897a4-1bfc-4659-e8ea-a63169d79cbb"
      },
      "execution_count": null,
      "outputs": [
        {
          "output_type": "stream",
          "name": "stdout",
          "text": [
            "[0. 0. 0. 0. 0. 0. 0. 0. 0. 0.]\n"
          ]
        }
      ]
    },
    {
      "cell_type": "markdown",
      "source": [
        "# **4. How to find the memory size of any array**"
      ],
      "metadata": {
        "id": "Jw_xbeQco9N1"
      }
    },
    {
      "cell_type": "code",
      "source": [
        "a=np.zeros((10,10))\n",
        "print(\"%d bytes\" %(a.size*a.itemsize))"
      ],
      "metadata": {
        "id": "97rMLV2VpLeM",
        "colab": {
          "base_uri": "https://localhost:8080/"
        },
        "outputId": "883503ab-8f08-4537-91d4-d990e6fb83bb"
      },
      "execution_count": 4,
      "outputs": [
        {
          "output_type": "stream",
          "name": "stdout",
          "text": [
            "800 bytes\n"
          ]
        }
      ]
    },
    {
      "cell_type": "markdown",
      "source": [
        "# **5. How to get the documentation of the numpy add function from the command line?**"
      ],
      "metadata": {
        "id": "Ff1WBr1JqCQn"
      }
    },
    {
      "cell_type": "code",
      "source": [
        "%run `python -c \"import numpy; numpy.info(numpy.add)\"`"
      ],
      "metadata": {
        "colab": {
          "base_uri": "https://localhost:8080/"
        },
        "id": "ASrSQZ8Hp8UU",
        "outputId": "3a7d0707-5ad7-42f5-905c-953029efe98b"
      },
      "execution_count": 5,
      "outputs": [
        {
          "output_type": "stream",
          "name": "stderr",
          "text": [
            "ERROR:root:File `'`python.py'` not found.\n"
          ]
        }
      ]
    },
    {
      "cell_type": "markdown",
      "source": [
        "#**6. Create a null vector of size 10 but the fifth value which is 1**"
      ],
      "metadata": {
        "id": "iDKcrMtcq9sK"
      }
    },
    {
      "cell_type": "code",
      "source": [
        "a=np.zeros(10)\n",
        "a[4]=1\n",
        "print(a)"
      ],
      "metadata": {
        "colab": {
          "base_uri": "https://localhost:8080/"
        },
        "id": "1T1IOmi9qN20",
        "outputId": "ba3f76cc-97c6-4e3d-9cba-d675e177e3b3"
      },
      "execution_count": 7,
      "outputs": [
        {
          "output_type": "stream",
          "name": "stdout",
          "text": [
            "[0. 0. 0. 0. 1. 0. 0. 0. 0. 0.]\n"
          ]
        }
      ]
    },
    {
      "cell_type": "markdown",
      "source": [
        "#**7. Create a vector with values ranging from 10 to 49**"
      ],
      "metadata": {
        "id": "_l-afOalrdtn"
      }
    },
    {
      "cell_type": "code",
      "source": [
        "a=np.arange(10,49)\n",
        "print(a)"
      ],
      "metadata": {
        "colab": {
          "base_uri": "https://localhost:8080/"
        },
        "id": "QcoL9CKorc5v",
        "outputId": "916c61c1-da46-42fe-e8d4-065c4175966a"
      },
      "execution_count": 9,
      "outputs": [
        {
          "output_type": "stream",
          "name": "stdout",
          "text": [
            "[10 11 12 13 14 15 16 17 18 19 20 21 22 23 24 25 26 27 28 29 30 31 32 33\n",
            " 34 35 36 37 38 39 40 41 42 43 44 45 46 47 48]\n"
          ]
        }
      ]
    },
    {
      "cell_type": "markdown",
      "source": [
        "# **8. Reverse a vector (first element becomes last)**"
      ],
      "metadata": {
        "id": "-qrh_ZE5r0Kz"
      }
    },
    {
      "cell_type": "code",
      "source": [
        "z=np.arange(40)\n",
        "z=z[::-1]\n",
        "print(z)"
      ],
      "metadata": {
        "colab": {
          "base_uri": "https://localhost:8080/"
        },
        "id": "p2LZWm3lr6MU",
        "outputId": "58c22ca9-88d9-4f3d-da93-d8137daad9f5"
      },
      "execution_count": 12,
      "outputs": [
        {
          "output_type": "stream",
          "name": "stdout",
          "text": [
            "[39 38 37 36 35 34 33 32 31 30 29 28 27 26 25 24 23 22 21 20 19 18 17 16\n",
            " 15 14 13 12 11 10  9  8  7  6  5  4  3  2  1  0]\n"
          ]
        }
      ]
    },
    {
      "cell_type": "markdown",
      "source": [
        "#**9. Create a 3x3 matrix with values ranging from 0 to 8**"
      ],
      "metadata": {
        "id": "Tn0ccB1lsPmP"
      }
    },
    {
      "cell_type": "code",
      "source": [
        "z=np.zeros(9).reshape(3,3)\n",
        "print(z)"
      ],
      "metadata": {
        "colab": {
          "base_uri": "https://localhost:8080/"
        },
        "id": "UbHC1KJSsO4l",
        "outputId": "da17d12e-d7e0-4f6a-d974-b8f20902a512"
      },
      "execution_count": 14,
      "outputs": [
        {
          "output_type": "stream",
          "name": "stdout",
          "text": [
            "[[0. 0. 0.]\n",
            " [0. 0. 0.]\n",
            " [0. 0. 0.]]\n"
          ]
        }
      ]
    },
    {
      "cell_type": "markdown",
      "source": [
        "# **10. Find indices of non-zero elements from [1,2,0,0,4,0]**"
      ],
      "metadata": {
        "id": "3mPm2ZIStGRE"
      }
    },
    {
      "cell_type": "code",
      "source": [
        "n=np.nonzero([1,2,0,0,4,0])\n",
        "print(n)"
      ],
      "metadata": {
        "colab": {
          "base_uri": "https://localhost:8080/"
        },
        "id": "evGOUVGysO1r",
        "outputId": "d7045e56-f055-483f-a781-d1bf8568f9de"
      },
      "execution_count": 16,
      "outputs": [
        {
          "output_type": "stream",
          "name": "stdout",
          "text": [
            "(array([0, 1, 4]),)\n"
          ]
        }
      ]
    },
    {
      "cell_type": "markdown",
      "source": [
        "# **11. Create a 3x3 identity matrix**"
      ],
      "metadata": {
        "id": "29DQnJQftng8"
      }
    },
    {
      "cell_type": "code",
      "source": [
        "z=np.eye(3)\n",
        "print(z)"
      ],
      "metadata": {
        "colab": {
          "base_uri": "https://localhost:8080/"
        },
        "id": "Wa8HlouJtzz3",
        "outputId": "a006d17e-07ff-43ef-8425-bb26bbd5cab3"
      },
      "execution_count": 17,
      "outputs": [
        {
          "output_type": "stream",
          "name": "stdout",
          "text": [
            "[[1. 0. 0.]\n",
            " [0. 1. 0.]\n",
            " [0. 0. 1.]]\n"
          ]
        }
      ]
    },
    {
      "cell_type": "markdown",
      "source": [
        "#**12. Create a 3x3x3 array with random values**"
      ],
      "metadata": {
        "id": "TAtIOfzcuER2"
      }
    },
    {
      "cell_type": "code",
      "source": [
        "x=np.random.random((3,3,3))\n",
        "print(x)"
      ],
      "metadata": {
        "colab": {
          "base_uri": "https://localhost:8080/"
        },
        "id": "8dLiuE9cuL-U",
        "outputId": "6c6f09e5-73b4-4a20-8b8f-e51dadecaf5b"
      },
      "execution_count": 18,
      "outputs": [
        {
          "output_type": "stream",
          "name": "stdout",
          "text": [
            "[[[0.35013365 0.03938654 0.48612395]\n",
            "  [0.28135391 0.00779067 0.89811733]\n",
            "  [0.26815332 0.29716848 0.15639479]]\n",
            "\n",
            " [[0.79533956 0.58219661 0.96880556]\n",
            "  [0.66162508 0.15573228 0.57527855]\n",
            "  [0.96531238 0.09348499 0.41907267]]\n",
            "\n",
            " [[0.65332821 0.5858287  0.07306688]\n",
            "  [0.5999832  0.54625979 0.85384769]\n",
            "  [0.2025286  0.00794497 0.23279968]]]\n"
          ]
        }
      ]
    },
    {
      "cell_type": "markdown",
      "source": [
        "# **13. Create a 10x10 array with random values and find the minimum and maximum values**"
      ],
      "metadata": {
        "id": "2UmKNuNsue3E"
      }
    },
    {
      "cell_type": "code",
      "source": [
        "z=np.random.random((10,10))\n",
        "max,mix=z.max(),z.min()\n",
        "print(max,min)"
      ],
      "metadata": {
        "colab": {
          "base_uri": "https://localhost:8080/"
        },
        "id": "sVG3xwWiuelC",
        "outputId": "2f3c60b9-90d3-457b-b222-61ffd27c92db"
      },
      "execution_count": 19,
      "outputs": [
        {
          "output_type": "stream",
          "name": "stdout",
          "text": [
            "0.9856196542883667 <built-in function min>\n"
          ]
        }
      ]
    },
    {
      "cell_type": "markdown",
      "source": [
        "#**14. Create a random vector of size 30 and find the mean value**"
      ],
      "metadata": {
        "id": "cW2rUFm3vezo"
      }
    },
    {
      "cell_type": "code",
      "source": [
        "x=np.random.random(30)\n",
        "m=x.mean()\n",
        "print(m)"
      ],
      "metadata": {
        "colab": {
          "base_uri": "https://localhost:8080/"
        },
        "id": "drAq_NRkvWzg",
        "outputId": "e355eb1e-6577-47fd-fa84-bdcdb805c90d"
      },
      "execution_count": 20,
      "outputs": [
        {
          "output_type": "stream",
          "name": "stdout",
          "text": [
            "0.5210230648889966\n"
          ]
        }
      ]
    },
    {
      "cell_type": "markdown",
      "source": [
        "#**15. Create a 2d array with 1 on the border and 0 inside**"
      ],
      "metadata": {
        "id": "_fI2jl8-v45o"
      }
    },
    {
      "cell_type": "code",
      "source": [
        "z=np.ones((10,10))\n",
        "z[1:-1,1:-1]=0\n",
        "print(z)"
      ],
      "metadata": {
        "colab": {
          "base_uri": "https://localhost:8080/"
        },
        "id": "W3pxNM90wgoz",
        "outputId": "948877b2-4cf7-4166-ae71-f0699eacdc10"
      },
      "execution_count": 22,
      "outputs": [
        {
          "output_type": "stream",
          "name": "stdout",
          "text": [
            "[[1. 1. 1. 1. 1. 1. 1. 1. 1. 1.]\n",
            " [1. 0. 0. 0. 0. 0. 0. 0. 0. 1.]\n",
            " [1. 0. 0. 0. 0. 0. 0. 0. 0. 1.]\n",
            " [1. 0. 0. 0. 0. 0. 0. 0. 0. 1.]\n",
            " [1. 0. 0. 0. 0. 0. 0. 0. 0. 1.]\n",
            " [1. 0. 0. 0. 0. 0. 0. 0. 0. 1.]\n",
            " [1. 0. 0. 0. 0. 0. 0. 0. 0. 1.]\n",
            " [1. 0. 0. 0. 0. 0. 0. 0. 0. 1.]\n",
            " [1. 0. 0. 0. 0. 0. 0. 0. 0. 1.]\n",
            " [1. 1. 1. 1. 1. 1. 1. 1. 1. 1.]]\n"
          ]
        }
      ]
    },
    {
      "cell_type": "markdown",
      "source": [
        "# **16. How to add a border (filled with 0's) around an existing array?**"
      ],
      "metadata": {
        "id": "f1FJR8X5xAEg"
      }
    },
    {
      "cell_type": "code",
      "source": [
        "x=np.ones((6,6))\n",
        "z=np.pad(x,pad_width=1,mode='constant',constant_values=0)\n",
        "print(z)\n"
      ],
      "metadata": {
        "colab": {
          "base_uri": "https://localhost:8080/"
        },
        "id": "yHBlFxUCw_sT",
        "outputId": "fb2ba5ea-10f0-402d-fa83-ce59b03a5417"
      },
      "execution_count": 23,
      "outputs": [
        {
          "output_type": "stream",
          "name": "stdout",
          "text": [
            "[[0. 0. 0. 0. 0. 0. 0. 0.]\n",
            " [0. 1. 1. 1. 1. 1. 1. 0.]\n",
            " [0. 1. 1. 1. 1. 1. 1. 0.]\n",
            " [0. 1. 1. 1. 1. 1. 1. 0.]\n",
            " [0. 1. 1. 1. 1. 1. 1. 0.]\n",
            " [0. 1. 1. 1. 1. 1. 1. 0.]\n",
            " [0. 1. 1. 1. 1. 1. 1. 0.]\n",
            " [0. 0. 0. 0. 0. 0. 0. 0.]]\n"
          ]
        }
      ]
    },
    {
      "cell_type": "markdown",
      "source": [
        "\n",
        "#**17. What is the result of the following expression?**"
      ],
      "metadata": {
        "id": "NcnVBZtmx5eB"
      }
    },
    {
      "cell_type": "code",
      "source": [
        "0 * np.nan\n",
        "np.nan == np.nan\n",
        "np.inf > np.nan\n",
        "np.nan - np.nan\n",
        "np.nan in set([np.nan])\n",
        "0.3 == 3 * 0.1"
      ],
      "metadata": {
        "colab": {
          "base_uri": "https://localhost:8080/"
        },
        "id": "874IjpRox4AO",
        "outputId": "fdbdec9e-bec4-498f-bc29-db1657f6ae4b"
      },
      "execution_count": 24,
      "outputs": [
        {
          "output_type": "execute_result",
          "data": {
            "text/plain": [
              "False"
            ]
          },
          "metadata": {},
          "execution_count": 24
        }
      ]
    },
    {
      "cell_type": "markdown",
      "source": [
        "# **18. Create a 5x5 matrix with values 1,2,3,4 just below the diagonal**"
      ],
      "metadata": {
        "id": "aw9qsn_JyOqv"
      }
    },
    {
      "cell_type": "code",
      "source": [
        "z=np.diag(1+np.arange(4),k=-1)\n",
        "print(z)"
      ],
      "metadata": {
        "colab": {
          "base_uri": "https://localhost:8080/"
        },
        "id": "Z71W6oDpyhes",
        "outputId": "35f26553-f12c-45cd-a2fa-790c38f35884"
      },
      "execution_count": 25,
      "outputs": [
        {
          "output_type": "stream",
          "name": "stdout",
          "text": [
            "[[0 0 0 0 0]\n",
            " [1 0 0 0 0]\n",
            " [0 2 0 0 0]\n",
            " [0 0 3 0 0]\n",
            " [0 0 0 4 0]]\n"
          ]
        }
      ]
    },
    {
      "cell_type": "markdown",
      "source": [
        "# **19. Create a 8x8 matrix and fill it with a checkerboard pattern**"
      ],
      "metadata": {
        "id": "V87joVo7zHJC"
      }
    },
    {
      "cell_type": "code",
      "source": [
        "z=np.zeros((8,8),dtype=int)\n",
        "z[1::2,::2]=1\n",
        "z[::2,1::2]=1\n",
        "print(z)"
      ],
      "metadata": {
        "colab": {
          "base_uri": "https://localhost:8080/"
        },
        "id": "a_KXEW9tzQTe",
        "outputId": "e388e6c4-cb09-4a85-fdb9-131106c058a9"
      },
      "execution_count": 26,
      "outputs": [
        {
          "output_type": "stream",
          "name": "stdout",
          "text": [
            "[[0 1 0 1 0 1 0 1]\n",
            " [1 0 1 0 1 0 1 0]\n",
            " [0 1 0 1 0 1 0 1]\n",
            " [1 0 1 0 1 0 1 0]\n",
            " [0 1 0 1 0 1 0 1]\n",
            " [1 0 1 0 1 0 1 0]\n",
            " [0 1 0 1 0 1 0 1]\n",
            " [1 0 1 0 1 0 1 0]]\n"
          ]
        }
      ]
    },
    {
      "cell_type": "markdown",
      "source": [
        "# **20. Consider a (6,7,8) shape array, what is the index (x,y,z) of the 100th element?**"
      ],
      "metadata": {
        "id": "Ul8eWsW50CRk"
      }
    },
    {
      "cell_type": "code",
      "source": [
        "print(np.unravel_index(99,(6,7,8)))"
      ],
      "metadata": {
        "colab": {
          "base_uri": "https://localhost:8080/"
        },
        "id": "Rj1yS89Q0qQs",
        "outputId": "0c09e5ec-914d-46e9-aeb5-23ee03090e09"
      },
      "execution_count": 28,
      "outputs": [
        {
          "output_type": "stream",
          "name": "stdout",
          "text": [
            "(1, 5, 3)\n"
          ]
        }
      ]
    },
    {
      "cell_type": "markdown",
      "source": [
        "#**21. Create a checkerboard 8x8 matrix using the tile function**"
      ],
      "metadata": {
        "id": "dJTzr3pc2Txz"
      }
    },
    {
      "cell_type": "code",
      "source": [
        "z-np.tile(np.array([[0,1],[1,0]]),(4,4))\n",
        "print(z)"
      ],
      "metadata": {
        "colab": {
          "base_uri": "https://localhost:8080/"
        },
        "id": "Ir_rendA2cZv",
        "outputId": "3084da94-4bdc-49ca-e0a8-47397033d142"
      },
      "execution_count": 30,
      "outputs": [
        {
          "output_type": "stream",
          "name": "stdout",
          "text": [
            "[[0 1 0 1 0 1 0 1]\n",
            " [1 0 1 0 1 0 1 0]\n",
            " [0 1 0 1 0 1 0 1]\n",
            " [1 0 1 0 1 0 1 0]\n",
            " [0 1 0 1 0 1 0 1]\n",
            " [1 0 1 0 1 0 1 0]\n",
            " [0 1 0 1 0 1 0 1]\n",
            " [1 0 1 0 1 0 1 0]]\n"
          ]
        }
      ]
    },
    {
      "cell_type": "markdown",
      "source": [
        "# **22. Normalize a 5x5 random matrix**"
      ],
      "metadata": {
        "id": "Fjc7ofzk3Shr"
      }
    },
    {
      "cell_type": "code",
      "source": [
        "z=np.random.random((5,5))\n",
        "z=(z-np.mean(z))/(np.std(z))\n",
        "print(z)"
      ],
      "metadata": {
        "colab": {
          "base_uri": "https://localhost:8080/"
        },
        "id": "A7EAn6HJ3X9-",
        "outputId": "0f468e36-e758-4fd2-a038-baab5de6dbac"
      },
      "execution_count": 34,
      "outputs": [
        {
          "output_type": "stream",
          "name": "stdout",
          "text": [
            "[[ 0.9456471   1.00492785 -1.2694195  -0.77550936  1.59675416]\n",
            " [-1.38702806 -1.29664111  0.79557418  0.75722819  0.18424005]\n",
            " [-0.95885271  1.33823508 -0.83905708 -0.20116321  0.80601187]\n",
            " [ 0.22217815  0.46354533  1.23013601 -1.3181243  -1.37271216]\n",
            " [ 1.49290639 -0.88527717 -0.64958574  0.57912602 -0.46313997]]\n"
          ]
        }
      ]
    },
    {
      "cell_type": "markdown",
      "source": [
        "# **23. Create a custom dtype that describes a color as four unsigned bytes (RGBA)**"
      ],
      "metadata": {
        "id": "fd3VaCMn4U0M"
      }
    },
    {
      "cell_type": "code",
      "source": [
        "color = np.dtype([(\"r\", np.ubyte),\n",
        "                  (\"g\", np.ubyte),\n",
        "                  (\"b\", np.ubyte),\n",
        "                  (\"a\", np.ubyte)])\n",
        "print(color)"
      ],
      "metadata": {
        "colab": {
          "base_uri": "https://localhost:8080/"
        },
        "id": "nYXySi3x4UkQ",
        "outputId": "5faf1e7f-eede-4d6c-f629-29f3b5564c8b"
      },
      "execution_count": 36,
      "outputs": [
        {
          "output_type": "stream",
          "name": "stdout",
          "text": [
            "[('r', 'u1'), ('g', 'u1'), ('b', 'u1'), ('a', 'u1')]\n"
          ]
        }
      ]
    },
    {
      "cell_type": "markdown",
      "source": [
        "# ** 24. Multiply a 5x3 matrix by a 3x2 matrix (real matrix product)**"
      ],
      "metadata": {
        "id": "1zkBPyxG4mRf"
      }
    },
    {
      "cell_type": "code",
      "source": [
        "Z = np.dot(np.ones((5,3)), np.ones((3,2)))\n",
        "print(Z)"
      ],
      "metadata": {
        "colab": {
          "base_uri": "https://localhost:8080/"
        },
        "id": "NFMie4eM4g_m",
        "outputId": "3a3a3d16-f51a-4ba2-c48f-693660a547f7"
      },
      "execution_count": 37,
      "outputs": [
        {
          "output_type": "stream",
          "name": "stdout",
          "text": [
            "[[3. 3.]\n",
            " [3. 3.]\n",
            " [3. 3.]\n",
            " [3. 3.]\n",
            " [3. 3.]]\n"
          ]
        }
      ]
    },
    {
      "cell_type": "markdown",
      "source": [
        "# **25. Given a 1D array, negate all elements which are between 3 and 8, in place.**"
      ],
      "metadata": {
        "id": "OBJUHL1E4yvj"
      }
    },
    {
      "cell_type": "code",
      "source": [
        "Z = np.arange(11)\n",
        "Z[(3 < Z) & (Z < 8)] *= -1\n",
        "print(Z)"
      ],
      "metadata": {
        "colab": {
          "base_uri": "https://localhost:8080/"
        },
        "id": "hO4_g_CD4yds",
        "outputId": "0aa8e7b8-105c-4320-8ea3-43dd11fe8398"
      },
      "execution_count": 38,
      "outputs": [
        {
          "output_type": "stream",
          "name": "stdout",
          "text": [
            "[ 0  1  2  3 -4 -5 -6 -7  8  9 10]\n"
          ]
        }
      ]
    },
    {
      "cell_type": "markdown",
      "source": [
        "# **26. What is the output of the following script?**"
      ],
      "metadata": {
        "id": "aXAaN20I5Iax"
      }
    },
    {
      "cell_type": "code",
      "source": [
        "\n",
        "print(sum(range(5),-1))\n",
        "from numpy import *\n",
        "print(sum(range(5),-1))"
      ],
      "metadata": {
        "colab": {
          "base_uri": "https://localhost:8080/"
        },
        "id": "JPzhEUGz5NZl",
        "outputId": "97e56466-dd2b-4e06-a3a9-c4c9a2ef3f22"
      },
      "execution_count": 39,
      "outputs": [
        {
          "output_type": "stream",
          "name": "stdout",
          "text": [
            "9\n",
            "10\n"
          ]
        }
      ]
    }
  ]
}