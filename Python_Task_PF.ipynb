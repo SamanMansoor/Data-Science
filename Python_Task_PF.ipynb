{
  "nbformat": 4,
  "nbformat_minor": 0,
  "metadata": {
    "colab": {
      "provenance": []
    },
    "kernelspec": {
      "name": "python3",
      "display_name": "Python 3"
    },
    "language_info": {
      "name": "python"
    }
  },
  "cells": [
    {
      "cell_type": "markdown",
      "source": [
        "**Task#1**"
      ],
      "metadata": {
        "id": "96-bAZiI4loo"
      }
    },
    {
      "cell_type": "code",
      "source": [
        "def student(stud):\n",
        "  total_student=100;\n",
        "  student_Math=20;\n",
        "  student_Bio=40;\n",
        "  result1=student_Math+student_Bio\n",
        "  print(\"The number of students with Math and Bio: \", result1)\n",
        "  result2=total_student-result1\n",
        "  print(\" The number of students with Math and Bio:\", result2)\n",
        "  return\n"
      ],
      "metadata": {
        "id": "8cvVA0dQ4FZZ"
      },
      "execution_count": 8,
      "outputs": []
    },
    {
      "cell_type": "code",
      "source": [
        "student(str)"
      ],
      "metadata": {
        "colab": {
          "base_uri": "https://localhost:8080/"
        },
        "id": "2fnuaOKR4UQC",
        "outputId": "3bf9ce5c-fdb3-406a-ea98-de68cc5f952c"
      },
      "execution_count": 9,
      "outputs": [
        {
          "output_type": "stream",
          "name": "stdout",
          "text": [
            "The number of students with Math and Bio:  60\n",
            " The number of students with Math and Bio: 40\n"
          ]
        }
      ]
    },
    {
      "cell_type": "markdown",
      "source": [
        "**Task#2**"
      ],
      "metadata": {
        "id": "B2rA8aL24t_c"
      }
    },
    {
      "cell_type": "code",
      "source": [
        "# To take input from the user and find number is prime number or not\n",
        "num = int(input(\"Enter a number: \"))\n",
        "\n",
        "if num == 1:\n",
        "   # check for factors\n",
        "   for i in range(2,num//2):\n",
        "       if (num % i) == 0:\n",
        "\n",
        "           print(num,\"is not a prime number\")\n",
        "   else:\n",
        "       print(num,\"is a prime number\")\n",
        "else:\n",
        "   print(num,\"is not a prime number\")\n"
      ],
      "metadata": {
        "colab": {
          "base_uri": "https://localhost:8080/"
        },
        "id": "b8MmyMaN4BlG",
        "outputId": "66799a13-060f-4d0d-b02a-a160914b88dd"
      },
      "execution_count": 7,
      "outputs": [
        {
          "output_type": "stream",
          "name": "stdout",
          "text": [
            "Enter a number: 80\n",
            "80 is not a prime number\n"
          ]
        }
      ]
    },
    {
      "cell_type": "code",
      "execution_count": 4,
      "metadata": {
        "id": "xsdPrif-3MJv"
      },
      "outputs": [],
      "source": [
        "#Case not prime number return the value of -1\n",
        "def is_prime(n):\n",
        "  for i in range(2,n):\n",
        "    if (n%i) == 0:\n",
        "      return -1 #NOT Prime Number\n",
        "  return 1 #Prime "
      ]
    },
    {
      "cell_type": "code",
      "source": [
        "is_prime(9)"
      ],
      "metadata": {
        "colab": {
          "base_uri": "https://localhost:8080/"
        },
        "id": "e0dNs4yn33dR",
        "outputId": "129f254b-09f2-4570-8231-0d5488b540e2"
      },
      "execution_count": 10,
      "outputs": [
        {
          "output_type": "execute_result",
          "data": {
            "text/plain": [
              "-1"
            ]
          },
          "metadata": {},
          "execution_count": 10
        }
      ]
    },
    {
      "cell_type": "code",
      "source": [
        "#Sum of all Prime Number\n",
        "num = int(input(\"\\nPlease enter the Number:\"))\n",
        "print (\"The sum of prime numbers in python upto\", num)\n",
        "sum = 0\n",
        "# Initializing the sum to 0\n",
        "for number in range(2, num + 1):\n",
        "    i = 2\n",
        "    for i in range(2, number):\n",
        "        if (int(number % i) == 0):\n",
        "            i = number\n",
        "            break;\n",
        "#Only if the number is a prime number, continue to add it.\n",
        "    if i is not number:\n",
        "        sum = sum + number\n",
        "print(\"\\nThe sum of prime numbers in python from 1 to \", num, \" is :\", sum)"
      ],
      "metadata": {
        "colab": {
          "base_uri": "https://localhost:8080/"
        },
        "id": "18msvrGs-cMY",
        "outputId": "d3aae21a-295c-48f9-ce98-79810fcb7cf1"
      },
      "execution_count": 13,
      "outputs": [
        {
          "output_type": "stream",
          "name": "stdout",
          "text": [
            "\n",
            "Please enter the Number:30\n",
            "The sum of prime numbers in python upto 30\n",
            "\n",
            "The sum of prime numbers in python from 1 to  30  is : 127\n"
          ]
        }
      ]
    }
  ]
}