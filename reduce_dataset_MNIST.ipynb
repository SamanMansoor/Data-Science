{
  "cells": [
    {
      "cell_type": "markdown",
      "metadata": {
        "id": "view-in-github",
        "colab_type": "text"
      },
      "source": [
        "<a href=\"https://colab.research.google.com/github/SamanMansoor/Data-Science/blob/main/reduce_dataset_MNIST.ipynb\" target=\"_parent\"><img src=\"https://colab.research.google.com/assets/colab-badge.svg\" alt=\"Open In Colab\"/></a>"
      ]
    },
    {
      "cell_type": "code",
      "execution_count": null,
      "metadata": {
        "id": "PNvbiUmqFld4"
      },
      "outputs": [],
      "source": [
        "import tensorflow as tf\n",
        "\n",
        "mnist = tf.keras.datasets.mnist\n",
        "\n",
        "import random\n",
        "import collections\n",
        "import numpy as np\n",
        "import matplotlib.pyplot as plt\n",
        "\n",
        "\n",
        "def display_random_images_with_labels(d, n=10):\n",
        "    \"\"\"\n",
        "        accept dataset in tuple form, first index\n",
        "        is np arrays (images) and second is labels\n",
        "        and display n random images with labels\n",
        "        from it\n",
        "        Inputs:\n",
        "            d (tuple): dataset images, dataset labels on same indexs\n",
        "            n (int): number of samples to display (default: 10)\n",
        "        Output:\n",
        "            None\n",
        "    \"\"\"\n",
        "    choices = list(range(len(d[0])))\n",
        "    for i in range(n):\n",
        "        index = random.choice(choices)\n",
        "        choices.remove(index)\n",
        "        print(\"index:\",index)\n",
        "        print(\"Lable:\",d[1][index])\n",
        "        plt.imshow(d[0][index], cmap='gray')\n",
        "        plt.show()\n"
      ]
    },
    {
      "cell_type": "markdown",
      "metadata": {
        "id": "nqtyYMWRFld-"
      },
      "source": [
        "# Dataset"
      ]
    },
    {
      "cell_type": "code",
      "execution_count": 17,
      "metadata": {
        "colab": {
          "base_uri": "https://localhost:8080/",
          "height": 1000
        },
        "id": "JsknnWscFleA",
        "outputId": "64c2c0b2-e6de-4ab4-9270-ff23ef622cf9"
      },
      "outputs": [
        {
          "output_type": "stream",
          "name": "stdout",
          "text": [
            "There are 60000 images in training dataset\n",
            "There are 10000 images in training dataset\n",
            "___________________\n",
            "\n",
            "\n",
            "Randomly printing 10 images with labels from training dataset\n",
            "index: 6620\n",
            "Lable: 8\n"
          ]
        },
        {
          "output_type": "display_data",
          "data": {
            "text/plain": [
              "<Figure size 432x288 with 1 Axes>"
            ],
            "image/png": "[encoded data removed]"
          },
          "metadata": {
            "needs_background": "light"
          }
        },
        {
          "output_type": "stream",
          "name": "stdout",
          "text": [
            "index: 53981\n",
            "Lable: 6\n"
          ]
        },
        {
          "output_type": "display_data",
          "data": {
            "text/plain": [
              "<Figure size 432x288 with 1 Axes>"
            ],
            "image/png": "[encoded data removed]"
          },
          "metadata": {
            "needs_background": "light"
          }
        },
        {
          "output_type": "stream",
          "name": "stdout",
          "text": [
            "index: 20864\n",
            "Lable: 9\n"
          ]
        },
        {
          "output_type": "display_data",
          "data": {
            "text/plain": [
              "<Figure size 432x288 with 1 Axes>"
            ],
            "image/png": "[encoded data removed]"
          },
          "metadata": {
            "needs_background": "light"
          }
        },
        {
          "output_type": "stream",
          "name": "stdout",
          "text": [
            "index: 18780\n",
            "Lable: 2\n"
          ]
        },
        {
          "output_type": "display_data",
          "data": {
            "text/plain": [
              "<Figure size 432x288 with 1 Axes>"
            ],
            "image/png": "[encoded data removed]"
          },
          "metadata": {
            "needs_background": "light"
          }
        },
        {
          "output_type": "stream",
          "name": "stdout",
          "text": [
            "index: 9177\n",
            "Lable: 6\n"
          ]
        },
        {
          "output_type": "display_data",
          "data": {
            "text/plain": [
              "<Figure size 432x288 with 1 Axes>"
            ],
            "image/png": "[encoded data removed]"
          },
          "metadata": {
            "needs_background": "light"
          }
        },
        {
          "output_type": "stream",
          "name": "stdout",
          "text": [
            "index: 30259\n",
            "Lable: 7\n"
          ]
        },
        {
          "output_type": "display_data",
          "data": {
            "text/plain": [
              "<Figure size 432x288 with 1 Axes>"
            ],
            "image/png": "[encoded data removed]"
          },
          "metadata": {
            "needs_background": "light"
          }
        },
        {
          "output_type": "stream",
          "name": "stdout",
          "text": [
            "index: 16621\n",
            "Lable: 9\n"
          ]
        },
        {
          "output_type": "display_data",
          "data": {
            "text/plain": [
              "<Figure size 432x288 with 1 Axes>"
            ],
            "image/png": "[encoded data removed]"
          },
          "metadata": {
            "needs_background": "light"
          }
        },
        {
          "output_type": "stream",
          "name": "stdout",
          "text": [
            "index: 21418\n",
            "Lable: 6\n"
          ]
        },
        {
          "output_type": "display_data",
          "data": {
            "text/plain": [
              "<Figure size 432x288 with 1 Axes>"
            ],
            "image/png": "[encoded data removed]"
          },
          "metadata": {
            "needs_background": "light"
          }
        },
        {
          "output_type": "stream",
          "name": "stdout",
          "text": [
            "index: 33002\n",
            "Lable: 3\n"
          ]
        },
        {
          "output_type": "display_data",
          "data": {
            "text/plain": [
              "<Figure size 432x288 with 1 Axes>"
            ],
            "image/png": "[encoded data removed]"
          },
          "metadata": {
            "needs_background": "light"
          }
        },
        {
          "output_type": "stream",
          "name": "stdout",
          "text": [
            "index: 36003\n",
            "Lable: 7\n"
          ]
        },
        {
          "output_type": "display_data",
          "data": {
            "text/plain": [
              "<Figure size 432x288 with 1 Axes>"
            ],
            "image/png": "[encoded data removed]"
          },
          "metadata": {
            "needs_background": "light"
          }
        },
        {
          "output_type": "stream",
          "name": "stdout",
          "text": [
            "___________________\n",
            "\n",
            "\n",
            "Randomly printing 10 images with labels from testing dataset\n",
            "index: 45965\n",
            "Lable: 6\n"
          ]
        },
        {
          "output_type": "display_data",
          "data": {
            "text/plain": [
              "<Figure size 432x288 with 1 Axes>"
            ],
            "image/png": "[encoded data removed]"
          },
          "metadata": {
            "needs_background": "light"
          }
        },
        {
          "output_type": "stream",
          "name": "stdout",
          "text": [
            "index: 14086\n",
            "Lable: 4\n"
          ]
        },
        {
          "output_type": "display_data",
          "data": {
            "text/plain": [
              "<Figure size 432x288 with 1 Axes>"
            ],
            "image/png": "[encoded data removed]"
          },
          "metadata": {
            "needs_background": "light"
          }
        },
        {
          "output_type": "stream",
          "name": "stdout",
          "text": [
            "index: 46668\n",
            "Lable: 4\n"
          ]
        },
        {
          "output_type": "display_data",
          "data": {
            "text/plain": [
              "<Figure size 432x288 with 1 Axes>"
            ],
            "image/png": "[encoded data removed]"
          },
          "metadata": {
            "needs_background": "light"
          }
        },
        {
          "output_type": "stream",
          "name": "stdout",
          "text": [
            "index: 187\n",
            "Lable: 2\n"
          ]
        },
        {
          "output_type": "display_data",
          "data": {
            "text/plain": [
              "<Figure size 432x288 with 1 Axes>"
            ],
            "image/png": "[encoded data removed]"
          },
          "metadata": {
            "needs_background": "light"
          }
        },
        {
          "output_type": "stream",
          "name": "stdout",
          "text": [
            "index: 43321\n",
            "Lable: 8\n"
          ]
        },
        {
          "output_type": "display_data",
          "data": {
            "text/plain": [
              "<Figure size 432x288 with 1 Axes>"
            ],
            "image/png": "[encoded data removed]"
          },
          "metadata": {
            "needs_background": "light"
          }
        },
        {
          "output_type": "stream",
          "name": "stdout",
          "text": [
            "index: 12578\n",
            "Lable: 1\n"
          ]
        },
        {
          "output_type": "display_data",
          "data": {
            "text/plain": [
              "<Figure size 432x288 with 1 Axes>"
            ],
            "image/png": "[encoded data removed]"
          },
          "metadata": {
            "needs_background": "light"
          }
        },
        {
          "output_type": "stream",
          "name": "stdout",
          "text": [
            "index: 18256\n",
            "Lable: 1\n"
          ]
        },
        {
          "output_type": "display_data",
          "data": {
            "text/plain": [
              "<Figure size 432x288 with 1 Axes>"
            ],
            "image/png": "[encoded data removed]"
          },
          "metadata": {
            "needs_background": "light"
          }
        },
        {
          "output_type": "stream",
          "name": "stdout",
          "text": [
            "index: 14322\n",
            "Lable: 8\n"
          ]
        },
        {
          "output_type": "display_data",
          "data": {
            "text/plain": [
              "<Figure size 432x288 with 1 Axes>"
            ],
            "image/png": "[encoded data removed]"
          },
          "metadata": {
            "needs_background": "light"
          }
        },
        {
          "output_type": "stream",
          "name": "stdout",
          "text": [
            "index: 5218\n",
            "Lable: 6\n"
          ]
        },
        {
          "output_type": "display_data",
          "data": {
            "text/plain": [
              "<Figure size 432x288 with 1 Axes>"
            ],
            "image/png": "[encoded data removed]"
          },
          "metadata": {
            "needs_background": "light"
          }
        },
        {
          "output_type": "stream",
          "name": "stdout",
          "text": [
            "index: 52095\n",
            "Lable: 0\n"
          ]
        },
        {
          "output_type": "display_data",
          "data": {
            "text/plain": [
              "<Figure size 432x288 with 1 Axes>"
            ],
            "image/png": "[encoded data removed]"
          },
          "metadata": {
            "needs_background": "light"
          }
        },
        {
          "output_type": "stream",
          "name": "stdout",
          "text": [
            "___________________\n",
            "\n",
            "\n",
            "There are 60000 labels in training dataset for 60000 images in training dataset\n",
            "There are 10000 labels in training dataset for 10000 images in training dataset\n",
            "___________________\n",
            "\n",
            "\n",
            "There are 10 unique classes in training dataset\n",
            "Breakdown of each labels is below (format: dict key is label, dict value is occurrence of that label/ number of images for that label)\n"
          ]
        },
        {
          "output_type": "display_data",
          "data": {
            "text/plain": [
              "Counter({5: 5421,\n",
              "         0: 5923,\n",
              "         4: 5842,\n",
              "         1: 6742,\n",
              "         9: 5949,\n",
              "         2: 5958,\n",
              "         3: 6131,\n",
              "         6: 5918,\n",
              "         7: 6265,\n",
              "         8: 5851})"
            ]
          },
          "metadata": {}
        },
        {
          "output_type": "stream",
          "name": "stdout",
          "text": [
            "There are 10 unique classes in validation dataset\n",
            "Breakdown of each labels is below (format: dict key is label, dict value is occurrence of that label/ number of images for that label)\n"
          ]
        },
        {
          "output_type": "display_data",
          "data": {
            "text/plain": [
              "Counter({7: 1028,\n",
              "         2: 1032,\n",
              "         1: 1135,\n",
              "         0: 980,\n",
              "         4: 982,\n",
              "         9: 1009,\n",
              "         5: 892,\n",
              "         6: 958,\n",
              "         3: 1010,\n",
              "         8: 974})"
            ]
          },
          "metadata": {}
        },
        {
          "output_type": "stream",
          "name": "stdout",
          "text": [
            "___________________\n",
            "\n",
            "\n"
          ]
        }
      ],
      "source": [
        "# Loading dataset\n",
        "\n",
        "import tensorflow as tf\n",
        "\n",
        "mnist = tf.keras.datasets.mnist\n",
        "\n",
        "\n",
        "# Description of dataset\n",
        "\n",
        "# mnint is handwritten digits (0 to 9) images dataset\n",
        "# keras.datasets.mnist.load_data() loads those images in gray scale as cv2 images / np arrays\n",
        "# with those labels\n",
        "\n",
        "\n",
        "# dataset is in tuple form,\n",
        "# its first index dataset[0] represents training dataset\n",
        "# its second index dataset[1] represents testing dataset\n",
        "\n",
        "# Both training (dataset[0]) and testing (dataset[1]) datasets\n",
        "# are further tuples and have two elements,\n",
        "\n",
        "# first element of both training and testing (dataset[0][0] and dataset[0][0])\n",
        "# represnts images in numpy arrays\n",
        "print(\"There are\",len(dataset[0][0]),\"images in training dataset\")\n",
        "print(\"There are\",len(dataset[1][0]),\"images in training dataset\")\n",
        "print(\"___________________\\n\\n\")\n",
        "# Each image is of shape 28x28\n",
        "# print(dataset[0][0][0].shape)\n",
        "# print(\"___________________\")\n",
        "\n",
        "\n",
        "# second element of both training and testing (dataset[0][1] and dataset[0][1])\n",
        "# represnts labels of the images, presents on the same index in images\n",
        "# For example dataset[0][0][0] is an image in training dataset\n",
        "# and dataset[0][1][0] is the label of same image is training dataset\n",
        "print(\"Randomly printing 10 images with labels from training dataset\")\n",
        "display_random_images_with_labels(dataset[0])\n",
        "print(\"___________________\\n\\n\")\n",
        "print(\"Randomly printing 10 images with labels from testing dataset\")\n",
        "display_random_images_with_labels(dataset[0])\n",
        "print(\"___________________\\n\\n\")\n",
        "\n",
        "print(\"There are\",len(dataset[0][1]),\"labels in training dataset for\",len(dataset[0][0]),\"images in training dataset\")\n",
        "print(\"There are\",len(dataset[1][1]),\"labels in training dataset for\",len(dataset[1][0]),\"images in training dataset\")\n",
        "print(\"___________________\\n\\n\")\n",
        "\n",
        "print(\"There are\", len(set(dataset[0][1])),\"unique classes in training dataset\")\n",
        "print(\"Breakdown of each labels is below (format: dict key is label, dict value is occurrence of that label/ number of images for that label)\")\n",
        "display(collections.Counter(dataset[0][1]))\n",
        "print(\"There are\", len(set(dataset[1][1])),\"unique classes in validation dataset\")\n",
        "print(\"Breakdown of each labels is below (format: dict key is label, dict value is occurrence of that label/ number of images for that label)\")\n",
        "display(collections.Counter(dataset[1][1]))\n",
        "print(\"___________________\\n\\n\")\n",
        "\n",
        "\n",
        "\n"
      ]
    },
    {
      "cell_type": "markdown",
      "metadata": {
        "id": "AZIO0ic-FleB"
      },
      "source": [
        "# Task\n",
        "\n",
        "You have to reduce the size of this dataset by 10 times.\n",
        "\n",
        "There are currently almost 5000 to 6000 thousand images (total: 60000) for each label in training and almost 1000 images (total: 10000) for each label in testing dataset.\n",
        "\n",
        "You are required to reduce this training dataset so that it will have exactly 600 images for each label (total: 6000) in training dataset and exactly 100 images for each label in testing dataset (total: 1000)\n",
        "\n",
        "new dataset should be stored into new_dataset variable name and should have exactly same format as the original dataset.\n"
      ]
    },
    {
      "cell_type": "code",
      "execution_count": 64,
      "metadata": {
        "id": "XJuMk-OVFleC"
      },
      "outputs": [],
      "source": [
        "# Your code here\n",
        "import random\n",
        "import numpy as np\n",
        "\n",
        "\n",
        "\n",
        "# Load  MNIST dataset\n",
        "(x_train, y_train), (x_test, y_test) = tf.keras.datasets.mnist.load_data()\n",
        "\n",
        "\n",
        "\n",
        "# Create a new empty list\n",
        "X_train = []\n",
        "Y_train = []\n",
        "\n",
        "for label in np.unique(y_train):\n",
        "    \n",
        "    label = np.where(y_train == label)[0]\n",
        "    # Randomly select \n",
        "    select = random.sample(list(label),600)    \n",
        "\n",
        "    # Add the selected images \n",
        "    for label in select:\n",
        "        X_train.append(x_train[label])\n",
        "        Y_train.append(y_train[label])\n",
        "\n",
        "\n",
        "new_trainX = np.array(X_train)\n",
        "new_trainY = np.array(Y_train)\n",
        "\n"
      ]
    },
    {
      "cell_type": "code",
      "source": [
        "# Create a new empty list \n",
        "X_test = []\n",
        "Y_test = []\n",
        "\n",
        "for label in np.unique(y_test):\n",
        "    \n",
        "    label = np.where(y_test == label)[0]\n",
        "    # Randomly select \n",
        "    selected = random.sample(list(label), 100)\n",
        "    # Add the selected images \n",
        "    for index in selected:\n",
        "        X_test.append(x_test[index])\n",
        "        Y_test.append(y_test[index])\n",
        "\n",
        "# Convert the new dataset to numpy arrays\n",
        "new_testX = np.array(X_test)\n",
        "new_testY = np.array(Y_test)\n",
        "\n",
        "\n",
        "print(\"training dataset:\", new_trainX.shape)\n",
        "print(\"testing dataset:\", new_testX.shape)\n",
        "\n",
        "# Save the new datasets to a new variable\n",
        "new_dataset = ((new_trainX, new_trainY), (new_testX, new_testY))"
      ],
      "metadata": {
        "colab": {
          "base_uri": "https://localhost:8080/"
        },
        "id": "u6qTtNGGzT6H",
        "outputId": "d10d3a81-c08d-42fa-977d-9be0720fb0f3"
      },
      "execution_count": 66,
      "outputs": [
        {
          "output_type": "stream",
          "name": "stdout",
          "text": [
            "training dataset: (6000, 28, 28)\n",
            "testing dataset: (1000, 28, 28)\n"
          ]
        }
      ]
    },
    {
      "cell_type": "markdown",
      "metadata": {
        "id": "DjiccHoOFleD"
      },
      "source": [
        "# Validation of Task"
      ]
    },
    {
      "cell_type": "code",
      "execution_count": 67,
      "metadata": {
        "id": "rabXGkV4FleE",
        "colab": {
          "base_uri": "https://localhost:8080/",
          "height": 1000
        },
        "outputId": "c2c7a140-92a0-4e28-e5d8-3ba2056980b6"
      },
      "outputs": [
        {
          "output_type": "stream",
          "name": "stdout",
          "text": [
            "(28, 28)\n",
            "___________________\n",
            "There are 6000 labels in training dataset for 6000 images in training dataset\n",
            "There are 1000 labels in training dataset for 1000 images in training dataset\n",
            "___________________\n",
            "\n",
            "\n",
            "There are 10 unique classes in training dataset\n",
            "Breakdown of each labels is below (format: dict key is label, dict value is occurrence of that label/ number of images for that label)\n"
          ]
        },
        {
          "output_type": "display_data",
          "data": {
            "text/plain": [
              "Counter({0: 600,\n",
              "         1: 600,\n",
              "         2: 600,\n",
              "         3: 600,\n",
              "         4: 600,\n",
              "         5: 600,\n",
              "         6: 600,\n",
              "         7: 600,\n",
              "         8: 600,\n",
              "         9: 600})"
            ]
          },
          "metadata": {}
        },
        {
          "output_type": "stream",
          "name": "stdout",
          "text": [
            "There are 10 unique classes in validation dataset\n",
            "Breakdown of each labels is below (format: dict key is label, dict value is occurrence of that label/ number of images for that label)\n"
          ]
        },
        {
          "output_type": "display_data",
          "data": {
            "text/plain": [
              "Counter({0: 100,\n",
              "         1: 100,\n",
              "         2: 100,\n",
              "         3: 100,\n",
              "         4: 100,\n",
              "         5: 100,\n",
              "         6: 100,\n",
              "         7: 100,\n",
              "         8: 100,\n",
              "         9: 100})"
            ]
          },
          "metadata": {}
        },
        {
          "output_type": "stream",
          "name": "stdout",
          "text": [
            "___________________\n",
            "\n",
            "\n",
            "Randomly printing 10 images with labels from training dataset\n",
            "index: 452\n",
            "Lable: 0\n"
          ]
        },
        {
          "output_type": "display_data",
          "data": {
            "text/plain": [
              "<Figure size 432x288 with 1 Axes>"
            ],
            "image/png": "[encoded data removed]"
          },
          "metadata": {
            "needs_background": "light"
          }
        },
        {
          "output_type": "stream",
          "name": "stdout",
          "text": [
            "index: 3296\n",
            "Lable: 5\n"
          ]
        },
        {
          "output_type": "display_data",
          "data": {
            "text/plain": [
              "<Figure size 432x288 with 1 Axes>"
            ],
            "image/png": "[encoded data removed]"
          },
          "metadata": {
            "needs_background": "light"
          }
        },
        {
          "output_type": "stream",
          "name": "stdout",
          "text": [
            "index: 954\n",
            "Lable: 1\n"
          ]
        },
        {
          "output_type": "display_data",
          "data": {
            "text/plain": [
              "<Figure size 432x288 with 1 Axes>"
            ],
            "image/png": "[encoded data removed]"
          },
          "metadata": {
            "needs_background": "light"
          }
        },
        {
          "output_type": "stream",
          "name": "stdout",
          "text": [
            "index: 195\n",
            "Lable: 0\n"
          ]
        },
        {
          "output_type": "display_data",
          "data": {
            "text/plain": [
              "<Figure size 432x288 with 1 Axes>"
            ],
            "image/png": "[encoded data removed]"
          },
          "metadata": {
            "needs_background": "light"
          }
        },
        {
          "output_type": "stream",
          "name": "stdout",
          "text": [
            "index: 873\n",
            "Lable: 1\n"
          ]
        },
        {
          "output_type": "display_data",
          "data": {
            "text/plain": [
              "<Figure size 432x288 with 1 Axes>"
            ],
            "image/png": "[encoded data removed]"
          },
          "metadata": {
            "needs_background": "light"
          }
        },
        {
          "output_type": "stream",
          "name": "stdout",
          "text": [
            "index: 1118\n",
            "Lable: 1\n"
          ]
        },
        {
          "output_type": "display_data",
          "data": {
            "text/plain": [
              "<Figure size 432x288 with 1 Axes>"
            ],
            "image/png": "[encoded data removed]"
          },
          "metadata": {
            "needs_background": "light"
          }
        },
        {
          "output_type": "stream",
          "name": "stdout",
          "text": [
            "index: 5744\n",
            "Lable: 9\n"
          ]
        },
        {
          "output_type": "display_data",
          "data": {
            "text/plain": [
              "<Figure size 432x288 with 1 Axes>"
            ],
            "image/png": "[encoded data removed]"
          },
          "metadata": {
            "needs_background": "light"
          }
        },
        {
          "output_type": "stream",
          "name": "stdout",
          "text": [
            "index: 1780\n",
            "Lable: 2\n"
          ]
        },
        {
          "output_type": "display_data",
          "data": {
            "text/plain": [
              "<Figure size 432x288 with 1 Axes>"
            ],
            "image/png": "[encoded data removed]"
          },
          "metadata": {
            "needs_background": "light"
          }
        },
        {
          "output_type": "stream",
          "name": "stdout",
          "text": [
            "index: 2134\n",
            "Lable: 3\n"
          ]
        },
        {
          "output_type": "display_data",
          "data": {
            "text/plain": [
              "<Figure size 432x288 with 1 Axes>"
            ],
            "image/png": "[encoded data removed]"
          },
          "metadata": {
            "needs_background": "light"
          }
        },
        {
          "output_type": "stream",
          "name": "stdout",
          "text": [
            "index: 3465\n",
            "Lable: 5\n"
          ]
        },
        {
          "output_type": "display_data",
          "data": {
            "text/plain": [
              "<Figure size 432x288 with 1 Axes>"
            ],
            "image/png": "[encoded data removed]"
          },
          "metadata": {
            "needs_background": "light"
          }
        },
        {
          "output_type": "stream",
          "name": "stdout",
          "text": [
            "___________________\n",
            "\n",
            "\n",
            "Randomly printing 10 images with labels from testing dataset\n",
            "index: 1027\n",
            "Lable: 1\n"
          ]
        },
        {
          "output_type": "display_data",
          "data": {
            "text/plain": [
              "<Figure size 432x288 with 1 Axes>"
            ],
            "image/png": "[encoded data removed]"
          },
          "metadata": {
            "needs_background": "light"
          }
        },
        {
          "output_type": "stream",
          "name": "stdout",
          "text": [
            "index: 1485\n",
            "Lable: 2\n"
          ]
        },
        {
          "output_type": "display_data",
          "data": {
            "text/plain": [
              "<Figure size 432x288 with 1 Axes>"
            ],
            "image/png": "[encoded data removed]"
          },
          "metadata": {
            "needs_background": "light"
          }
        },
        {
          "output_type": "stream",
          "name": "stdout",
          "text": [
            "index: 1934\n",
            "Lable: 3\n"
          ]
        },
        {
          "output_type": "display_data",
          "data": {
            "text/plain": [
              "<Figure size 432x288 with 1 Axes>"
            ],
            "image/png": "[encoded data removed]"
          },
          "metadata": {
            "needs_background": "light"
          }
        },
        {
          "output_type": "stream",
          "name": "stdout",
          "text": [
            "index: 1359\n",
            "Lable: 2\n"
          ]
        },
        {
          "output_type": "display_data",
          "data": {
            "text/plain": [
              "<Figure size 432x288 with 1 Axes>"
            ],
            "image/png": "[encoded data removed]"
          },
          "metadata": {
            "needs_background": "light"
          }
        },
        {
          "output_type": "stream",
          "name": "stdout",
          "text": [
            "index: 5032\n",
            "Lable: 8\n"
          ]
        },
        {
          "output_type": "display_data",
          "data": {
            "text/plain": [
              "<Figure size 432x288 with 1 Axes>"
            ],
            "image/png": "[encoded data removed]"
          },
          "metadata": {
            "needs_background": "light"
          }
        },
        {
          "output_type": "stream",
          "name": "stdout",
          "text": [
            "index: 1919\n",
            "Lable: 3\n"
          ]
        },
        {
          "output_type": "display_data",
          "data": {
            "text/plain": [
              "<Figure size 432x288 with 1 Axes>"
            ],
            "image/png": "[encoded data removed]"
          },
          "metadata": {
            "needs_background": "light"
          }
        },
        {
          "output_type": "stream",
          "name": "stdout",
          "text": [
            "index: 3527\n",
            "Lable: 5\n"
          ]
        },
        {
          "output_type": "display_data",
          "data": {
            "text/plain": [
              "<Figure size 432x288 with 1 Axes>"
            ],
            "image/png": "[encoded data removed]"
          },
          "metadata": {
            "needs_background": "light"
          }
        },
        {
          "output_type": "stream",
          "name": "stdout",
          "text": [
            "index: 3301\n",
            "Lable: 5\n"
          ]
        },
        {
          "output_type": "display_data",
          "data": {
            "text/plain": [
              "<Figure size 432x288 with 1 Axes>"
            ],
            "image/png": "[encoded data removed]"
          },
          "metadata": {
            "needs_background": "light"
          }
        },
        {
          "output_type": "stream",
          "name": "stdout",
          "text": [
            "index: 644\n",
            "Lable: 1\n"
          ]
        },
        {
          "output_type": "display_data",
          "data": {
            "text/plain": [
              "<Figure size 432x288 with 1 Axes>"
            ],
            "image/png": "[encoded data removed]"
          },
          "metadata": {
            "needs_background": "light"
          }
        },
        {
          "output_type": "stream",
          "name": "stdout",
          "text": [
            "index: 1014\n",
            "Lable: 1\n"
          ]
        },
        {
          "output_type": "display_data",
          "data": {
            "text/plain": [
              "<Figure size 432x288 with 1 Axes>"
            ],
            "image/png": "[encoded data removed]"
          },
          "metadata": {
            "needs_background": "light"
          }
        },
        {
          "output_type": "stream",
          "name": "stdout",
          "text": [
            "___________________\n",
            "\n",
            "\n"
          ]
        }
      ],
      "source": [
        "# Checking the shape of first image in new training dataset\n",
        "print(new_dataset[0][0][0].shape)\n",
        "print(\"___________________\")\n",
        "\n",
        "\n",
        "# Checking the size of dataset\n",
        "print(\"There are\",len(new_dataset[0][1]),\"labels in training dataset for\",len(new_dataset[0][0]),\"images in training dataset\")\n",
        "print(\"There are\",len(new_dataset[1][1]),\"labels in training dataset for\",len(new_dataset[1][0]),\"images in training dataset\")\n",
        "print(\"___________________\\n\\n\")\n",
        "# Excepted output\n",
        "# There are 6000 labels in training dataset for 6000 images in training dataset\n",
        "# There are 1000 labels in training dataset for 1000 images in training dataset\n",
        "\n",
        "\n",
        "\n",
        "\n",
        "# Checking the number of images per class\n",
        "print(\"There are\", len(set(new_dataset[0][1])),\"unique classes in training dataset\")\n",
        "print(\"Breakdown of each labels is below (format: dict key is label, dict value is occurrence of that label/ number of images for that label)\")\n",
        "display(collections.Counter(new_dataset[0][1]))\n",
        "print(\"There are\", len(set(new_dataset[1][1])),\"unique classes in validation dataset\")\n",
        "print(\"Breakdown of each labels is below (format: dict key is label, dict value is occurrence of that label/ number of images for that label)\")\n",
        "display(collections.Counter(new_dataset[1][1]))\n",
        "print(\"___________________\\n\\n\")\n",
        "# Expected output\n",
        "# There are 10 unique classes in training dataset\n",
        "# Breakdown of each labels is below (format: dict key is label, dict value is occurrence of that label/ number of images for that label)\n",
        "# Counter({0: 600,\n",
        "#          1: 600,\n",
        "#          2: 600,\n",
        "#          3: 600,\n",
        "#          4: 600,\n",
        "#          5: 600,\n",
        "#          6: 600,\n",
        "#          7: 600,\n",
        "#          8: 600,\n",
        "#          9: 600})\n",
        "# There are 10 unique classes in validation dataset\n",
        "# Breakdown of each labels is below (format: dict key is label, dict value is occurrence of that label/ number of images for that label)\n",
        "# Counter({0: 100,\n",
        "#          1: 100,\n",
        "#          2: 100,\n",
        "#          3: 100,\n",
        "#          4: 100,\n",
        "#          5: 100,\n",
        "#          6: 100,\n",
        "#          7: 100,\n",
        "#          8: 100,\n",
        "#          9: 100})\n",
        "\n",
        "\n",
        "# Checking the correctness of indexing of image and its labels\n",
        "print(\"Randomly printing 10 images with labels from training dataset\")\n",
        "display_random_images_with_labels(new_dataset[0])\n",
        "print(\"___________________\\n\\n\")\n",
        "print(\"Randomly printing 10 images with labels from testing dataset\")\n",
        "display_random_images_with_labels(new_dataset[0])\n",
        "print(\"___________________\\n\\n\")\n",
        "\n"
      ]
    }
  ],
  "metadata": {
    "kernelspec": {
      "display_name": "unet_ml11",
      "language": "python",
      "name": "unet_ml11"
    },
    "language_info": {
      "codemirror_mode": {
        "name": "ipython",
        "version": 3
      },
      "file_extension": ".py",
      "mimetype": "text/x-python",
      "name": "python",
      "nbconvert_exporter": "python",
      "pygments_lexer": "ipython3",
      "version": "3.6.9"
    },
    "colab": {
      "provenance": [],
      "include_colab_link": true
    }
  },
  "nbformat": 4,
  "nbformat_minor": 0
}