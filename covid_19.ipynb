{
  "nbformat": 4,
  "nbformat_minor": 0,
  "metadata": {
    "colab": {
      "provenance": [],
      "authorship_tag": "ABX9TyMoXXHs9Eaf9CAgEWlrRWA7",
      "include_colab_link": true
    },
    "kernelspec": {
      "name": "python3",
      "display_name": "Python 3"
    },
    "language_info": {
      "name": "python"
    }
  },
  "cells": [
    {
      "cell_type": "markdown",
      "metadata": {
        "id": "view-in-github",
        "colab_type": "text"
      },
      "source": [
        "<a href=\"https://colab.research.google.com/github/SamanMansoor/Data-Science/blob/main/covid_19.ipynb\" target=\"_parent\"><img src=\"https://colab.research.google.com/assets/colab-badge.svg\" alt=\"Open In Colab\"/></a>"
      ]
    },
    {
      "cell_type": "code",
      "source": [
        "import numpy as np\n",
        "import os\n",
        "from matplotlib import pyplot\n",
        "from sklearn.model_selection import KFold\n",
        "from keras.preprocessing.image import ImageDataGenerator\n",
        "from keras.models import Sequential\n",
        "from keras.layers import Conv2D, MaxPooling2D, Flatten, Dense\n",
        "from keras.optimizers import SGD\n",
        "import numpy as np\n",
        "\n"
      ],
      "metadata": {
        "id": "VsiflMRPpOKE"
      },
      "execution_count": 3,
      "outputs": []
    },
    {
      "cell_type": "code",
      "source": [
        "# Load COVID-19 dataset\n",
        "def load_dataset():\n",
        "    train_datagen = ImageDataGenerator(rescale=1.0/255.0)\n",
        "    test_datagen = ImageDataGenerator(rescale=1.0/255.0)\n",
        "\n",
        "    train_dir = '/content/covid/test'\n",
        "    test_dir = '/content/covid/train'\n",
        "    \n",
        "\n",
        "    train_generator = train_datagen.flow_from_directory(\n",
        "        train_dir,\n",
        "        target_size=(28, 28),\n",
        "        color_mode='grayscale',\n",
        "        batch_size=32,\n",
        "        class_mode='categorical'\n",
        "    )\n",
        "\n",
        "    test_generator = test_datagen.flow_from_directory(\n",
        "        test_dir,\n",
        "        target_size=(28, 28),\n",
        "        color_mode='grayscale',\n",
        "        batch_size=32,\n",
        "        class_mode='categorical'\n",
        "    )\n",
        "\n",
        "    return train_generator, test_generator\n",
        "\n",
        "train_generator, test_generator = load_dataset()"
      ],
      "metadata": {
        "colab": {
          "base_uri": "https://localhost:8080/"
        },
        "id": "C_1Q7uvdpV30",
        "outputId": "c4999a55-8114-4b09-a6fa-a0a54b2f5480"
      },
      "execution_count": 6,
      "outputs": [
        {
          "output_type": "stream",
          "name": "stdout",
          "text": [
            "Found 66 images belonging to 4 classes.\n",
            "Found 251 images belonging to 4 classes.\n"
          ]
        }
      ]
    },
    {
      "cell_type": "code",
      "source": [
        "import numpy as np\n",
        "\n",
        "def prep_pixels(train_generator, test_generator):\n",
        "    # convert from integers to floats\n",
        "    train_samples = len(train_generator.filenames)\n",
        "    test_samples = len(test_generator.filenames)\n",
        "\n",
        "    train_shape = train_generator.image_shape\n",
        "    test_shape = test_generator.image_shape\n",
        "\n",
        "    train_data = np.zeros((train_samples, *train_shape), dtype='float32')\n",
        "    test_data = np.zeros((test_samples, *test_shape), dtype='float32')\n",
        "\n",
        "    for i in range(train_samples):\n",
        "        train_data[i] = train_generator.next()[0][0] / 255.0\n",
        "  \n",
        "    for i in range(test_samples):\n",
        "        test_data[i] = test_generator.next()[0][0] / 255.0\n",
        "\n",
        "    return train_data, test_data\n",
        "\n",
        "# prepare pixel data\n",
        "train_norm, test_norm = prep_pixels(train_generator, test_generator)\n"
      ],
      "metadata": {
        "id": "pI3n5KNXpghr"
      },
      "execution_count": 7,
      "outputs": []
    },
    {
      "cell_type": "code",
      "execution_count": 8,
      "metadata": {
        "colab": {
          "base_uri": "https://localhost:8080/",
          "height": 1000
        },
        "id": "t2pKP80wlHTi",
        "outputId": "d835cbcb-41ad-42fd-995d-4c8e8d7b7872"
      },
      "outputs": [
        {
          "output_type": "stream",
          "name": "stdout",
          "text": [
            "Found 66 images belonging to 4 classes.\n",
            "Found 251 images belonging to 4 classes.\n",
            "Model: \"sequential_3\"\n",
            "_________________________________________________________________\n",
            " Layer (type)                Output Shape              Param #   \n",
            "=================================================================\n",
            " conv2d_3 (Conv2D)           (None, 26, 26, 32)        320       \n",
            "                                                                 \n",
            " max_pooling2d_3 (MaxPooling  (None, 13, 13, 32)       0         \n",
            " 2D)                                                             \n",
            "                                                                 \n",
            " flatten_3 (Flatten)         (None, 5408)              0         \n",
            "                                                                 \n",
            " dense_6 (Dense)             (None, 100)               540900    \n",
            "                                                                 \n",
            " dense_7 (Dense)             (None, 4)                 404       \n",
            "                                                                 \n",
            "=================================================================\n",
            "Total params: 541,624\n",
            "Trainable params: 541,624\n",
            "Non-trainable params: 0\n",
            "_________________________________________________________________\n",
            "> 68.750\n",
            "Model: \"sequential_4\"\n",
            "_________________________________________________________________\n",
            " Layer (type)                Output Shape              Param #   \n",
            "=================================================================\n",
            " conv2d_4 (Conv2D)           (None, 26, 26, 32)        320       \n",
            "                                                                 \n",
            " max_pooling2d_4 (MaxPooling  (None, 13, 13, 32)       0         \n",
            " 2D)                                                             \n",
            "                                                                 \n",
            " flatten_4 (Flatten)         (None, 5408)              0         \n",
            "                                                                 \n",
            " dense_8 (Dense)             (None, 100)               540900    \n",
            "                                                                 \n",
            " dense_9 (Dense)             (None, 4)                 404       \n",
            "                                                                 \n",
            "=================================================================\n",
            "Total params: 541,624\n",
            "Trainable params: 541,624\n",
            "Non-trainable params: 0\n",
            "_________________________________________________________________\n"
          ]
        },
        {
          "output_type": "stream",
          "name": "stderr",
          "text": [
            "WARNING:tensorflow:5 out of the last 13 calls to <function Model.make_train_function.<locals>.train_function at 0x7f15dd56f400> triggered tf.function retracing. Tracing is expensive and the excessive number of tracings could be due to (1) creating @tf.function repeatedly in a loop, (2) passing tensors with different shapes, (3) passing Python objects instead of tensors. For (1), please define your @tf.function outside of the loop. For (2), @tf.function has reduce_retracing=True option that can avoid unnecessary retracing. For (3), please refer to https://www.tensorflow.org/guide/function#controlling_retracing and https://www.tensorflow.org/api_docs/python/tf/function for  more details.\n"
          ]
        },
        {
          "output_type": "stream",
          "name": "stdout",
          "text": [
            "> 37.500\n",
            "Model: \"sequential_5\"\n",
            "_________________________________________________________________\n",
            " Layer (type)                Output Shape              Param #   \n",
            "=================================================================\n",
            " conv2d_5 (Conv2D)           (None, 26, 26, 32)        320       \n",
            "                                                                 \n",
            " max_pooling2d_5 (MaxPooling  (None, 13, 13, 32)       0         \n",
            " 2D)                                                             \n",
            "                                                                 \n",
            " flatten_5 (Flatten)         (None, 5408)              0         \n",
            "                                                                 \n",
            " dense_10 (Dense)            (None, 100)               540900    \n",
            "                                                                 \n",
            " dense_11 (Dense)            (None, 4)                 404       \n",
            "                                                                 \n",
            "=================================================================\n",
            "Total params: 541,624\n",
            "Trainable params: 541,624\n",
            "Non-trainable params: 0\n",
            "_________________________________________________________________\n"
          ]
        },
        {
          "output_type": "stream",
          "name": "stderr",
          "text": [
            "WARNING:tensorflow:5 out of the last 13 calls to <function Model.make_train_function.<locals>.train_function at 0x7f15dd6c4820> triggered tf.function retracing. Tracing is expensive and the excessive number of tracings could be due to (1) creating @tf.function repeatedly in a loop, (2) passing tensors with different shapes, (3) passing Python objects instead of tensors. For (1), please define your @tf.function outside of the loop. For (2), @tf.function has reduce_retracing=True option that can avoid unnecessary retracing. For (3), please refer to https://www.tensorflow.org/guide/function#controlling_retracing and https://www.tensorflow.org/api_docs/python/tf/function for  more details.\n"
          ]
        },
        {
          "output_type": "stream",
          "name": "stdout",
          "text": [
            "> 50.000\n"
          ]
        },
        {
          "output_type": "display_data",
          "data": {
            "text/plain": [
              "<Figure size 640x480 with 2 Axes>"
            ],
            "image/png": "[encoded data removed]"
          },
          "metadata": {}
        }
      ],
      "source": [
        "\n",
        "def define_model():\n",
        "    model = Sequential()\n",
        "    model.add(Conv2D(32, (3, 3), activation='relu', kernel_initializer='he_uniform', input_shape=(28, 28, 1)))\n",
        "    model.add(MaxPooling2D((2, 2)))\n",
        "    model.add(Flatten())\n",
        "    model.add(Dense(100, activation='relu', kernel_initializer='he_uniform'))\n",
        "    model.add(Dense(4, activation='softmax'))  # Update the number of units to 4\n",
        "    opt = SGD(lr=0.01, momentum=0.9)\n",
        "    model.compile(optimizer=opt, loss='categorical_crossentropy', metrics=['accuracy'])\n",
        "    model.summary()\n",
        "    return model\n",
        "\n",
        "\n",
        "\n",
        "# Train and evaluate the model\n",
        "def train_and_evaluate_model(train_generator, test_generator, n_folds=3):\n",
        "    scores, histories = [], []\n",
        "    kfold = KFold(n_folds, shuffle=True, random_state=1)\n",
        "    for train_ix, test_ix in kfold.split(train_generator):\n",
        "        model = define_model()\n",
        "        train_batch = next(train_generator)\n",
        "        test_batch = next(train_generator)\n",
        "        trainX, trainY = train_batch[0], train_batch[1]\n",
        "        testX, testY = test_batch[0], test_batch[1]\n",
        "        history = model.fit(trainX, trainY, epochs=3, batch_size=32, validation_data=(testX, testY), verbose=0)\n",
        "        _, acc = model.evaluate(testX, testY, verbose=0)\n",
        "        print('> %.3f' % (acc * 100.0))\n",
        "        scores.append(acc)\n",
        "        histories.append(history)\n",
        "    return scores, histories\n",
        "\n",
        "# Plot diagnostic learning curves\n",
        "def summarize_diagnostics(histories):\n",
        "    for i in range(len(histories)):\n",
        "        pyplot.subplot(2, 1, 1)\n",
        "        pyplot.title('Cross Entropy Loss')\n",
        "        pyplot.plot(histories[i].history['loss'], color='blue', label='train')\n",
        "        pyplot.plot(histories[i].history['val_loss'], color='orange', label='test')\n",
        "        pyplot.subplot(2, 1, 2)\n",
        "        pyplot.title('Classification Accuracy')\n",
        "        pyplot.plot(histories[i].history['accuracy'], color='blue', label='train')\n",
        "        pyplot.plot(histories[i].history['val_accuracy'], color='orange', label='test')\n",
        "    pyplot.show()\n",
        "\n",
        "\n",
        "# summarize model performance\n",
        "def summarize_performance(scores):\n",
        "  # print summary\n",
        "  print('Accuracy: mean=%.3f std=%.3f, n=%d' % (mean(scores)*100, std(scores)*100, len(scores)))\n",
        "  # box and whisker plots of results\n",
        "  pyplot.boxplot(scores)\n",
        "  pyplot.show()\n",
        "\n",
        "\n",
        "# Run the test harness\n",
        "def run_test_harness():\n",
        "    train_generator, test_generator = load_dataset()\n",
        "    scores, histories = train_and_evaluate_model(train_generator, test_generator)\n",
        "    summarize_diagnostics(histories)\n",
        "\n",
        "run_test_harness()\n"
      ]
    }
  ]
}