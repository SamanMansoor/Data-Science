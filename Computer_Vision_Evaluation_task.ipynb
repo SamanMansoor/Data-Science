{
  "nbformat": 4,
  "nbformat_minor": 0,
  "metadata": {
    "colab": {
      "provenance": [],
      "authorship_tag": "ABX9TyMRhQ+eCzA6veDwKcWD1lQB",
      "include_colab_link": true
    },
    "kernelspec": {
      "name": "python3",
      "display_name": "Python 3"
    },
    "language_info": {
      "name": "python"
    }
  },
  "cells": [
    {
      "cell_type": "markdown",
      "metadata": {
        "id": "view-in-github",
        "colab_type": "text"
      },
      "source": [
        "<a href=\"https://colab.research.google.com/github/SamanMansoor/Data-Science/blob/main/Computer_Vision_Evaluation_task.ipynb\" target=\"_parent\"><img src=\"https://colab.research.google.com/assets/colab-badge.svg\" alt=\"Open In Colab\"/></a>"
      ]
    },
    {
      "cell_type": "markdown",
      "source": [
        "# **VGG formatted JSON annotations file into COCO format**"
      ],
      "metadata": {
        "id": "KbkLkbt9rJDj"
      }
    },
    {
      "cell_type": "code",
      "source": [
        "import json\n",
        "from pycocotools import mask as maskUtils\n",
        "from PIL import Image\n",
        "\n",
        "# Load the VIA annotations from the JSON file\n",
        "with open('/content/cat_dog_annotations.json') as f:\n",
        "    data = json.load(f)\n",
        "\n",
        "# Initialize the COCO dataset object\n",
        "dataset = {\n",
        "    \"info\": {},\n",
        "    \"licenses\": [],\n",
        "    \"categories\": [{\"id\": 1, \"name\": \"dog\"}, {\"id\": 2, \"name\": \"cat\"}],\n",
        "    \"images\": [],\n",
        "    \"annotations\": []\n",
        "}\n",
        "\n",
        "# Add images and annotations to the dataset object\n",
        "image_id = 1\n",
        "annotation_id = 1\n",
        "for filename in data['_via_img_metadata']:\n",
        "    # Add the image to the dataset\n",
        "    img = Image.open(\"/content/1.jpeg\")\n",
        "    img = Image.open(\"/content/2.jpeg\")\n",
        "    img = Image.open(\"/content/3.jpeg\")\n",
        "    img = Image.open(\"/content/4.jpeg\")\n",
        "    img = Image.open(\"/content/5.jpeg\")\n",
        "    img = Image.open(\"/content/6.jpeg\")\n",
        "    img = Image.open(\"/content/7.jpeg\")\n",
        "    width, height = img.size\n",
        "    dataset['images'].append({\n",
        "        \"id\": image_id,\n",
        "        \"width\": width,\n",
        "        \"height\": height,\n",
        "        \"file_name\": filename\n",
        "    })\n",
        "\n",
        "    # Add annotations to the dataset\n",
        "    for region in data['_via_img_metadata'][filename]['regions']:\n",
        "        x, y, w, h = region['shape_attributes']['x'], region['shape_attributes']['y'], region['shape_attributes']['width'], region['shape_attributes']['height']\n",
        "        category = region['region_attributes']['class']\n",
        "        if category == {'dog': True}:\n",
        "            category_id = 1\n",
        "        elif category == {'cat': True}:\n",
        "            category_id = 2\n",
        "        else:\n",
        "            continue\n",
        "        area = w * h\n",
        "        bbox = [x, y, w, h]\n",
        "        segmentation = [[x, y, x+w, y, x+w, y+h, x, y+h]]\n",
        "        annotation = {\n",
        "            \"id\": annotation_id,\n",
        "            \"image_id\": image_id,\n",
        "            \"category_id\": category_id,\n",
        "            \"bbox\": bbox,\n",
        "            \"area\": area,\n",
        "            \"segmentation\": segmentation,\n",
        "            \"iscrowd\": 0\n",
        "        }\n",
        "        dataset['annotations'].append(annotation)\n",
        "        annotation_id += 1\n",
        "\n",
        "    image_id += 1\n",
        "\n",
        "# Save the dataset object to a JSON file\n",
        "with open('coco_annotations.json', 'w') as f:\n",
        "    json.dump(dataset, f)\n"
      ],
      "metadata": {
        "id": "llOL93yNo3Fj"
      },
      "execution_count": 15,
      "outputs": []
    },
    {
      "cell_type": "markdown",
      "source": [
        "# **Resize that image from resize scale percentage 60 to 100 randomly. Thats mean the resulting images will be between 60% to 100% of original size. Do forget to adjust the bounding boxes according to new resized image.**"
      ],
      "metadata": {
        "id": "kSdPuJDErnYG"
      }
    },
    {
      "cell_type": "code",
      "execution_count": 6,
      "metadata": {
        "id": "J0soJLYeguMu"
      },
      "outputs": [],
      "source": [
        "import random\n",
        "import os\n",
        "from pycocotools import mask as maskUtils\n",
        "from PIL import Image\n",
        "img_dir=\"/content/Output\"\n",
        "for filename in os.listdir(img_dir):\n",
        "    if filename.endswith(\".jpeg\"):\n",
        "\n",
        "        # open the image file\n",
        "        img = Image.open(os.path.join(img_dir, filename))\n",
        "         # Generate a random scale factor between 0.6 and 1.0\n",
        "        scale_factor = random.uniform(0.6, 1.0)\n",
        "        # Calculate the new dimensions of the image based on the scale factor\n",
        "        width, height = img.size\n",
        "        new_width = round(width * scale_factor)\n",
        "        new_height = round(height * scale_factor)\n",
        "\n",
        "        # get the original image size\n",
        "        original_size = img.size\n",
        "        \n",
        "\n",
        "        # resize the image to 0.5 times the original size\n",
        "        new_size = tuple(int(x*0.5) for x in original_size)\n",
        "        img_0_5 = img.resize(new_size)\n",
        "\n",
        "        # resize the image to 2 times the original size\n",
        "        new_size = tuple(int(x*2) for x in original_size)\n",
        "        img_2 = img.resize(new_size)\n",
        "\n",
        "        # resize the image to 3 times the original size\n",
        "        new_size = tuple(int(x*3) for x in original_size)\n",
        "        img_3 = img.resize(new_size)\n",
        "\n",
        "        # save the augmented images\n",
        "        img.save(os.path.join(img_dir, filename))\n",
        "        img_0_5.save(os.path.join(img_dir, filename[:-5] + \"_0.5size.jpeg\"))\n",
        "        img_2.save(os.path.join(img_dir, filename[:-5] + \"_2size.jpeg\"))\n",
        "        img_3.save(os.path.join(img_dir, filename[:-5] + \"_3size.jpeg\"))"
      ]
    },
    {
      "cell_type": "markdown",
      "source": [
        "# **Add random brightness to that resized image.**"
      ],
      "metadata": {
        "id": "kiSMAp7-r3iz"
      }
    },
    {
      "cell_type": "code",
      "source": [
        "\n",
        "from PIL import Image, ImageEnhance\n",
        "import numpy as np\n",
        "import os\n",
        "\n",
        "\n",
        "# Function to change the brightness of the image\n",
        "def change_brightness(image_path, factor):\n",
        "    with Image.open(image_path) as img:\n",
        "        enhancer = ImageEnhance.Brightness(img)\n",
        "        enhanced_image = enhancer.enhance(factor)\n",
        "        return enhanced_image\n",
        "\n",
        "# Create directories to save the augmented images\n",
        "\n",
        "if not os.path.exists('Output'):\n",
        "    os.makedirs('Output')\n",
        "    \n",
        "# Augment images with brightness\n",
        "for file in os.listdir('Output'):\n",
        "    if file.endswith('.jpeg'):\n",
        "        for i in range(5):\n",
        "            factor = np.random.uniform(0.5, 1.5)\n",
        "            enhanced_image = change_brightness(f'Output/{file}', factor)\n",
        "            enhanced_image.save(f'Output/{file[:-5]}_{i}.jpeg')"
      ],
      "metadata": {
        "id": "Gw1DDoxZjius"
      },
      "execution_count": 7,
      "outputs": []
    },
    {
      "cell_type": "markdown",
      "source": [
        "# **Rotate that brighter image on an angle n. Don't forget to adjust bounding boxes according to the angle.**\n",
        "\n"
      ],
      "metadata": {
        "id": "P9Nisk1SsAep"
      }
    },
    {
      "cell_type": "code",
      "source": [
        "from PIL import Image, ImageEnhance\n",
        "import numpy as np\n",
        "import os\n",
        "\n",
        "# Function to rotate the image\n",
        "def rotate_image(image_path, degrees):\n",
        "    with Image.open(image_path) as img:\n",
        "        rotated_image = img.rotate(degrees)\n",
        "        return rotated_image\n",
        "# Create directories to save the augmented images\n",
        "if not os.path.exists('Output'):\n",
        "    os.makedirs('Output')\n",
        "# Augment images with rotation\n",
        "for file in os.listdir('Output'):\n",
        "    if file.endswith('.jpeg'):\n",
        "        for i in range(72):\n",
        "            degrees = i * 5\n",
        "            rotated_image = rotate_image(f'Output/{file}', degrees)\n",
        "            rotated_image.save(f'Output/{file[:-5]}_{degrees}.jpeg')"
      ],
      "metadata": {
        "id": "tMirNGt7kH3E"
      },
      "execution_count": 8,
      "outputs": []
    }
  ]
}