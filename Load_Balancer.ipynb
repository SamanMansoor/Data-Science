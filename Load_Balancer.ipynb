{
  "nbformat": 4,
  "nbformat_minor": 0,
  "metadata": {
    "colab": {
      "provenance": [],
      "authorship_tag": "ABX9TyOddp6G6D3AVWzEIQwosOD+",
      "include_colab_link": true
    },
    "kernelspec": {
      "name": "python3",
      "display_name": "Python 3"
    },
    "language_info": {
      "name": "python"
    }
  },
  "cells": [
    {
      "cell_type": "markdown",
      "metadata": {
        "id": "view-in-github",
        "colab_type": "text"
      },
      "source": [
        "<a href=\"https://colab.research.google.com/github/SamanMansoor/Data-Science/blob/main/Load_Balancer.ipynb\" target=\"_parent\"><img src=\"https://colab.research.google.com/assets/colab-badge.svg\" alt=\"Open In Colab\"/></a>"
      ]
    },
    {
      "cell_type": "code",
      "source": [
        "import traceback\n",
        "from flask import Flask\n",
        "from flask import request\n",
        "class ML:\n",
        "    def __init__(self):\n",
        "        self.avaliable_models = {\n",
        "\n",
        "            \"shoe_detection\": \"/additional_drive/ML/shoe_detection\",\n",
        "            \"cloth_detection\": \"/additional_drive/ML/cloth_detection\"\n",
        "        }\n",
        "        self.loaded_models_limit = 2\n",
        "        self.loaded_models = {\n",
        "            model: {\"path\": self.load_weights(model), \"count\": 0}\n",
        "            for model in list(self.avaliable_models)[:self.loaded_models_limit]\n",
        "        }\n",
        "    \n",
        "    def load_weights(self, model):\n",
        "        return self.avaliable_models.get(model,None)\n",
        "\n",
        "    def load_balancer(self, new_model):\n",
        "        least_used_model = min(self.loaded_models, key=lambda k: self.loaded_models[k][\"count\"])\n",
        "        self.loaded_models[least_used_model] = {\"path\": self.load_weights(new_model), \"count\": 0}\n",
        "\n",
        "    def process_request(self, model):\n",
        "        try:\n",
        "            if model not in self.loaded_models:\n",
        "                self.load_balancer(model)\n",
        "            self.loaded_models[model][\"count\"] += 1\n",
        "            return \"processed by \"+ self.loaded_models[model][\"path\"]\n",
        "        except:\n",
        "            return str(traceback.format_exc())\n",
        "\n",
        "app = Flask(__name__)\n",
        "ml = ML()\n",
        "\n",
        "@app.route('/get_loaded_models', methods=['GET', 'POST'])\n",
        "def get_loaded_models():\n",
        "    return str(ml.loaded_models)\n",
        "\n",
        "@app.route('/process_request', methods=['GET', 'POST'])\n",
        "def process_request():\n",
        "    try:\n",
        "        model = request.form[\"model\"]\n",
        "        return ml.process_request(model)\n",
        "    except:\n",
        "        return str(traceback.format_exc())\n",
        "\n",
        "app.run(host='0.0.0.0', port=5000)\n"
      ],
      "metadata": {
        "colab": {
          "base_uri": "https://localhost:8080/"
        },
        "id": "zk1Rwd_OA5vN",
        "outputId": "57d17be2-b3a1-47db-bde7-7d0e83180bab"
      },
      "execution_count": 19,
      "outputs": [
        {
          "output_type": "stream",
          "name": "stdout",
          "text": [
            " * Serving Flask app '__main__'\n",
            " * Debug mode: off\n"
          ]
        },
        {
          "output_type": "stream",
          "name": "stderr",
          "text": [
            "INFO:werkzeug:\u001b[31m\u001b[1mWARNING: This is a development server. Do not use it in a production deployment. Use a production WSGI server instead.\u001b[0m\n",
            " * Running on all addresses (0.0.0.0)\n",
            " * Running on http://127.0.0.1:5000\n",
            " * Running on http://172.28.0.12:5000\n",
            "INFO:werkzeug:\u001b[33mPress CTRL+C to quit\u001b[0m\n"
          ]
        }
      ]
    }
  ]
}